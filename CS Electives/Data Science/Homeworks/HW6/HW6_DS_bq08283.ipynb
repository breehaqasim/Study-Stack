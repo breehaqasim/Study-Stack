{
 "cells": [
  {
   "cell_type": "markdown",
   "id": "156f9280-a6c3-4b59-b169-cebc5704c4b5",
   "metadata": {},
   "source": [
    "# **CS/CE 457/464 - Homework Assignment 6: Regression**"
   ]
  },
  {
   "cell_type": "markdown",
   "id": "1034af92-a6f9-4138-894c-df085c4a333d",
   "metadata": {},
   "source": [
    "### Breeha Qasim 08283"
   ]
  },
  {
   "cell_type": "markdown",
   "id": "f1f0a5a5-6e6c-45fa-b8c5-0a74ab5a204c",
   "metadata": {},
   "source": [
    "###### bq08283@st.habib.edu.pk"
   ]
  },
  {
   "cell_type": "code",
   "execution_count": 459,
   "id": "7fbe2b74-4df9-4839-92e0-dc56e0364bef",
   "metadata": {},
   "outputs": [],
   "source": [
    "import pandas as pd\n",
    "import statsmodels.api as sm\n",
    "from statsmodels.formula.api import ols\n",
    "import numpy as np\n",
    "import scipy\n",
    "import matplotlib.pyplot as plt"
   ]
  },
  {
   "cell_type": "code",
   "execution_count": 533,
   "id": "71117ca2-7b99-4cec-9d51-f3b515bff7b0",
   "metadata": {},
   "outputs": [],
   "source": [
    "data = pd.read_csv('HousePricingData.csv')\n",
    "# data"
   ]
  },
  {
   "cell_type": "markdown",
   "id": "f30cdfdd-9843-4f47-abeb-c1cdd450f955",
   "metadata": {},
   "source": [
    "## Q1"
   ]
  },
  {
   "cell_type": "markdown",
   "id": "80f87377-11ea-411d-a787-081d6227bc38",
   "metadata": {},
   "source": [
    "##### Create a regression model between GrLivArea and SalePrice (response variable). Show the scatter plot with regression line between them. Discuss the Rsquared value.e."
   ]
  },
  {
   "cell_type": "code",
   "execution_count": 195,
   "id": "89c39cdb-5fc9-4a0e-a0ec-4594563d520d",
   "metadata": {},
   "outputs": [
    {
     "name": "stdout",
     "output_type": "stream",
     "text": [
      "Task 1 - Model Summary:\n",
      "                            OLS Regression Results                            \n",
      "==============================================================================\n",
      "Dep. Variable:              SalePrice   R-squared:                       0.502\n",
      "Model:                            OLS   Adj. R-squared:                  0.502\n",
      "Method:                 Least Squares   F-statistic:                     1471.\n",
      "Date:                Mon, 14 Oct 2024   Prob (F-statistic):          4.52e-223\n",
      "Time:                        08:15:25   Log-Likelihood:                -18035.\n",
      "No. Observations:                1460   AIC:                         3.607e+04\n",
      "Df Residuals:                    1458   BIC:                         3.608e+04\n",
      "Df Model:                           1                                         \n",
      "Covariance Type:            nonrobust                                         \n",
      "==============================================================================\n",
      "                 coef    std err          t      P>|t|      [0.025      0.975]\n",
      "------------------------------------------------------------------------------\n",
      "const       1.857e+04   4480.755      4.144      0.000    9779.612    2.74e+04\n",
      "GrLivArea    107.1304      2.794     38.348      0.000     101.650     112.610\n",
      "==============================================================================\n",
      "Omnibus:                      261.166   Durbin-Watson:                   2.025\n",
      "Prob(Omnibus):                  0.000   Jarque-Bera (JB):             3432.287\n",
      "Skew:                           0.410   Prob(JB):                         0.00\n",
      "Kurtosis:                      10.467   Cond. No.                     4.90e+03\n",
      "==============================================================================\n",
      "\n",
      "Notes:\n",
      "[1] Standard Errors assume that the covariance matrix of the errors is correctly specified.\n",
      "[2] The condition number is large, 4.9e+03. This might indicate that there are\n",
      "strong multicollinearity or other numerical problems.\n"
     ]
    }
   ],
   "source": [
    "X = sm.add_constant(data['GrLivArea'])  \n",
    "Y = data['SalePrice']\n",
    "model1 = sm.OLS(Y, X).fit()\n",
    "print(\"Task 1 - Model Summary:\")\n",
    "print(model1.summary())"
   ]
  },
  {
   "cell_type": "code",
   "execution_count": 110,
   "id": "14cd4596-8264-402f-a8e6-f7551294599d",
   "metadata": {},
   "outputs": [
    {
     "data": {
      "text/plain": [
       "const         3.606554e-05\n",
       "GrLivArea    4.518034e-223\n",
       "dtype: float64"
      ]
     },
     "execution_count": 110,
     "metadata": {},
     "output_type": "execute_result"
    }
   ],
   "source": [
    "model1.pvalues"
   ]
  },
  {
   "cell_type": "markdown",
   "id": "8bf9336b-b3de-4f73-850f-1d0763016495",
   "metadata": {},
   "source": [
    "##### **^Explanation/Reasoning:** According to the regression analysis, `GrLivArea` is a significant predictor of `SalePrice`, accounting for 50.2% of its variability (R-squared = 0.502). The living area square footage that is added raises the sale price by about $107.13. Strong predictive power is indicated by the statistically significant coefficients of the model, which have small p-values. But the Jarque-Bera test indicates that the residuals are not normal, which could indicate that the model has flaws or that it has to be improved.\r\n",
    "\r\n"
   ]
  },
  {
   "cell_type": "code",
   "execution_count": 113,
   "id": "010220e3-90d5-4145-8749-f2f81bba4b2b",
   "metadata": {},
   "outputs": [
    {
     "data": {
      "image/png": "[encoded data removed]",
      "text/plain": [
       "<Figure size 640x480 with 1 Axes>"
      ]
     },
     "metadata": {},
     "output_type": "display_data"
    }
   ],
   "source": [
    "plt.scatter(data['GrLivArea'], data['SalePrice'], color='blue', label='Data points')\n",
    "plt.plot(data['GrLivArea'], model1.fittedvalues, 'r', label='Fitted line')\n",
    "plt.xlabel('GrLivArea')\n",
    "plt.ylabel('SalePrice')\n",
    "plt.title('Regression Line b/w GrLivArea and SalePrice')\n",
    "plt.legend()\n",
    "plt.show()"
   ]
  },
  {
   "cell_type": "markdown",
   "id": "9cddad48-a099-495a-a875-bcb9d4be0616",
   "metadata": {},
   "source": [
    "## Q2"
   ]
  },
  {
   "cell_type": "markdown",
   "id": "d110cb13-62ab-4476-bdca-a9de830d9219",
   "metadata": {},
   "source": [
    "##### Create a regression model between TotalBsmtSF and LotArea (response variable). Show the scatter plot with regression line between them. Discuss the R-squared value. . "
   ]
  },
  {
   "cell_type": "code",
   "execution_count": 117,
   "id": "dfa8694c-17f0-4b2f-9733-25ec2868675d",
   "metadata": {},
   "outputs": [
    {
     "name": "stdout",
     "output_type": "stream",
     "text": [
      "Task 2 - Model Summary:\n",
      "                            OLS Regression Results                            \n",
      "==============================================================================\n",
      "Dep. Variable:                LotArea   R-squared:                       0.068\n",
      "Model:                            OLS   Adj. R-squared:                  0.067\n",
      "Method:                 Least Squares   F-statistic:                     106.4\n",
      "Date:                Mon, 14 Oct 2024   Prob (F-statistic):           3.91e-24\n",
      "Time:                        06:30:21   Log-Likelihood:                -15464.\n",
      "No. Observations:                1460   AIC:                         3.093e+04\n",
      "Df Residuals:                    1458   BIC:                         3.094e+04\n",
      "Df Model:                           1                                         \n",
      "Covariance Type:            nonrobust                                         \n",
      "===============================================================================\n",
      "                  coef    std err          t      P>|t|      [0.025      0.975]\n",
      "-------------------------------------------------------------------------------\n",
      "const        4241.6386    658.492      6.441      0.000    2949.946    5533.331\n",
      "TotalBsmtSF     5.9344      0.575     10.317      0.000       4.806       7.063\n",
      "==============================================================================\n",
      "Omnibus:                     2613.787   Durbin-Watson:                   2.032\n",
      "Prob(Omnibus):                  0.000   Jarque-Bera (JB):          2702216.991\n",
      "Skew:                          12.411   Prob(JB):                         0.00\n",
      "Kurtosis:                     212.294   Cond. No.                     2.99e+03\n",
      "==============================================================================\n",
      "\n",
      "Notes:\n",
      "[1] Standard Errors assume that the covariance matrix of the errors is correctly specified.\n",
      "[2] The condition number is large, 2.99e+03. This might indicate that there are\n",
      "strong multicollinearity or other numerical problems.\n"
     ]
    }
   ],
   "source": [
    "X = sm.add_constant(data['TotalBsmtSF']) \n",
    "Y = data['LotArea']\n",
    "model2 = sm.OLS(Y, X).fit()\n",
    "print(\"Task 2 - Model Summary:\")\n",
    "print(model2.summary())"
   ]
  },
  {
   "cell_type": "code",
   "execution_count": 119,
   "id": "09937cbb-d400-4660-8c48-b5a4a551fa68",
   "metadata": {},
   "outputs": [
    {
     "data": {
      "text/plain": [
       "const          1.603215e-10\n",
       "TotalBsmtSF    3.911258e-24\n",
       "dtype: float64"
      ]
     },
     "execution_count": 119,
     "metadata": {},
     "output_type": "execute_result"
    }
   ],
   "source": [
    "model2.pvalues"
   ]
  },
  {
   "cell_type": "markdown",
   "id": "b597c8d0-a2c4-43ed-b4cb-987983730358",
   "metadata": {},
   "source": [
    "##### **^Explanation/Reasoning:** With an R-squared of just 0.068, the regression analysis between `TotalBsmtSF` and `LotArea` demonstrates a statistically significant association, meaning that basement size only accounts for 6.8% of the variation in lot area. The lot area increases by approximately 5.93 square feet for every square foot added to the basement, as indicated by the significant coefficients with an intercept of 4241.6386 and a slope of 5.9344. However, the low R-squared and high Jarque-Bera test value point to poor model fit and possible problems such as non-normality in the residuals.\r\n"
   ]
  },
  {
   "cell_type": "code",
   "execution_count": 122,
   "id": "f30b7f0b-0e8b-4246-955c-ea5516eeec02",
   "metadata": {},
   "outputs": [
    {
     "data": {
      "image/png": "[encoded data removed]",
      "text/plain": [
       "<Figure size 640x480 with 1 Axes>"
      ]
     },
     "metadata": {},
     "output_type": "display_data"
    }
   ],
   "source": [
    "plt.scatter(data['TotalBsmtSF'], data['LotArea'], color='green', label='Data points')\n",
    "plt.plot(data['TotalBsmtSF'], model2.fittedvalues, 'r', label='Fitted line')\n",
    "plt.xlabel('TotalBsmtSF')\n",
    "plt.ylabel('LotArea')\n",
    "plt.title('Regression Line b/w TotalBsmtSF and LotArea')\n",
    "plt.legend()\n",
    "plt.show()"
   ]
  },
  {
   "cell_type": "markdown",
   "id": "3a8bf575-f0a8-4cb1-9d5a-31fc305083e6",
   "metadata": {},
   "source": [
    "## Q3"
   ]
  },
  {
   "cell_type": "markdown",
   "id": "a02e9216-c241-4b82-bf98-98d25112cb41",
   "metadata": {},
   "source": [
    "##### Calculate Correlation for questions (1) and (2) and explain the correlation value to support your answer for questions (1) and (2). "
   ]
  },
  {
   "cell_type": "code",
   "execution_count": 171,
   "id": "51377756-7b2c-4016-afdf-ed68712d0e92",
   "metadata": {},
   "outputs": [
    {
     "name": "stdout",
     "output_type": "stream",
     "text": [
      "Correlation b/w GrLivArea and SalePrice: 0.7086244776126522\n",
      "Correlation b/w TotalBsmtSF and LotArea: 0.2608331345451576\n"
     ]
    }
   ],
   "source": [
    "corr1 = data['GrLivArea'].corr(data['SalePrice'])\n",
    "corr2 = data['TotalBsmtSF'].corr(data['LotArea'])\n",
    "print(\"Correlation b/w GrLivArea and SalePrice:\", corr1)\n",
    "print(\"Correlation b/w TotalBsmtSF and LotArea:\", corr2)"
   ]
  },
  {
   "cell_type": "markdown",
   "id": "f3f9b2f9-5129-4297-800b-ed6e8ac8490a",
   "metadata": {},
   "source": [
    "##### **^Explanation/Reasoning:** There is a significant positive association of roughly 0.709 between `GrLivArea` and `SalePrice`. This indicates that a home's sale price typically rises in proportion to its living area, confirming the significance of living area in home pricing models. By comparison, there is a much weaker positive association approximately 0.261 between `TotalBsmtSF` and `LotArea`. This shows that although there is some correlation between the size of the basement and the lot space, it is quite little and suggests that other factors probably have a greater impact on the lot area.\n"
   ]
  },
  {
   "cell_type": "markdown",
   "id": "0b922bab-a99e-457d-b28f-c121301af95f",
   "metadata": {},
   "source": [
    "## Q4 "
   ]
  },
  {
   "cell_type": "markdown",
   "id": "4797540c-21f5-4c3c-b663-91a3df2df5d9",
   "metadata": {},
   "source": [
    "##### Create a regression model to predict SalePrice using all other inputs. Discuss the effectiveness of the model using R-squared value. Report 3 most significant inputs and 3 least significant inputs (based on p-value) and interpret the results. Create one new input of your choice of values and show the prediction of SalePrice using the same model. "
   ]
  },
  {
   "cell_type": "code",
   "execution_count": 669,
   "id": "d4a56408-91e0-466c-a68c-7f8be7eb0a65",
   "metadata": {},
   "outputs": [
    {
     "data": {
      "text/plain": [
       "['PavedDrive', 'SaleCondition']"
      ]
     },
     "execution_count": 669,
     "metadata": {},
     "output_type": "execute_result"
    }
   ],
   "source": [
    "#finding categorical columns since regression cannot happen on categorical columns\n",
    "data2 = pd.read_csv('HousePricingData.csv')\n",
    "# data2.dtypes\n",
    "\n",
    "#removing Id column\n",
    "if 'Id' in data2.columns:\n",
    "    data2.drop(['Id'], axis=1, inplace=True)\n",
    "    \n",
    "# data2.shape[1]\n",
    "# data2.columns\n",
    "\n",
    "non_numeric_cols = data2.select_dtypes(exclude=['int', 'float']).columns.tolist()\n",
    "non_numeric_cols"
   ]
  },
  {
   "cell_type": "code",
   "execution_count": 671,
   "id": "31934d9e-7325-4c49-8a63-0521bf0a9337",
   "metadata": {},
   "outputs": [
    {
     "name": "stdout",
     "output_type": "stream",
     "text": [
      "Data types after converting to dummies just to ensure:\n",
      "LotArea                  int64\n",
      "OverallQual              int64\n",
      "OverallCond              int64\n",
      "YearBuilt                int64\n",
      "TotalBsmtSF              int64\n",
      "1stFlrSF                 int64\n",
      "2ndFlrSF                 int64\n",
      "GrLivArea                int64\n",
      "BsmtFullBath             int64\n",
      "BsmtHalfBath             int64\n",
      "FullBath                 int64\n",
      "HalfBath                 int64\n",
      "BedroomAbvGr             int64\n",
      "KitchenAbvGr             int64\n",
      "Fireplaces               int64\n",
      "GarageCars               int64\n",
      "SalePrice                int64\n",
      "PavedDrive_N             int32\n",
      "PavedDrive_P             int32\n",
      "PavedDrive_Y             int32\n",
      "SaleCondition_Abnorml    int32\n",
      "SaleCondition_AdjLand    int32\n",
      "SaleCondition_Alloca     int32\n",
      "SaleCondition_Family     int32\n",
      "SaleCondition_Normal     int32\n",
      "SaleCondition_Partial    int32\n",
      "dtype: object\n"
     ]
    }
   ],
   "source": [
    "categorical_cols = data2.select_dtypes(include=['object']).columns.tolist()\n",
    "data2 = pd.get_dummies(data2, columns=categorical_cols, dtype='int')\n",
    "print(\"Data types after converting to dummies just to ensure:\")\n",
    "print(data2.dtypes)\n",
    "# data2.shape[1]"
   ]
  },
  {
   "cell_type": "code",
   "execution_count": 673,
   "id": "4abb6a75-f76f-4b5f-b6df-e9e4da6edd8d",
   "metadata": {},
   "outputs": [
    {
     "data": {
      "text/html": [
       "<table class=\"simpletable\">\n",
       "<caption>OLS Regression Results</caption>\n",
       "<tr>\n",
       "  <th>Dep. Variable:</th>        <td>SalePrice</td>    <th>  R-squared:         </th> <td>   0.803</td> \n",
       "</tr>\n",
       "<tr>\n",
       "  <th>Model:</th>                   <td>OLS</td>       <th>  Adj. R-squared:    </th> <td>   0.800</td> \n",
       "</tr>\n",
       "<tr>\n",
       "  <th>Method:</th>             <td>Least Squares</td>  <th>  F-statistic:       </th> <td>   255.0</td> \n",
       "</tr>\n",
       "<tr>\n",
       "  <th>Date:</th>             <td>Tue, 15 Oct 2024</td> <th>  Prob (F-statistic):</th>  <td>  0.00</td>  \n",
       "</tr>\n",
       "<tr>\n",
       "  <th>Time:</th>                 <td>15:52:15</td>     <th>  Log-Likelihood:    </th> <td> -17357.</td> \n",
       "</tr>\n",
       "<tr>\n",
       "  <th>No. Observations:</th>      <td>  1460</td>      <th>  AIC:               </th> <td>3.476e+04</td>\n",
       "</tr>\n",
       "<tr>\n",
       "  <th>Df Residuals:</th>          <td>  1436</td>      <th>  BIC:               </th> <td>3.489e+04</td>\n",
       "</tr>\n",
       "<tr>\n",
       "  <th>Df Model:</th>              <td>    23</td>      <th>                     </th>     <td> </td>    \n",
       "</tr>\n",
       "<tr>\n",
       "  <th>Covariance Type:</th>      <td>nonrobust</td>    <th>                     </th>     <td> </td>    \n",
       "</tr>\n",
       "</table>\n",
       "<table class=\"simpletable\">\n",
       "<tr>\n",
       "            <td></td>               <th>coef</th>     <th>std err</th>      <th>t</th>      <th>P>|t|</th>  <th>[0.025</th>    <th>0.975]</th>  \n",
       "</tr>\n",
       "<tr>\n",
       "  <th>const</th>                 <td>-4.947e+05</td> <td>  7.3e+04</td> <td>   -6.780</td> <td> 0.000</td> <td>-6.38e+05</td> <td>-3.52e+05</td>\n",
       "</tr>\n",
       "<tr>\n",
       "  <th>LotArea</th>               <td>    0.4440</td> <td>    0.102</td> <td>    4.365</td> <td> 0.000</td> <td>    0.244</td> <td>    0.644</td>\n",
       "</tr>\n",
       "<tr>\n",
       "  <th>OverallQual</th>           <td> 1.692e+04</td> <td> 1177.941</td> <td>   14.367</td> <td> 0.000</td> <td> 1.46e+04</td> <td> 1.92e+04</td>\n",
       "</tr>\n",
       "<tr>\n",
       "  <th>OverallCond</th>           <td> 6039.0894</td> <td>  956.584</td> <td>    6.313</td> <td> 0.000</td> <td> 4162.637</td> <td> 7915.541</td>\n",
       "</tr>\n",
       "<tr>\n",
       "  <th>YearBuilt</th>             <td>  341.6491</td> <td>   56.102</td> <td>    6.090</td> <td> 0.000</td> <td>  231.598</td> <td>  451.700</td>\n",
       "</tr>\n",
       "<tr>\n",
       "  <th>TotalBsmtSF</th>           <td>   12.9967</td> <td>    4.158</td> <td>    3.126</td> <td> 0.002</td> <td>    4.841</td> <td>   21.153</td>\n",
       "</tr>\n",
       "<tr>\n",
       "  <th>1stFlrSF</th>              <td>   36.2027</td> <td>   20.439</td> <td>    1.771</td> <td> 0.077</td> <td>   -3.891</td> <td>   76.297</td>\n",
       "</tr>\n",
       "<tr>\n",
       "  <th>2ndFlrSF</th>              <td>   25.9362</td> <td>   20.177</td> <td>    1.285</td> <td> 0.199</td> <td>  -13.643</td> <td>   65.515</td>\n",
       "</tr>\n",
       "<tr>\n",
       "  <th>GrLivArea</th>             <td>   30.7754</td> <td>   19.778</td> <td>    1.556</td> <td> 0.120</td> <td>   -8.021</td> <td>   69.572</td>\n",
       "</tr>\n",
       "<tr>\n",
       "  <th>BsmtFullBath</th>          <td> 1.383e+04</td> <td> 2034.384</td> <td>    6.798</td> <td> 0.000</td> <td> 9839.087</td> <td> 1.78e+04</td>\n",
       "</tr>\n",
       "<tr>\n",
       "  <th>BsmtHalfBath</th>          <td> 5091.5630</td> <td> 4051.182</td> <td>    1.257</td> <td> 0.209</td> <td>-2855.307</td> <td>  1.3e+04</td>\n",
       "</tr>\n",
       "<tr>\n",
       "  <th>FullBath</th>              <td> 2350.7552</td> <td> 2825.817</td> <td>    0.832</td> <td> 0.406</td> <td>-3192.416</td> <td> 7893.927</td>\n",
       "</tr>\n",
       "<tr>\n",
       "  <th>HalfBath</th>              <td> -138.2292</td> <td> 2692.136</td> <td>   -0.051</td> <td> 0.959</td> <td>-5419.170</td> <td> 5142.712</td>\n",
       "</tr>\n",
       "<tr>\n",
       "  <th>BedroomAbvGr</th>          <td>-5317.9224</td> <td> 1482.744</td> <td>   -3.587</td> <td> 0.000</td> <td>-8226.498</td> <td>-2409.346</td>\n",
       "</tr>\n",
       "<tr>\n",
       "  <th>KitchenAbvGr</th>          <td>-2.131e+04</td> <td> 4855.873</td> <td>   -4.388</td> <td> 0.000</td> <td>-3.08e+04</td> <td>-1.18e+04</td>\n",
       "</tr>\n",
       "<tr>\n",
       "  <th>Fireplaces</th>            <td> 5008.3921</td> <td> 1771.339</td> <td>    2.827</td> <td> 0.005</td> <td> 1533.703</td> <td> 8483.081</td>\n",
       "</tr>\n",
       "<tr>\n",
       "  <th>GarageCars</th>            <td> 1.259e+04</td> <td> 1732.280</td> <td>    7.267</td> <td> 0.000</td> <td> 9189.770</td> <td>  1.6e+04</td>\n",
       "</tr>\n",
       "<tr>\n",
       "  <th>PavedDrive_N</th>          <td>-1.604e+05</td> <td>  2.4e+04</td> <td>   -6.681</td> <td> 0.000</td> <td>-2.07e+05</td> <td>-1.13e+05</td>\n",
       "</tr>\n",
       "<tr>\n",
       "  <th>PavedDrive_P</th>          <td>-1.692e+05</td> <td> 2.46e+04</td> <td>   -6.881</td> <td> 0.000</td> <td>-2.17e+05</td> <td>-1.21e+05</td>\n",
       "</tr>\n",
       "<tr>\n",
       "  <th>PavedDrive_Y</th>          <td>-1.652e+05</td> <td> 2.52e+04</td> <td>   -6.555</td> <td> 0.000</td> <td>-2.15e+05</td> <td>-1.16e+05</td>\n",
       "</tr>\n",
       "<tr>\n",
       "  <th>SaleCondition_Abnorml</th> <td>-9.189e+04</td> <td> 1.28e+04</td> <td>   -7.157</td> <td> 0.000</td> <td>-1.17e+05</td> <td>-6.67e+04</td>\n",
       "</tr>\n",
       "<tr>\n",
       "  <th>SaleCondition_AdjLand</th> <td> -7.13e+04</td> <td> 1.96e+04</td> <td>   -3.647</td> <td> 0.000</td> <td> -1.1e+05</td> <td>-3.29e+04</td>\n",
       "</tr>\n",
       "<tr>\n",
       "  <th>SaleCondition_Alloca</th>  <td>-8.899e+04</td> <td> 1.57e+04</td> <td>   -5.651</td> <td> 0.000</td> <td> -1.2e+05</td> <td>-5.81e+04</td>\n",
       "</tr>\n",
       "<tr>\n",
       "  <th>SaleCondition_Family</th>  <td>-9.712e+04</td> <td>  1.4e+04</td> <td>   -6.914</td> <td> 0.000</td> <td>-1.25e+05</td> <td>-6.96e+04</td>\n",
       "</tr>\n",
       "<tr>\n",
       "  <th>SaleCondition_Normal</th>  <td>-8.492e+04</td> <td> 1.27e+04</td> <td>   -6.692</td> <td> 0.000</td> <td> -1.1e+05</td> <td>   -6e+04</td>\n",
       "</tr>\n",
       "<tr>\n",
       "  <th>SaleCondition_Partial</th> <td>-6.052e+04</td> <td> 1.35e+04</td> <td>   -4.475</td> <td> 0.000</td> <td> -8.7e+04</td> <td> -3.4e+04</td>\n",
       "</tr>\n",
       "</table>\n",
       "<table class=\"simpletable\">\n",
       "<tr>\n",
       "  <th>Omnibus:</th>       <td>755.660</td> <th>  Durbin-Watson:     </th>  <td>   1.953</td> \n",
       "</tr>\n",
       "<tr>\n",
       "  <th>Prob(Omnibus):</th> <td> 0.000</td>  <th>  Jarque-Bera (JB):  </th> <td>139793.792</td>\n",
       "</tr>\n",
       "<tr>\n",
       "  <th>Skew:</th>          <td>-1.296</td>  <th>  Prob(JB):          </th>  <td>    0.00</td> \n",
       "</tr>\n",
       "<tr>\n",
       "  <th>Kurtosis:</th>      <td>50.867</td>  <th>  Cond. No.          </th>  <td>5.88e+17</td> \n",
       "</tr>\n",
       "</table><br/><br/>Notes:<br/>[1] Standard Errors assume that the covariance matrix of the errors is correctly specified.<br/>[2] The smallest eigenvalue is 9.08e-25. This might indicate that there are<br/>strong multicollinearity problems or that the design matrix is singular."
      ],
      "text/latex": [
       "\\begin{center}\n",
       "\\begin{tabular}{lclc}\n",
       "\\toprule\n",
       "\\textbf{Dep. Variable:}         &    SalePrice     & \\textbf{  R-squared:         } &     0.803   \\\\\n",
       "\\textbf{Model:}                 &       OLS        & \\textbf{  Adj. R-squared:    } &     0.800   \\\\\n",
       "\\textbf{Method:}                &  Least Squares   & \\textbf{  F-statistic:       } &     255.0   \\\\\n",
       "\\textbf{Date:}                  & Tue, 15 Oct 2024 & \\textbf{  Prob (F-statistic):} &     0.00    \\\\\n",
       "\\textbf{Time:}                  &     15:52:15     & \\textbf{  Log-Likelihood:    } &   -17357.   \\\\\n",
       "\\textbf{No. Observations:}      &        1460      & \\textbf{  AIC:               } & 3.476e+04   \\\\\n",
       "\\textbf{Df Residuals:}          &        1436      & \\textbf{  BIC:               } & 3.489e+04   \\\\\n",
       "\\textbf{Df Model:}              &          23      & \\textbf{                     } &             \\\\\n",
       "\\textbf{Covariance Type:}       &    nonrobust     & \\textbf{                     } &             \\\\\n",
       "\\bottomrule\n",
       "\\end{tabular}\n",
       "\\begin{tabular}{lcccccc}\n",
       "                                & \\textbf{coef} & \\textbf{std err} & \\textbf{t} & \\textbf{P$> |$t$|$} & \\textbf{[0.025} & \\textbf{0.975]}  \\\\\n",
       "\\midrule\n",
       "\\textbf{const}                  &   -4.947e+05  &      7.3e+04     &    -6.780  &         0.000        &    -6.38e+05    &    -3.52e+05     \\\\\n",
       "\\textbf{LotArea}                &       0.4440  &        0.102     &     4.365  &         0.000        &        0.244    &        0.644     \\\\\n",
       "\\textbf{OverallQual}            &    1.692e+04  &     1177.941     &    14.367  &         0.000        &     1.46e+04    &     1.92e+04     \\\\\n",
       "\\textbf{OverallCond}            &    6039.0894  &      956.584     &     6.313  &         0.000        &     4162.637    &     7915.541     \\\\\n",
       "\\textbf{YearBuilt}              &     341.6491  &       56.102     &     6.090  &         0.000        &      231.598    &      451.700     \\\\\n",
       "\\textbf{TotalBsmtSF}            &      12.9967  &        4.158     &     3.126  &         0.002        &        4.841    &       21.153     \\\\\n",
       "\\textbf{1stFlrSF}               &      36.2027  &       20.439     &     1.771  &         0.077        &       -3.891    &       76.297     \\\\\n",
       "\\textbf{2ndFlrSF}               &      25.9362  &       20.177     &     1.285  &         0.199        &      -13.643    &       65.515     \\\\\n",
       "\\textbf{GrLivArea}              &      30.7754  &       19.778     &     1.556  &         0.120        &       -8.021    &       69.572     \\\\\n",
       "\\textbf{BsmtFullBath}           &    1.383e+04  &     2034.384     &     6.798  &         0.000        &     9839.087    &     1.78e+04     \\\\\n",
       "\\textbf{BsmtHalfBath}           &    5091.5630  &     4051.182     &     1.257  &         0.209        &    -2855.307    &      1.3e+04     \\\\\n",
       "\\textbf{FullBath}               &    2350.7552  &     2825.817     &     0.832  &         0.406        &    -3192.416    &     7893.927     \\\\\n",
       "\\textbf{HalfBath}               &    -138.2292  &     2692.136     &    -0.051  &         0.959        &    -5419.170    &     5142.712     \\\\\n",
       "\\textbf{BedroomAbvGr}           &   -5317.9224  &     1482.744     &    -3.587  &         0.000        &    -8226.498    &    -2409.346     \\\\\n",
       "\\textbf{KitchenAbvGr}           &   -2.131e+04  &     4855.873     &    -4.388  &         0.000        &    -3.08e+04    &    -1.18e+04     \\\\\n",
       "\\textbf{Fireplaces}             &    5008.3921  &     1771.339     &     2.827  &         0.005        &     1533.703    &     8483.081     \\\\\n",
       "\\textbf{GarageCars}             &    1.259e+04  &     1732.280     &     7.267  &         0.000        &     9189.770    &      1.6e+04     \\\\\n",
       "\\textbf{PavedDrive\\_N}          &   -1.604e+05  &      2.4e+04     &    -6.681  &         0.000        &    -2.07e+05    &    -1.13e+05     \\\\\n",
       "\\textbf{PavedDrive\\_P}          &   -1.692e+05  &     2.46e+04     &    -6.881  &         0.000        &    -2.17e+05    &    -1.21e+05     \\\\\n",
       "\\textbf{PavedDrive\\_Y}          &   -1.652e+05  &     2.52e+04     &    -6.555  &         0.000        &    -2.15e+05    &    -1.16e+05     \\\\\n",
       "\\textbf{SaleCondition\\_Abnorml} &   -9.189e+04  &     1.28e+04     &    -7.157  &         0.000        &    -1.17e+05    &    -6.67e+04     \\\\\n",
       "\\textbf{SaleCondition\\_AdjLand} &    -7.13e+04  &     1.96e+04     &    -3.647  &         0.000        &     -1.1e+05    &    -3.29e+04     \\\\\n",
       "\\textbf{SaleCondition\\_Alloca}  &   -8.899e+04  &     1.57e+04     &    -5.651  &         0.000        &     -1.2e+05    &    -5.81e+04     \\\\\n",
       "\\textbf{SaleCondition\\_Family}  &   -9.712e+04  &      1.4e+04     &    -6.914  &         0.000        &    -1.25e+05    &    -6.96e+04     \\\\\n",
       "\\textbf{SaleCondition\\_Normal}  &   -8.492e+04  &     1.27e+04     &    -6.692  &         0.000        &     -1.1e+05    &       -6e+04     \\\\\n",
       "\\textbf{SaleCondition\\_Partial} &   -6.052e+04  &     1.35e+04     &    -4.475  &         0.000        &     -8.7e+04    &     -3.4e+04     \\\\\n",
       "\\bottomrule\n",
       "\\end{tabular}\n",
       "\\begin{tabular}{lclc}\n",
       "\\textbf{Omnibus:}       & 755.660 & \\textbf{  Durbin-Watson:     } &     1.953   \\\\\n",
       "\\textbf{Prob(Omnibus):} &   0.000 & \\textbf{  Jarque-Bera (JB):  } & 139793.792  \\\\\n",
       "\\textbf{Skew:}          &  -1.296 & \\textbf{  Prob(JB):          } &      0.00   \\\\\n",
       "\\textbf{Kurtosis:}      &  50.867 & \\textbf{  Cond. No.          } &  5.88e+17   \\\\\n",
       "\\bottomrule\n",
       "\\end{tabular}\n",
       "%\\caption{OLS Regression Results}\n",
       "\\end{center}\n",
       "\n",
       "Notes: \\newline\n",
       " [1] Standard Errors assume that the covariance matrix of the errors is correctly specified. \\newline\n",
       " [2] The smallest eigenvalue is 9.08e-25. This might indicate that there are \\newline\n",
       " strong multicollinearity problems or that the design matrix is singular."
      ],
      "text/plain": [
       "<class 'statsmodels.iolib.summary.Summary'>\n",
       "\"\"\"\n",
       "                            OLS Regression Results                            \n",
       "==============================================================================\n",
       "Dep. Variable:              SalePrice   R-squared:                       0.803\n",
       "Model:                            OLS   Adj. R-squared:                  0.800\n",
       "Method:                 Least Squares   F-statistic:                     255.0\n",
       "Date:                Tue, 15 Oct 2024   Prob (F-statistic):               0.00\n",
       "Time:                        15:52:15   Log-Likelihood:                -17357.\n",
       "No. Observations:                1460   AIC:                         3.476e+04\n",
       "Df Residuals:                    1436   BIC:                         3.489e+04\n",
       "Df Model:                          23                                         \n",
       "Covariance Type:            nonrobust                                         \n",
       "=========================================================================================\n",
       "                            coef    std err          t      P>|t|      [0.025      0.975]\n",
       "-----------------------------------------------------------------------------------------\n",
       "const                 -4.947e+05    7.3e+04     -6.780      0.000   -6.38e+05   -3.52e+05\n",
       "LotArea                   0.4440      0.102      4.365      0.000       0.244       0.644\n",
       "OverallQual            1.692e+04   1177.941     14.367      0.000    1.46e+04    1.92e+04\n",
       "OverallCond            6039.0894    956.584      6.313      0.000    4162.637    7915.541\n",
       "YearBuilt               341.6491     56.102      6.090      0.000     231.598     451.700\n",
       "TotalBsmtSF              12.9967      4.158      3.126      0.002       4.841      21.153\n",
       "1stFlrSF                 36.2027     20.439      1.771      0.077      -3.891      76.297\n",
       "2ndFlrSF                 25.9362     20.177      1.285      0.199     -13.643      65.515\n",
       "GrLivArea                30.7754     19.778      1.556      0.120      -8.021      69.572\n",
       "BsmtFullBath           1.383e+04   2034.384      6.798      0.000    9839.087    1.78e+04\n",
       "BsmtHalfBath           5091.5630   4051.182      1.257      0.209   -2855.307     1.3e+04\n",
       "FullBath               2350.7552   2825.817      0.832      0.406   -3192.416    7893.927\n",
       "HalfBath               -138.2292   2692.136     -0.051      0.959   -5419.170    5142.712\n",
       "BedroomAbvGr          -5317.9224   1482.744     -3.587      0.000   -8226.498   -2409.346\n",
       "KitchenAbvGr          -2.131e+04   4855.873     -4.388      0.000   -3.08e+04   -1.18e+04\n",
       "Fireplaces             5008.3921   1771.339      2.827      0.005    1533.703    8483.081\n",
       "GarageCars             1.259e+04   1732.280      7.267      0.000    9189.770     1.6e+04\n",
       "PavedDrive_N          -1.604e+05    2.4e+04     -6.681      0.000   -2.07e+05   -1.13e+05\n",
       "PavedDrive_P          -1.692e+05   2.46e+04     -6.881      0.000   -2.17e+05   -1.21e+05\n",
       "PavedDrive_Y          -1.652e+05   2.52e+04     -6.555      0.000   -2.15e+05   -1.16e+05\n",
       "SaleCondition_Abnorml -9.189e+04   1.28e+04     -7.157      0.000   -1.17e+05   -6.67e+04\n",
       "SaleCondition_AdjLand  -7.13e+04   1.96e+04     -3.647      0.000    -1.1e+05   -3.29e+04\n",
       "SaleCondition_Alloca  -8.899e+04   1.57e+04     -5.651      0.000    -1.2e+05   -5.81e+04\n",
       "SaleCondition_Family  -9.712e+04    1.4e+04     -6.914      0.000   -1.25e+05   -6.96e+04\n",
       "SaleCondition_Normal  -8.492e+04   1.27e+04     -6.692      0.000    -1.1e+05      -6e+04\n",
       "SaleCondition_Partial -6.052e+04   1.35e+04     -4.475      0.000    -8.7e+04    -3.4e+04\n",
       "==============================================================================\n",
       "Omnibus:                      755.660   Durbin-Watson:                   1.953\n",
       "Prob(Omnibus):                  0.000   Jarque-Bera (JB):           139793.792\n",
       "Skew:                          -1.296   Prob(JB):                         0.00\n",
       "Kurtosis:                      50.867   Cond. No.                     5.88e+17\n",
       "==============================================================================\n",
       "\n",
       "Notes:\n",
       "[1] Standard Errors assume that the covariance matrix of the errors is correctly specified.\n",
       "[2] The smallest eigenvalue is 9.08e-25. This might indicate that there are\n",
       "strong multicollinearity problems or that the design matrix is singular.\n",
       "\"\"\""
      ]
     },
     "execution_count": 673,
     "metadata": {},
     "output_type": "execute_result"
    }
   ],
   "source": [
    "X = data2.drop('SalePrice', axis=1)  \n",
    "Y = data2['SalePrice']\n",
    "X = sm.add_constant(X)\n",
    "model = sm.OLS(Y, X).fit()\n",
    "model.summary()"
   ]
  },
  {
   "cell_type": "code",
   "execution_count": 675,
   "id": "6c5d0f53-dd61-4acf-ba6d-381dc9246134",
   "metadata": {},
   "outputs": [
    {
     "name": "stdout",
     "output_type": "stream",
     "text": [
      "Most Significant Inputs:\n",
      "OverallQual              7.800179e-44\n",
      "GarageCars               6.026648e-13\n",
      "SaleCondition_Abnorml    1.307567e-12\n",
      "dtype: float64\n",
      "\n",
      "Least Significant Inputs:\n",
      "BsmtHalfBath    0.209027\n",
      "FullBath        0.405612\n",
      "HalfBath        0.959057\n",
      "dtype: float64\n"
     ]
    }
   ],
   "source": [
    "p_values = model.pvalues.sort_values()\n",
    "print(\"Most Significant Inputs:\")\n",
    "print(p_values.head(3))\n",
    "print(\"\\nLeast Significant Inputs:\")\n",
    "print(p_values.tail(3))\n",
    "# p_values"
   ]
  },
  {
   "cell_type": "markdown",
   "id": "d2f01d86-a352-4001-8eac-38dd6cf70e68",
   "metadata": {},
   "source": [
    "##### **^Explanation/Reasoning:** The R-squared value of 0.803 indicates that the model explains about 80.3% of the variance in `SalePrice`, demonstrating a strong and effective fit to the data.\n",
    "##### My regression model's findings highlight how important some factors are in influencing the price at which houses are sold. The house's overall quality and the garage's capacity both considerably increase the sale price, which is in line with my observations of buyers' preferences for higher quality and more usable space. Furthermore, unusual sale circumstances like foreclosures usually result in a property's sale price being lower, suggesting that buyers anticipate savings in such cases. Less important elements like the number of basement half bathrooms (BsmtHalfBath), full bathrooms (FullBath), and half bathrooms not in the basement (HalfBath) exhibit high p-values, indicating that these characteristics have little to no effect on sale prices. This suggests that these features do not significantly influence buyer decisions in this market."
   ]
  },
  {
   "cell_type": "code",
   "execution_count": 692,
   "id": "17d03fd5-c9e4-4558-8eb5-441b2c4dcbf5",
   "metadata": {},
   "outputs": [
    {
     "data": {
      "text/html": [
       "<div>\n",
       "<style scoped>\n",
       "    .dataframe tbody tr th:only-of-type {\n",
       "        vertical-align: middle;\n",
       "    }\n",
       "\n",
       "    .dataframe tbody tr th {\n",
       "        vertical-align: top;\n",
       "    }\n",
       "\n",
       "    .dataframe thead th {\n",
       "        text-align: right;\n",
       "    }\n",
       "</style>\n",
       "<table border=\"1\" class=\"dataframe\">\n",
       "  <thead>\n",
       "    <tr style=\"text-align: right;\">\n",
       "      <th></th>\n",
       "      <th>const</th>\n",
       "      <th>LotArea</th>\n",
       "      <th>OverallQual</th>\n",
       "      <th>OverallCond</th>\n",
       "      <th>YearBuilt</th>\n",
       "      <th>TotalBsmtSF</th>\n",
       "      <th>1stFlrSF</th>\n",
       "      <th>2ndFlrSF</th>\n",
       "      <th>GrLivArea</th>\n",
       "      <th>BsmtFullBath</th>\n",
       "      <th>...</th>\n",
       "      <th>GarageCars</th>\n",
       "      <th>PavedDrive_N</th>\n",
       "      <th>PavedDrive_P</th>\n",
       "      <th>PavedDrive_Y</th>\n",
       "      <th>SaleCondition_Abnorml</th>\n",
       "      <th>SaleCondition_AdjLand</th>\n",
       "      <th>SaleCondition_Alloca</th>\n",
       "      <th>SaleCondition_Family</th>\n",
       "      <th>SaleCondition_Normal</th>\n",
       "      <th>SaleCondition_Partial</th>\n",
       "    </tr>\n",
       "  </thead>\n",
       "  <tbody>\n",
       "    <tr>\n",
       "      <th>0</th>\n",
       "      <td>1</td>\n",
       "      <td>9500</td>\n",
       "      <td>7</td>\n",
       "      <td>5</td>\n",
       "      <td>2001</td>\n",
       "      <td>1200</td>\n",
       "      <td>1180</td>\n",
       "      <td>1100</td>\n",
       "      <td>2280</td>\n",
       "      <td>1</td>\n",
       "      <td>...</td>\n",
       "      <td>2</td>\n",
       "      <td>0</td>\n",
       "      <td>0</td>\n",
       "      <td>1</td>\n",
       "      <td>0</td>\n",
       "      <td>0</td>\n",
       "      <td>0</td>\n",
       "      <td>0</td>\n",
       "      <td>1</td>\n",
       "      <td>0</td>\n",
       "    </tr>\n",
       "  </tbody>\n",
       "</table>\n",
       "<p>1 rows × 26 columns</p>\n",
       "</div>"
      ],
      "text/plain": [
       "   const  LotArea  OverallQual  OverallCond  YearBuilt  TotalBsmtSF  1stFlrSF  \\\n",
       "0      1     9500            7            5       2001         1200      1180   \n",
       "\n",
       "   2ndFlrSF  GrLivArea  BsmtFullBath  ...  GarageCars  PavedDrive_N  \\\n",
       "0      1100       2280             1  ...           2             0   \n",
       "\n",
       "   PavedDrive_P  PavedDrive_Y  SaleCondition_Abnorml  SaleCondition_AdjLand  \\\n",
       "0             0             1                      0                      0   \n",
       "\n",
       "   SaleCondition_Alloca  SaleCondition_Family  SaleCondition_Normal  \\\n",
       "0                     0                     0                     1   \n",
       "\n",
       "   SaleCondition_Partial  \n",
       "0                      0  \n",
       "\n",
       "[1 rows x 26 columns]"
      ]
     },
     "execution_count": 692,
     "metadata": {},
     "output_type": "execute_result"
    }
   ],
   "source": [
    "# creating new input\n",
    "new_input_data = {\n",
    "    'const': 1,\n",
    "    'LotArea': 9500,\n",
    "    'OverallQual': 7,\n",
    "    'OverallCond': 5,\n",
    "    'YearBuilt': 2001,\n",
    "    'TotalBsmtSF': 1200,\n",
    "    '1stFlrSF': 1180,\n",
    "    '2ndFlrSF': 1100,\n",
    "    'GrLivArea': 2280,\n",
    "    'BsmtFullBath': 1,\n",
    "    'BsmtHalfBath': 0,\n",
    "    'FullBath': 2,\n",
    "    'HalfBath': 1,\n",
    "    'BedroomAbvGr': 4,\n",
    "    'KitchenAbvGr': 1,\n",
    "    'Fireplaces': 1,\n",
    "    'GarageCars': 2,\n",
    "    'PavedDrive_N': 0,\n",
    "    'PavedDrive_P': 0,\n",
    "    'PavedDrive_Y': 1,\n",
    "    'SaleCondition_Abnorml': 0,\n",
    "    'SaleCondition_AdjLand': 0,\n",
    "    'SaleCondition_Alloca': 0,\n",
    "    'SaleCondition_Family': 0,\n",
    "    'SaleCondition_Normal': 1,\n",
    "    'SaleCondition_Partial': 0\n",
    "}\n",
    "\n",
    "new_input = pd.DataFrame([new_input_data])\n",
    "new_input\n",
    "# new_input = sm.add_constant(new_input)\n",
    "# new_input.shape[1]"
   ]
  },
  {
   "cell_type": "code",
   "execution_count": 696,
   "id": "3df5c01d-a3a2-4f0e-83d1-342337dd4e72",
   "metadata": {},
   "outputs": [
    {
     "data": {
      "text/plain": [
       "0    254705.884524\n",
       "dtype: float64"
      ]
     },
     "execution_count": 696,
     "metadata": {},
     "output_type": "execute_result"
    }
   ],
   "source": [
    "model.predict(new_input)"
   ]
  },
  {
   "cell_type": "markdown",
   "id": "c274b380-1a31-41ea-9132-aedd8400942a",
   "metadata": {},
   "source": [
    "###### The predicted `SalePrice` for the given input using this model is 254705\r\n"
   ]
  },
  {
   "cell_type": "markdown",
   "id": "ee55c8cf-725d-44e5-8425-7d63474da77a",
   "metadata": {},
   "source": [
    "## Q5"
   ]
  },
  {
   "cell_type": "markdown",
   "id": "f90c4014-e5d6-46fe-832c-154bb9a773e9",
   "metadata": {},
   "source": [
    "#####  Create a regression model to predict LotArea using all other inputs. Discuss the effectiveness of the model using R-squared value. Report 3 most significant inputs and 3 least significant inputs (based on p-value) and interpret the results. Create one new input of your choice of values and show the prediction of LotArea using the same model.del."
   ]
  },
  {
   "cell_type": "code",
   "execution_count": 230,
   "id": "c3968a04-c881-4a20-b907-0d570bf4e64e",
   "metadata": {},
   "outputs": [
    {
     "data": {
      "text/plain": [
       "['PavedDrive', 'SaleCondition']"
      ]
     },
     "execution_count": 230,
     "metadata": {},
     "output_type": "execute_result"
    }
   ],
   "source": [
    "#finding categorical columns since regression cannot happen on categorical columns\n",
    "data3 = pd.read_csv('HousePricingData.csv')\n",
    "# data3.dtypes\n",
    "\n",
    "#removing Id column\n",
    "if 'Id' in data3.columns:\n",
    "    data3.drop(['Id'], axis=1, inplace=True)\n",
    "non_numeric_cols = data3.select_dtypes(exclude=['int', 'float']).columns.tolist()\n",
    "non_numeric_cols\n",
    "# data3.columns"
   ]
  },
  {
   "cell_type": "code",
   "execution_count": 706,
   "id": "0578147a-b39f-4bf7-a354-ac6ade6121b2",
   "metadata": {},
   "outputs": [
    {
     "name": "stdout",
     "output_type": "stream",
     "text": [
      "Data types after converting to dummies just to ensure:\n",
      "LotArea                  int64\n",
      "OverallQual              int64\n",
      "OverallCond              int64\n",
      "YearBuilt                int64\n",
      "TotalBsmtSF              int64\n",
      "1stFlrSF                 int64\n",
      "2ndFlrSF                 int64\n",
      "GrLivArea                int64\n",
      "BsmtFullBath             int64\n",
      "BsmtHalfBath             int64\n",
      "FullBath                 int64\n",
      "HalfBath                 int64\n",
      "BedroomAbvGr             int64\n",
      "KitchenAbvGr             int64\n",
      "Fireplaces               int64\n",
      "GarageCars               int64\n",
      "SalePrice                int64\n",
      "PavedDrive_N             int32\n",
      "PavedDrive_P             int32\n",
      "PavedDrive_Y             int32\n",
      "SaleCondition_Abnorml    int32\n",
      "SaleCondition_AdjLand    int32\n",
      "SaleCondition_Alloca     int32\n",
      "SaleCondition_Family     int32\n",
      "SaleCondition_Normal     int32\n",
      "SaleCondition_Partial    int32\n",
      "dtype: object\n"
     ]
    }
   ],
   "source": [
    "categorical_cols = data3.select_dtypes(include=['object']).columns.tolist()\n",
    "data3 = pd.get_dummies(data3, columns=categorical_cols, dtype='int')\n",
    "print(\"Data types after converting to dummies just to ensure:\")\n",
    "print(data3.dtypes)\n",
    "# data3.columns"
   ]
  },
  {
   "cell_type": "code",
   "execution_count": 714,
   "id": "f29e6689-fe05-44e6-9e88-cef91d8f579a",
   "metadata": {},
   "outputs": [
    {
     "data": {
      "text/html": [
       "<table class=\"simpletable\">\n",
       "<caption>OLS Regression Results</caption>\n",
       "<tr>\n",
       "  <th>Dep. Variable:</th>         <td>LotArea</td>     <th>  R-squared:         </th> <td>   0.172</td> \n",
       "</tr>\n",
       "<tr>\n",
       "  <th>Model:</th>                   <td>OLS</td>       <th>  Adj. R-squared:    </th> <td>   0.159</td> \n",
       "</tr>\n",
       "<tr>\n",
       "  <th>Method:</th>             <td>Least Squares</td>  <th>  F-statistic:       </th> <td>   13.01</td> \n",
       "</tr>\n",
       "<tr>\n",
       "  <th>Date:</th>             <td>Tue, 15 Oct 2024</td> <th>  Prob (F-statistic):</th> <td>8.65e-45</td> \n",
       "</tr>\n",
       "<tr>\n",
       "  <th>Time:</th>                 <td>16:01:46</td>     <th>  Log-Likelihood:    </th> <td> -15377.</td> \n",
       "</tr>\n",
       "<tr>\n",
       "  <th>No. Observations:</th>      <td>  1460</td>      <th>  AIC:               </th> <td>3.080e+04</td>\n",
       "</tr>\n",
       "<tr>\n",
       "  <th>Df Residuals:</th>          <td>  1436</td>      <th>  BIC:               </th> <td>3.093e+04</td>\n",
       "</tr>\n",
       "<tr>\n",
       "  <th>Df Model:</th>              <td>    23</td>      <th>                     </th>     <td> </td>    \n",
       "</tr>\n",
       "<tr>\n",
       "  <th>Covariance Type:</th>      <td>nonrobust</td>    <th>                     </th>     <td> </td>    \n",
       "</tr>\n",
       "</table>\n",
       "<table class=\"simpletable\">\n",
       "<tr>\n",
       "            <td></td>               <th>coef</th>     <th>std err</th>      <th>t</th>      <th>P>|t|</th>  <th>[0.025</th>    <th>0.975]</th>  \n",
       "</tr>\n",
       "<tr>\n",
       "  <th>const</th>                 <td> 4.331e+04</td> <td> 1.91e+04</td> <td>    2.271</td> <td> 0.023</td> <td> 5902.290</td> <td> 8.07e+04</td>\n",
       "</tr>\n",
       "<tr>\n",
       "  <th>OverallQual</th>           <td>-1893.6453</td> <td>  320.810</td> <td>   -5.903</td> <td> 0.000</td> <td>-2522.952</td> <td>-1264.339</td>\n",
       "</tr>\n",
       "<tr>\n",
       "  <th>OverallCond</th>           <td>  -81.4211</td> <td>  249.930</td> <td>   -0.326</td> <td> 0.745</td> <td> -571.688</td> <td>  408.845</td>\n",
       "</tr>\n",
       "<tr>\n",
       "  <th>YearBuilt</th>             <td>  -29.0314</td> <td>   14.625</td> <td>   -1.985</td> <td> 0.047</td> <td>  -57.719</td> <td>   -0.343</td>\n",
       "</tr>\n",
       "<tr>\n",
       "  <th>TotalBsmtSF</th>           <td>    1.9934</td> <td>    1.074</td> <td>    1.856</td> <td> 0.064</td> <td>   -0.113</td> <td>    4.100</td>\n",
       "</tr>\n",
       "<tr>\n",
       "  <th>1stFlrSF</th>              <td>    5.4271</td> <td>    5.272</td> <td>    1.029</td> <td> 0.303</td> <td>   -4.914</td> <td>   15.768</td>\n",
       "</tr>\n",
       "<tr>\n",
       "  <th>2ndFlrSF</th>              <td>    3.2060</td> <td>    5.202</td> <td>    0.616</td> <td> 0.538</td> <td>   -6.999</td> <td>   13.411</td>\n",
       "</tr>\n",
       "<tr>\n",
       "  <th>GrLivArea</th>             <td>   -1.7279</td> <td>    5.101</td> <td>   -0.339</td> <td> 0.735</td> <td>  -11.735</td> <td>    8.279</td>\n",
       "</tr>\n",
       "<tr>\n",
       "  <th>BsmtFullBath</th>          <td> 1710.6717</td> <td>  530.777</td> <td>    3.223</td> <td> 0.001</td> <td>  669.491</td> <td> 2751.852</td>\n",
       "</tr>\n",
       "<tr>\n",
       "  <th>BsmtHalfBath</th>          <td> 2038.1382</td> <td> 1043.302</td> <td>    1.954</td> <td> 0.051</td> <td>   -8.422</td> <td> 4084.698</td>\n",
       "</tr>\n",
       "<tr>\n",
       "  <th>FullBath</th>              <td>  458.7982</td> <td>  728.374</td> <td>    0.630</td> <td> 0.529</td> <td> -969.994</td> <td> 1887.590</td>\n",
       "</tr>\n",
       "<tr>\n",
       "  <th>HalfBath</th>              <td> -527.2643</td> <td>  693.707</td> <td>   -0.760</td> <td> 0.447</td> <td>-1888.052</td> <td>  833.523</td>\n",
       "</tr>\n",
       "<tr>\n",
       "  <th>BedroomAbvGr</th>          <td>  536.6054</td> <td>  383.595</td> <td>    1.399</td> <td> 0.162</td> <td> -215.861</td> <td> 1289.072</td>\n",
       "</tr>\n",
       "<tr>\n",
       "  <th>KitchenAbvGr</th>          <td>-2310.8834</td> <td> 1258.392</td> <td>   -1.836</td> <td> 0.067</td> <td>-4779.368</td> <td>  157.601</td>\n",
       "</tr>\n",
       "<tr>\n",
       "  <th>Fireplaces</th>            <td> 2219.8838</td> <td>  454.034</td> <td>    4.889</td> <td> 0.000</td> <td> 1329.243</td> <td> 3110.524</td>\n",
       "</tr>\n",
       "<tr>\n",
       "  <th>GarageCars</th>            <td>  559.8016</td> <td>  454.356</td> <td>    1.232</td> <td> 0.218</td> <td> -331.471</td> <td> 1451.074</td>\n",
       "</tr>\n",
       "<tr>\n",
       "  <th>SalePrice</th>             <td>    0.0295</td> <td>    0.007</td> <td>    4.365</td> <td> 0.000</td> <td>    0.016</td> <td>    0.043</td>\n",
       "</tr>\n",
       "<tr>\n",
       "  <th>PavedDrive_N</th>          <td>  1.48e+04</td> <td> 6270.666</td> <td>    2.359</td> <td> 0.018</td> <td> 2494.621</td> <td> 2.71e+04</td>\n",
       "</tr>\n",
       "<tr>\n",
       "  <th>PavedDrive_P</th>          <td> 1.493e+04</td> <td> 6428.733</td> <td>    2.322</td> <td> 0.020</td> <td> 2316.301</td> <td> 2.75e+04</td>\n",
       "</tr>\n",
       "<tr>\n",
       "  <th>PavedDrive_Y</th>          <td> 1.359e+04</td> <td> 6580.330</td> <td>    2.065</td> <td> 0.039</td> <td>  681.353</td> <td> 2.65e+04</td>\n",
       "</tr>\n",
       "<tr>\n",
       "  <th>SaleCondition_Abnorml</th> <td> 7294.3343</td> <td> 3361.770</td> <td>    2.170</td> <td> 0.030</td> <td>  699.828</td> <td> 1.39e+04</td>\n",
       "</tr>\n",
       "<tr>\n",
       "  <th>SaleCondition_AdjLand</th> <td> 6914.6106</td> <td> 5058.800</td> <td>    1.367</td> <td> 0.172</td> <td>-3008.819</td> <td> 1.68e+04</td>\n",
       "</tr>\n",
       "<tr>\n",
       "  <th>SaleCondition_Alloca</th>  <td> 7593.4146</td> <td> 4098.862</td> <td>    1.853</td> <td> 0.064</td> <td> -446.984</td> <td> 1.56e+04</td>\n",
       "</tr>\n",
       "<tr>\n",
       "  <th>SaleCondition_Family</th>  <td> 6751.5498</td> <td> 3675.619</td> <td>    1.837</td> <td> 0.066</td> <td> -458.608</td> <td>  1.4e+04</td>\n",
       "</tr>\n",
       "<tr>\n",
       "  <th>SaleCondition_Normal</th>  <td> 7791.1782</td> <td> 3314.989</td> <td>    2.350</td> <td> 0.019</td> <td> 1288.439</td> <td> 1.43e+04</td>\n",
       "</tr>\n",
       "<tr>\n",
       "  <th>SaleCondition_Partial</th> <td> 6966.6380</td> <td> 3504.950</td> <td>    1.988</td> <td> 0.047</td> <td>   91.266</td> <td> 1.38e+04</td>\n",
       "</tr>\n",
       "</table>\n",
       "<table class=\"simpletable\">\n",
       "<tr>\n",
       "  <th>Omnibus:</th>       <td>2614.176</td> <th>  Durbin-Watson:     </th>  <td>   2.036</td>  \n",
       "</tr>\n",
       "<tr>\n",
       "  <th>Prob(Omnibus):</th>  <td> 0.000</td>  <th>  Jarque-Bera (JB):  </th> <td>2806522.416</td>\n",
       "</tr>\n",
       "<tr>\n",
       "  <th>Skew:</th>           <td>12.394</td>  <th>  Prob(JB):          </th>  <td>    0.00</td>  \n",
       "</tr>\n",
       "<tr>\n",
       "  <th>Kurtosis:</th>       <td>216.355</td> <th>  Cond. No.          </th>  <td>4.09e+17</td>  \n",
       "</tr>\n",
       "</table><br/><br/>Notes:<br/>[1] Standard Errors assume that the covariance matrix of the errors is correctly specified.<br/>[2] The smallest eigenvalue is 3.41e-22. This might indicate that there are<br/>strong multicollinearity problems or that the design matrix is singular."
      ],
      "text/latex": [
       "\\begin{center}\n",
       "\\begin{tabular}{lclc}\n",
       "\\toprule\n",
       "\\textbf{Dep. Variable:}         &     LotArea      & \\textbf{  R-squared:         } &      0.172   \\\\\n",
       "\\textbf{Model:}                 &       OLS        & \\textbf{  Adj. R-squared:    } &      0.159   \\\\\n",
       "\\textbf{Method:}                &  Least Squares   & \\textbf{  F-statistic:       } &      13.01   \\\\\n",
       "\\textbf{Date:}                  & Tue, 15 Oct 2024 & \\textbf{  Prob (F-statistic):} &   8.65e-45   \\\\\n",
       "\\textbf{Time:}                  &     16:01:46     & \\textbf{  Log-Likelihood:    } &    -15377.   \\\\\n",
       "\\textbf{No. Observations:}      &        1460      & \\textbf{  AIC:               } &  3.080e+04   \\\\\n",
       "\\textbf{Df Residuals:}          &        1436      & \\textbf{  BIC:               } &  3.093e+04   \\\\\n",
       "\\textbf{Df Model:}              &          23      & \\textbf{                     } &              \\\\\n",
       "\\textbf{Covariance Type:}       &    nonrobust     & \\textbf{                     } &              \\\\\n",
       "\\bottomrule\n",
       "\\end{tabular}\n",
       "\\begin{tabular}{lcccccc}\n",
       "                                & \\textbf{coef} & \\textbf{std err} & \\textbf{t} & \\textbf{P$> |$t$|$} & \\textbf{[0.025} & \\textbf{0.975]}  \\\\\n",
       "\\midrule\n",
       "\\textbf{const}                  &    4.331e+04  &     1.91e+04     &     2.271  &         0.023        &     5902.290    &     8.07e+04     \\\\\n",
       "\\textbf{OverallQual}            &   -1893.6453  &      320.810     &    -5.903  &         0.000        &    -2522.952    &    -1264.339     \\\\\n",
       "\\textbf{OverallCond}            &     -81.4211  &      249.930     &    -0.326  &         0.745        &     -571.688    &      408.845     \\\\\n",
       "\\textbf{YearBuilt}              &     -29.0314  &       14.625     &    -1.985  &         0.047        &      -57.719    &       -0.343     \\\\\n",
       "\\textbf{TotalBsmtSF}            &       1.9934  &        1.074     &     1.856  &         0.064        &       -0.113    &        4.100     \\\\\n",
       "\\textbf{1stFlrSF}               &       5.4271  &        5.272     &     1.029  &         0.303        &       -4.914    &       15.768     \\\\\n",
       "\\textbf{2ndFlrSF}               &       3.2060  &        5.202     &     0.616  &         0.538        &       -6.999    &       13.411     \\\\\n",
       "\\textbf{GrLivArea}              &      -1.7279  &        5.101     &    -0.339  &         0.735        &      -11.735    &        8.279     \\\\\n",
       "\\textbf{BsmtFullBath}           &    1710.6717  &      530.777     &     3.223  &         0.001        &      669.491    &     2751.852     \\\\\n",
       "\\textbf{BsmtHalfBath}           &    2038.1382  &     1043.302     &     1.954  &         0.051        &       -8.422    &     4084.698     \\\\\n",
       "\\textbf{FullBath}               &     458.7982  &      728.374     &     0.630  &         0.529        &     -969.994    &     1887.590     \\\\\n",
       "\\textbf{HalfBath}               &    -527.2643  &      693.707     &    -0.760  &         0.447        &    -1888.052    &      833.523     \\\\\n",
       "\\textbf{BedroomAbvGr}           &     536.6054  &      383.595     &     1.399  &         0.162        &     -215.861    &     1289.072     \\\\\n",
       "\\textbf{KitchenAbvGr}           &   -2310.8834  &     1258.392     &    -1.836  &         0.067        &    -4779.368    &      157.601     \\\\\n",
       "\\textbf{Fireplaces}             &    2219.8838  &      454.034     &     4.889  &         0.000        &     1329.243    &     3110.524     \\\\\n",
       "\\textbf{GarageCars}             &     559.8016  &      454.356     &     1.232  &         0.218        &     -331.471    &     1451.074     \\\\\n",
       "\\textbf{SalePrice}              &       0.0295  &        0.007     &     4.365  &         0.000        &        0.016    &        0.043     \\\\\n",
       "\\textbf{PavedDrive\\_N}          &     1.48e+04  &     6270.666     &     2.359  &         0.018        &     2494.621    &     2.71e+04     \\\\\n",
       "\\textbf{PavedDrive\\_P}          &    1.493e+04  &     6428.733     &     2.322  &         0.020        &     2316.301    &     2.75e+04     \\\\\n",
       "\\textbf{PavedDrive\\_Y}          &    1.359e+04  &     6580.330     &     2.065  &         0.039        &      681.353    &     2.65e+04     \\\\\n",
       "\\textbf{SaleCondition\\_Abnorml} &    7294.3343  &     3361.770     &     2.170  &         0.030        &      699.828    &     1.39e+04     \\\\\n",
       "\\textbf{SaleCondition\\_AdjLand} &    6914.6106  &     5058.800     &     1.367  &         0.172        &    -3008.819    &     1.68e+04     \\\\\n",
       "\\textbf{SaleCondition\\_Alloca}  &    7593.4146  &     4098.862     &     1.853  &         0.064        &     -446.984    &     1.56e+04     \\\\\n",
       "\\textbf{SaleCondition\\_Family}  &    6751.5498  &     3675.619     &     1.837  &         0.066        &     -458.608    &      1.4e+04     \\\\\n",
       "\\textbf{SaleCondition\\_Normal}  &    7791.1782  &     3314.989     &     2.350  &         0.019        &     1288.439    &     1.43e+04     \\\\\n",
       "\\textbf{SaleCondition\\_Partial} &    6966.6380  &     3504.950     &     1.988  &         0.047        &       91.266    &     1.38e+04     \\\\\n",
       "\\bottomrule\n",
       "\\end{tabular}\n",
       "\\begin{tabular}{lclc}\n",
       "\\textbf{Omnibus:}       & 2614.176 & \\textbf{  Durbin-Watson:     } &      2.036   \\\\\n",
       "\\textbf{Prob(Omnibus):} &   0.000  & \\textbf{  Jarque-Bera (JB):  } & 2806522.416  \\\\\n",
       "\\textbf{Skew:}          &  12.394  & \\textbf{  Prob(JB):          } &       0.00   \\\\\n",
       "\\textbf{Kurtosis:}      & 216.355  & \\textbf{  Cond. No.          } &   4.09e+17   \\\\\n",
       "\\bottomrule\n",
       "\\end{tabular}\n",
       "%\\caption{OLS Regression Results}\n",
       "\\end{center}\n",
       "\n",
       "Notes: \\newline\n",
       " [1] Standard Errors assume that the covariance matrix of the errors is correctly specified. \\newline\n",
       " [2] The smallest eigenvalue is 3.41e-22. This might indicate that there are \\newline\n",
       " strong multicollinearity problems or that the design matrix is singular."
      ],
      "text/plain": [
       "<class 'statsmodels.iolib.summary.Summary'>\n",
       "\"\"\"\n",
       "                            OLS Regression Results                            \n",
       "==============================================================================\n",
       "Dep. Variable:                LotArea   R-squared:                       0.172\n",
       "Model:                            OLS   Adj. R-squared:                  0.159\n",
       "Method:                 Least Squares   F-statistic:                     13.01\n",
       "Date:                Tue, 15 Oct 2024   Prob (F-statistic):           8.65e-45\n",
       "Time:                        16:01:46   Log-Likelihood:                -15377.\n",
       "No. Observations:                1460   AIC:                         3.080e+04\n",
       "Df Residuals:                    1436   BIC:                         3.093e+04\n",
       "Df Model:                          23                                         \n",
       "Covariance Type:            nonrobust                                         \n",
       "=========================================================================================\n",
       "                            coef    std err          t      P>|t|      [0.025      0.975]\n",
       "-----------------------------------------------------------------------------------------\n",
       "const                  4.331e+04   1.91e+04      2.271      0.023    5902.290    8.07e+04\n",
       "OverallQual           -1893.6453    320.810     -5.903      0.000   -2522.952   -1264.339\n",
       "OverallCond             -81.4211    249.930     -0.326      0.745    -571.688     408.845\n",
       "YearBuilt               -29.0314     14.625     -1.985      0.047     -57.719      -0.343\n",
       "TotalBsmtSF               1.9934      1.074      1.856      0.064      -0.113       4.100\n",
       "1stFlrSF                  5.4271      5.272      1.029      0.303      -4.914      15.768\n",
       "2ndFlrSF                  3.2060      5.202      0.616      0.538      -6.999      13.411\n",
       "GrLivArea                -1.7279      5.101     -0.339      0.735     -11.735       8.279\n",
       "BsmtFullBath           1710.6717    530.777      3.223      0.001     669.491    2751.852\n",
       "BsmtHalfBath           2038.1382   1043.302      1.954      0.051      -8.422    4084.698\n",
       "FullBath                458.7982    728.374      0.630      0.529    -969.994    1887.590\n",
       "HalfBath               -527.2643    693.707     -0.760      0.447   -1888.052     833.523\n",
       "BedroomAbvGr            536.6054    383.595      1.399      0.162    -215.861    1289.072\n",
       "KitchenAbvGr          -2310.8834   1258.392     -1.836      0.067   -4779.368     157.601\n",
       "Fireplaces             2219.8838    454.034      4.889      0.000    1329.243    3110.524\n",
       "GarageCars              559.8016    454.356      1.232      0.218    -331.471    1451.074\n",
       "SalePrice                 0.0295      0.007      4.365      0.000       0.016       0.043\n",
       "PavedDrive_N            1.48e+04   6270.666      2.359      0.018    2494.621    2.71e+04\n",
       "PavedDrive_P           1.493e+04   6428.733      2.322      0.020    2316.301    2.75e+04\n",
       "PavedDrive_Y           1.359e+04   6580.330      2.065      0.039     681.353    2.65e+04\n",
       "SaleCondition_Abnorml  7294.3343   3361.770      2.170      0.030     699.828    1.39e+04\n",
       "SaleCondition_AdjLand  6914.6106   5058.800      1.367      0.172   -3008.819    1.68e+04\n",
       "SaleCondition_Alloca   7593.4146   4098.862      1.853      0.064    -446.984    1.56e+04\n",
       "SaleCondition_Family   6751.5498   3675.619      1.837      0.066    -458.608     1.4e+04\n",
       "SaleCondition_Normal   7791.1782   3314.989      2.350      0.019    1288.439    1.43e+04\n",
       "SaleCondition_Partial  6966.6380   3504.950      1.988      0.047      91.266    1.38e+04\n",
       "==============================================================================\n",
       "Omnibus:                     2614.176   Durbin-Watson:                   2.036\n",
       "Prob(Omnibus):                  0.000   Jarque-Bera (JB):          2806522.416\n",
       "Skew:                          12.394   Prob(JB):                         0.00\n",
       "Kurtosis:                     216.355   Cond. No.                     4.09e+17\n",
       "==============================================================================\n",
       "\n",
       "Notes:\n",
       "[1] Standard Errors assume that the covariance matrix of the errors is correctly specified.\n",
       "[2] The smallest eigenvalue is 3.41e-22. This might indicate that there are\n",
       "strong multicollinearity problems or that the design matrix is singular.\n",
       "\"\"\""
      ]
     },
     "execution_count": 714,
     "metadata": {},
     "output_type": "execute_result"
    }
   ],
   "source": [
    "X = data3.drop('LotArea', axis=1)  \n",
    "Y = data3['LotArea']\n",
    "X = sm.add_constant(X)\n",
    "model = sm.OLS(Y, X).fit()\n",
    "model.summary()"
   ]
  },
  {
   "cell_type": "code",
   "execution_count": 716,
   "id": "b1eba64a-3c36-4620-9e9a-a19476678648",
   "metadata": {},
   "outputs": [
    {
     "name": "stdout",
     "output_type": "stream",
     "text": [
      "Most Significant Inputs:\n",
      "OverallQual    4.455178e-09\n",
      "Fireplaces     1.125990e-06\n",
      "SalePrice      1.360238e-05\n",
      "dtype: float64\n",
      "\n",
      "Least Significant Inputs:\n",
      "2ndFlrSF       0.537827\n",
      "GrLivArea      0.734878\n",
      "OverallCond    0.744641\n",
      "dtype: float64\n"
     ]
    }
   ],
   "source": [
    "p_values = model.pvalues.sort_values()\n",
    "print(\"Most Significant Inputs:\")\n",
    "print(p_values.head(3))\n",
    "print(\"\\nLeast Significant Inputs:\")\n",
    "print(p_values.tail(3))\n",
    "# p_values"
   ]
  },
  {
   "cell_type": "markdown",
   "id": "9f275425-99fb-4f15-9282-6e47fc819f21",
   "metadata": {},
   "source": [
    "##### **^Explanation/Reasoning:**  With an R-squared value of 0.172, the regression model shows a comparatively poor relationship between the input variables and `LotArea`. This suggests that only 17.2% of the variance in lot sizes can be explained by the model. Larger lots are generally associated with higher quality homes that command higher prices and have more amenities, such as fireplaces. This is supported by factors like `OverallQual`, `Fireplaces`, and `SalePrice`. This pattern indicates that buyers favour large rooms in upscale homes. On the other hand, variables such as `FullBath`, `GrLivArea`, and `OverallCond` have little effect on lot size, indicating that the lot's size is determined more by its market position and overall desirability than by the internal features or condition of the house. This reflects buyer priorities and property valuation considerations in the real estate market.\r\n"
   ]
  },
  {
   "cell_type": "code",
   "execution_count": 708,
   "id": "c016e459-bdf1-479b-ab9c-c0e907d7fa85",
   "metadata": {},
   "outputs": [
    {
     "data": {
      "text/html": [
       "<div>\n",
       "<style scoped>\n",
       "    .dataframe tbody tr th:only-of-type {\n",
       "        vertical-align: middle;\n",
       "    }\n",
       "\n",
       "    .dataframe tbody tr th {\n",
       "        vertical-align: top;\n",
       "    }\n",
       "\n",
       "    .dataframe thead th {\n",
       "        text-align: right;\n",
       "    }\n",
       "</style>\n",
       "<table border=\"1\" class=\"dataframe\">\n",
       "  <thead>\n",
       "    <tr style=\"text-align: right;\">\n",
       "      <th></th>\n",
       "      <th>const</th>\n",
       "      <th>OverallQual</th>\n",
       "      <th>OverallCond</th>\n",
       "      <th>YearBuilt</th>\n",
       "      <th>TotalBsmtSF</th>\n",
       "      <th>1stFlrSF</th>\n",
       "      <th>2ndFlrSF</th>\n",
       "      <th>GrLivArea</th>\n",
       "      <th>BsmtFullBath</th>\n",
       "      <th>BsmtHalfBath</th>\n",
       "      <th>...</th>\n",
       "      <th>SalePrice</th>\n",
       "      <th>PavedDrive_N</th>\n",
       "      <th>PavedDrive_P</th>\n",
       "      <th>PavedDrive_Y</th>\n",
       "      <th>SaleCondition_Abnorml</th>\n",
       "      <th>SaleCondition_AdjLand</th>\n",
       "      <th>SaleCondition_Alloca</th>\n",
       "      <th>SaleCondition_Family</th>\n",
       "      <th>SaleCondition_Normal</th>\n",
       "      <th>SaleCondition_Partial</th>\n",
       "    </tr>\n",
       "  </thead>\n",
       "  <tbody>\n",
       "    <tr>\n",
       "      <th>0</th>\n",
       "      <td>1</td>\n",
       "      <td>8</td>\n",
       "      <td>6</td>\n",
       "      <td>1995</td>\n",
       "      <td>1200</td>\n",
       "      <td>1250</td>\n",
       "      <td>850</td>\n",
       "      <td>2100</td>\n",
       "      <td>1</td>\n",
       "      <td>1</td>\n",
       "      <td>...</td>\n",
       "      <td>350000</td>\n",
       "      <td>0</td>\n",
       "      <td>0</td>\n",
       "      <td>1</td>\n",
       "      <td>0</td>\n",
       "      <td>0</td>\n",
       "      <td>0</td>\n",
       "      <td>0</td>\n",
       "      <td>1</td>\n",
       "      <td>0</td>\n",
       "    </tr>\n",
       "  </tbody>\n",
       "</table>\n",
       "<p>1 rows × 26 columns</p>\n",
       "</div>"
      ],
      "text/plain": [
       "   const  OverallQual  OverallCond  YearBuilt  TotalBsmtSF  1stFlrSF  \\\n",
       "0      1            8            6       1995         1200      1250   \n",
       "\n",
       "   2ndFlrSF  GrLivArea  BsmtFullBath  BsmtHalfBath  ...  SalePrice  \\\n",
       "0       850       2100             1             1  ...     350000   \n",
       "\n",
       "   PavedDrive_N  PavedDrive_P  PavedDrive_Y  SaleCondition_Abnorml  \\\n",
       "0             0             0             1                      0   \n",
       "\n",
       "   SaleCondition_AdjLand  SaleCondition_Alloca  SaleCondition_Family  \\\n",
       "0                      0                     0                     0   \n",
       "\n",
       "   SaleCondition_Normal  SaleCondition_Partial  \n",
       "0                     1                      0  \n",
       "\n",
       "[1 rows x 26 columns]"
      ]
     },
     "execution_count": 708,
     "metadata": {},
     "output_type": "execute_result"
    }
   ],
   "source": [
    "# creating new input\n",
    "new_input_data = {\n",
    "    'const': 1,\n",
    "    'OverallQual': 8,\n",
    "    'OverallCond': 6,\n",
    "    'YearBuilt': 1995,\n",
    "    'TotalBsmtSF': 1200,\n",
    "    '1stFlrSF': 1250,\n",
    "    '2ndFlrSF': 850,\n",
    "    'GrLivArea': 2100,\n",
    "    'BsmtFullBath': 1,\n",
    "    'BsmtHalfBath': 1,\n",
    "    'FullBath': 2,\n",
    "    'HalfBath': 1,\n",
    "    'BedroomAbvGr': 4,\n",
    "    'KitchenAbvGr': 1,\n",
    "    'Fireplaces': 2,\n",
    "    'GarageCars': 2,\n",
    "    'SalePrice': 350000,\n",
    "    'PavedDrive_N': 0,\n",
    "    'PavedDrive_P': 0,\n",
    "    'PavedDrive_Y': 1,\n",
    "    'SaleCondition_Abnorml': 0,\n",
    "    'SaleCondition_AdjLand': 0,\n",
    "    'SaleCondition_Alloca': 0,\n",
    "    'SaleCondition_Family': 0,\n",
    "    'SaleCondition_Normal': 1,\n",
    "    'SaleCondition_Partial': 0\n",
    "}\n",
    "\n",
    "new_input = pd.DataFrame([new_input_data])\n",
    "new_input"
   ]
  },
  {
   "cell_type": "code",
   "execution_count": 710,
   "id": "3770b4cb-eba7-43f1-b4a6-2a3b1f7f4722",
   "metadata": {},
   "outputs": [
    {
     "data": {
      "text/plain": [
       "0    4.417649e+09\n",
       "dtype: float64"
      ]
     },
     "execution_count": 710,
     "metadata": {},
     "output_type": "execute_result"
    }
   ],
   "source": [
    "model.predict(new_input)"
   ]
  },
  {
   "cell_type": "markdown",
   "id": "961f446f-972a-4fce-9852-44c7f519433d",
   "metadata": {},
   "source": [
    "###### The predicted `LotArea` for the given input using this model is 4,417,649,000"
   ]
  },
  {
   "cell_type": "markdown",
   "id": "a3811be6-cb0e-4e52-9df7-b95c2b1ee671",
   "metadata": {},
   "source": [
    "## Q6"
   ]
  },
  {
   "cell_type": "markdown",
   "id": "9d50db99-7646-420f-b2a7-dfa15a918848",
   "metadata": {},
   "source": [
    "##### From Question 4, drop/remove all the columns which are not signification (p-value >0.05) and create a new model to predict SalePrice. Discuss the performance of the model using few inputs as compared to using all inputs in (Question 4). Which model do you prefer and why? a. The idea is to create a simple generalized model with fewer inputs which are important for prediction and getting the similar performance. For this concept, please research and study “Regularization in Regression” "
   ]
  },
  {
   "cell_type": "code",
   "execution_count": 585,
   "id": "23284ebd-ae6e-46c4-9e85-d07a0533138b",
   "metadata": {},
   "outputs": [],
   "source": [
    "data4 = pd.read_csv('HousePricingData.csv')\n",
    "if 'Id' in data4.columns:\n",
    "    data4.drop(['Id'], axis=1, inplace=True)\n",
    "\n",
    "# data4.shape[1]\n",
    "# data4.columns\n",
    "\n",
    "categorical_cols = data4.select_dtypes(include=['object']).columns.tolist()\n",
    "\n",
    "data4 = pd.get_dummies(data4, columns=categorical_cols, dtype='int')\n",
    "\n",
    "# Model from Question 4\n",
    "X_full = data4.drop('SalePrice', axis=1)\n",
    "Y = data4['SalePrice']\n",
    "X_full = sm.add_constant(X_full)\n",
    "model_1 = sm.OLS(Y, X_full).fit()\n",
    "\n",
    "# Model with few inputs having p-values < 0.05\n",
    "significant_vars = model_1.pvalues[model_1.pvalues < 0.05].index.tolist()\n",
    "X_significant = X_full[significant_vars]\n",
    "model_2 = sm.OLS(Y, X_significant).fit()\n",
    "# model_2.summary()"
   ]
  },
  {
   "cell_type": "code",
   "execution_count": 350,
   "id": "9f3aadf8-ab06-467b-a8fa-2b6d30cb8f41",
   "metadata": {},
   "outputs": [
    {
     "name": "stdout",
     "output_type": "stream",
     "text": [
      "Model with all inputs (Question 4) Summary:\n",
      "                            OLS Regression Results                            \n",
      "==============================================================================\n",
      "Dep. Variable:              SalePrice   R-squared:                       0.803\n",
      "Model:                            OLS   Adj. R-squared:                  0.800\n",
      "Method:                 Least Squares   F-statistic:                     255.0\n",
      "Date:                Tue, 15 Oct 2024   Prob (F-statistic):               0.00\n",
      "Time:                        14:38:29   Log-Likelihood:                -17357.\n",
      "No. Observations:                1460   AIC:                         3.476e+04\n",
      "Df Residuals:                    1436   BIC:                         3.489e+04\n",
      "Df Model:                          23                                         \n",
      "Covariance Type:            nonrobust                                         \n",
      "=========================================================================================\n",
      "                            coef    std err          t      P>|t|      [0.025      0.975]\n",
      "-----------------------------------------------------------------------------------------\n",
      "const                 -4.947e+05    7.3e+04     -6.780      0.000   -6.38e+05   -3.52e+05\n",
      "LotArea                   0.4440      0.102      4.365      0.000       0.244       0.644\n",
      "OverallQual            1.692e+04   1177.941     14.367      0.000    1.46e+04    1.92e+04\n",
      "OverallCond            6039.0894    956.584      6.313      0.000    4162.637    7915.541\n",
      "YearBuilt               341.6491     56.102      6.090      0.000     231.598     451.700\n",
      "TotalBsmtSF              12.9967      4.158      3.126      0.002       4.841      21.153\n",
      "1stFlrSF                 36.2027     20.439      1.771      0.077      -3.891      76.297\n",
      "2ndFlrSF                 25.9362     20.177      1.285      0.199     -13.643      65.515\n",
      "GrLivArea                30.7754     19.778      1.556      0.120      -8.021      69.572\n",
      "BsmtFullBath           1.383e+04   2034.384      6.798      0.000    9839.087    1.78e+04\n",
      "BsmtHalfBath           5091.5630   4051.182      1.257      0.209   -2855.307     1.3e+04\n",
      "FullBath               2350.7552   2825.817      0.832      0.406   -3192.416    7893.927\n",
      "HalfBath               -138.2292   2692.136     -0.051      0.959   -5419.170    5142.712\n",
      "BedroomAbvGr          -5317.9224   1482.744     -3.587      0.000   -8226.498   -2409.346\n",
      "KitchenAbvGr          -2.131e+04   4855.873     -4.388      0.000   -3.08e+04   -1.18e+04\n",
      "Fireplaces             5008.3921   1771.339      2.827      0.005    1533.703    8483.081\n",
      "GarageCars             1.259e+04   1732.280      7.267      0.000    9189.770     1.6e+04\n",
      "PavedDrive_N          -1.604e+05    2.4e+04     -6.681      0.000   -2.07e+05   -1.13e+05\n",
      "PavedDrive_P          -1.692e+05   2.46e+04     -6.881      0.000   -2.17e+05   -1.21e+05\n",
      "PavedDrive_Y          -1.652e+05   2.52e+04     -6.555      0.000   -2.15e+05   -1.16e+05\n",
      "SaleCondition_Abnorml -9.189e+04   1.28e+04     -7.157      0.000   -1.17e+05   -6.67e+04\n",
      "SaleCondition_AdjLand  -7.13e+04   1.96e+04     -3.647      0.000    -1.1e+05   -3.29e+04\n",
      "SaleCondition_Alloca  -8.899e+04   1.57e+04     -5.651      0.000    -1.2e+05   -5.81e+04\n",
      "SaleCondition_Family  -9.712e+04    1.4e+04     -6.914      0.000   -1.25e+05   -6.96e+04\n",
      "SaleCondition_Normal  -8.492e+04   1.27e+04     -6.692      0.000    -1.1e+05      -6e+04\n",
      "SaleCondition_Partial -6.052e+04   1.35e+04     -4.475      0.000    -8.7e+04    -3.4e+04\n",
      "==============================================================================\n",
      "Omnibus:                      755.660   Durbin-Watson:                   1.953\n",
      "Prob(Omnibus):                  0.000   Jarque-Bera (JB):           139793.792\n",
      "Skew:                          -1.296   Prob(JB):                         0.00\n",
      "Kurtosis:                      50.867   Cond. No.                     5.88e+17\n",
      "==============================================================================\n",
      "\n",
      "Notes:\n",
      "[1] Standard Errors assume that the covariance matrix of the errors is correctly specified.\n",
      "[2] The smallest eigenvalue is 9.08e-25. This might indicate that there are\n",
      "strong multicollinearity problems or that the design matrix is singular.\n",
      "\n",
      "Model with few inputs Summary:\n",
      "                            OLS Regression Results                            \n",
      "==============================================================================\n",
      "Dep. Variable:              SalePrice   R-squared:                       0.753\n",
      "Model:                            OLS   Adj. R-squared:                  0.750\n",
      "Method:                 Least Squares   F-statistic:                     258.4\n",
      "Date:                Tue, 15 Oct 2024   Prob (F-statistic):               0.00\n",
      "Time:                        14:38:29   Log-Likelihood:                -17524.\n",
      "No. Observations:                1460   AIC:                         3.508e+04\n",
      "Df Residuals:                    1442   BIC:                         3.518e+04\n",
      "Df Model:                          17                                         \n",
      "Covariance Type:            nonrobust                                         \n",
      "=========================================================================================\n",
      "                            coef    std err          t      P>|t|      [0.025      0.975]\n",
      "-----------------------------------------------------------------------------------------\n",
      "const                 -3.244e+05   7.03e+04     -4.617      0.000   -4.62e+05   -1.87e+05\n",
      "LotArea                   0.6879      0.113      6.112      0.000       0.467       0.909\n",
      "OverallQual             2.63e+04   1172.051     22.435      0.000     2.4e+04    2.86e+04\n",
      "OverallCond            5003.4352   1056.883      4.734      0.000    2930.242    7076.628\n",
      "YearBuilt               188.4952     53.575      3.518      0.000      83.402     293.588\n",
      "TotalBsmtSF              29.0364      3.123      9.297      0.000      22.910      35.163\n",
      "BsmtFullBath           1.207e+04   2200.508      5.486      0.000    7754.908    1.64e+04\n",
      "BedroomAbvGr           9735.2845   1368.080      7.116      0.000    7051.645    1.24e+04\n",
      "KitchenAbvGr          -4621.8269   5200.420     -0.889      0.374   -1.48e+04    5579.372\n",
      "Fireplaces             1.453e+04   1873.409      7.757      0.000    1.09e+04    1.82e+04\n",
      "GarageCars             1.898e+04   1892.292     10.030      0.000    1.53e+04    2.27e+04\n",
      "PavedDrive_N          -1.014e+05   2.31e+04     -4.392      0.000   -1.47e+05   -5.61e+04\n",
      "PavedDrive_P          -1.148e+05   2.37e+04     -4.841      0.000   -1.61e+05   -6.83e+04\n",
      "PavedDrive_Y          -1.081e+05   2.45e+04     -4.413      0.000   -1.56e+05   -6.01e+04\n",
      "SaleCondition_Abnorml -6.118e+04   1.23e+04     -4.955      0.000   -8.54e+04    -3.7e+04\n",
      "SaleCondition_AdjLand -4.677e+04    2.1e+04     -2.226      0.026    -8.8e+04   -5555.581\n",
      "SaleCondition_Alloca  -5.117e+04    1.6e+04     -3.204      0.001   -8.25e+04   -1.98e+04\n",
      "SaleCondition_Family  -7.729e+04   1.41e+04     -5.490      0.000   -1.05e+05   -4.97e+04\n",
      "SaleCondition_Normal  -5.708e+04   1.23e+04     -4.640      0.000   -8.12e+04   -3.29e+04\n",
      "SaleCondition_Partial -3.089e+04   1.33e+04     -2.321      0.020    -5.7e+04   -4781.637\n",
      "==============================================================================\n",
      "Omnibus:                      634.582   Durbin-Watson:                   1.965\n",
      "Prob(Omnibus):                  0.000   Jarque-Bera (JB):            28283.258\n",
      "Skew:                           1.287   Prob(JB):                         0.00\n",
      "Kurtosis:                      24.408   Cond. No.                     1.90e+20\n",
      "==============================================================================\n",
      "\n",
      "Notes:\n",
      "[1] Standard Errors assume that the covariance matrix of the errors is correctly specified.\n",
      "[2] The smallest eigenvalue is 8.65e-30. This might indicate that there are\n",
      "strong multicollinearity problems or that the design matrix is singular.\n"
     ]
    }
   ],
   "source": [
    "# Model with all inputs\n",
    "print(\"Model with all inputs (Question 4) Summary:\")\n",
    "print(model_1.summary())\n",
    "\n",
    "# Model with few inputs\n",
    "print(\"\\nModel with few inputs Summary:\")\n",
    "print(model_2.summary())"
   ]
  },
  {
   "cell_type": "markdown",
   "id": "4df86051-e1cb-43e6-a79d-9530ee1b9678",
   "metadata": {},
   "source": [
    "##### **^Explanation/Reasoning:**  When comparing the two regression models, it can be seen that the model which makes use of all inputs, has an R-squared of 0.803 and accounts for around 80.3% of the variance in `SalePrice`. On the other hand, the R-squared of the reduced model which only incorporates statistically relevant inputs, is 0.753, accounting for 75.3% of the variation. The simplified model is better because of its improved generalisability, less danger of overfitting, and decreased complexity, even though its explanatory power has somewhat decreased. This simplified method preserves a high level of predicted accuracy while also increasing the model's interpretability and efficiency, which makes it more useful for real estate valuation applications in the real world.\n"
   ]
  },
  {
   "cell_type": "markdown",
   "id": "c753a7ac-df25-445e-972a-48cad113f73b",
   "metadata": {},
   "source": [
    "## Q7"
   ]
  },
  {
   "cell_type": "markdown",
   "id": "949227f7-7064-4e63-a5b6-49b76b625e03",
   "metadata": {},
   "source": [
    "##### Using the model in Question 6, create 3 new data records and predict their SalePrice. Discuss if the predicted output looks good and make sense.."
   ]
  },
  {
   "cell_type": "code",
   "execution_count": 723,
   "id": "31883862-0538-4b42-9087-444915f8f236",
   "metadata": {},
   "outputs": [
    {
     "data": {
      "text/html": [
       "<div>\n",
       "<style scoped>\n",
       "    .dataframe tbody tr th:only-of-type {\n",
       "        vertical-align: middle;\n",
       "    }\n",
       "\n",
       "    .dataframe tbody tr th {\n",
       "        vertical-align: top;\n",
       "    }\n",
       "\n",
       "    .dataframe thead th {\n",
       "        text-align: right;\n",
       "    }\n",
       "</style>\n",
       "<table border=\"1\" class=\"dataframe\">\n",
       "  <thead>\n",
       "    <tr style=\"text-align: right;\">\n",
       "      <th></th>\n",
       "      <th>const</th>\n",
       "      <th>LotArea</th>\n",
       "      <th>OverallQual</th>\n",
       "      <th>OverallCond</th>\n",
       "      <th>YearBuilt</th>\n",
       "      <th>TotalBsmtSF</th>\n",
       "      <th>1stFlrSF</th>\n",
       "      <th>2ndFlrSF</th>\n",
       "      <th>GrLivArea</th>\n",
       "      <th>BsmtFullBath</th>\n",
       "      <th>...</th>\n",
       "      <th>GarageCars</th>\n",
       "      <th>PavedDrive_N</th>\n",
       "      <th>PavedDrive_P</th>\n",
       "      <th>PavedDrive_Y</th>\n",
       "      <th>SaleCondition_Abnorml</th>\n",
       "      <th>SaleCondition_AdjLand</th>\n",
       "      <th>SaleCondition_Alloca</th>\n",
       "      <th>SaleCondition_Family</th>\n",
       "      <th>SaleCondition_Normal</th>\n",
       "      <th>SaleCondition_Partial</th>\n",
       "    </tr>\n",
       "  </thead>\n",
       "  <tbody>\n",
       "    <tr>\n",
       "      <th>0</th>\n",
       "      <td>1</td>\n",
       "      <td>9500</td>\n",
       "      <td>7</td>\n",
       "      <td>5</td>\n",
       "      <td>2001</td>\n",
       "      <td>1200</td>\n",
       "      <td>1180</td>\n",
       "      <td>1100</td>\n",
       "      <td>2280</td>\n",
       "      <td>1</td>\n",
       "      <td>...</td>\n",
       "      <td>2</td>\n",
       "      <td>0</td>\n",
       "      <td>0</td>\n",
       "      <td>1</td>\n",
       "      <td>0</td>\n",
       "      <td>0</td>\n",
       "      <td>0</td>\n",
       "      <td>0</td>\n",
       "      <td>1</td>\n",
       "      <td>0</td>\n",
       "    </tr>\n",
       "    <tr>\n",
       "      <th>1</th>\n",
       "      <td>1</td>\n",
       "      <td>12000</td>\n",
       "      <td>8</td>\n",
       "      <td>7</td>\n",
       "      <td>1995</td>\n",
       "      <td>1500</td>\n",
       "      <td>1400</td>\n",
       "      <td>1200</td>\n",
       "      <td>2600</td>\n",
       "      <td>2</td>\n",
       "      <td>...</td>\n",
       "      <td>3</td>\n",
       "      <td>0</td>\n",
       "      <td>1</td>\n",
       "      <td>0</td>\n",
       "      <td>0</td>\n",
       "      <td>1</td>\n",
       "      <td>0</td>\n",
       "      <td>0</td>\n",
       "      <td>0</td>\n",
       "      <td>0</td>\n",
       "    </tr>\n",
       "    <tr>\n",
       "      <th>2</th>\n",
       "      <td>1</td>\n",
       "      <td>8500</td>\n",
       "      <td>6</td>\n",
       "      <td>4</td>\n",
       "      <td>2010</td>\n",
       "      <td>1100</td>\n",
       "      <td>1000</td>\n",
       "      <td>800</td>\n",
       "      <td>1800</td>\n",
       "      <td>1</td>\n",
       "      <td>...</td>\n",
       "      <td>1</td>\n",
       "      <td>1</td>\n",
       "      <td>0</td>\n",
       "      <td>0</td>\n",
       "      <td>1</td>\n",
       "      <td>0</td>\n",
       "      <td>0</td>\n",
       "      <td>0</td>\n",
       "      <td>0</td>\n",
       "      <td>0</td>\n",
       "    </tr>\n",
       "  </tbody>\n",
       "</table>\n",
       "<p>3 rows × 26 columns</p>\n",
       "</div>"
      ],
      "text/plain": [
       "   const  LotArea  OverallQual  OverallCond  YearBuilt  TotalBsmtSF  1stFlrSF  \\\n",
       "0      1     9500            7            5       2001         1200      1180   \n",
       "1      1    12000            8            7       1995         1500      1400   \n",
       "2      1     8500            6            4       2010         1100      1000   \n",
       "\n",
       "   2ndFlrSF  GrLivArea  BsmtFullBath  ...  GarageCars  PavedDrive_N  \\\n",
       "0      1100       2280             1  ...           2             0   \n",
       "1      1200       2600             2  ...           3             0   \n",
       "2       800       1800             1  ...           1             1   \n",
       "\n",
       "   PavedDrive_P  PavedDrive_Y  SaleCondition_Abnorml  SaleCondition_AdjLand  \\\n",
       "0             0             1                      0                      0   \n",
       "1             1             0                      0                      1   \n",
       "2             0             0                      1                      0   \n",
       "\n",
       "   SaleCondition_Alloca  SaleCondition_Family  SaleCondition_Normal  \\\n",
       "0                     0                     0                     1   \n",
       "1                     0                     0                     0   \n",
       "2                     0                     0                     0   \n",
       "\n",
       "   SaleCondition_Partial  \n",
       "0                      0  \n",
       "1                      0  \n",
       "2                      0  \n",
       "\n",
       "[3 rows x 26 columns]"
      ]
     },
     "execution_count": 723,
     "metadata": {},
     "output_type": "execute_result"
    }
   ],
   "source": [
    "# creating new data\n",
    "new_input_data = {\n",
    "    'const': [1, 1, 1],\n",
    "    'LotArea': [9500, 12000, 8500],\n",
    "    'OverallQual': [7, 8, 6],\n",
    "    'OverallCond': [5, 7, 4],\n",
    "    'YearBuilt': [2001, 1995, 2010],\n",
    "    'TotalBsmtSF': [1200, 1500, 1100],\n",
    "    '1stFlrSF': [1180, 1400, 1000],\n",
    "    '2ndFlrSF': [1100, 1200, 800],\n",
    "    'GrLivArea': [2280, 2600, 1800],\n",
    "    'BsmtFullBath': [1, 2, 1],\n",
    "    'BsmtHalfBath': [0, 0, 1],\n",
    "    'FullBath': [2, 3, 1],\n",
    "    'HalfBath': [1, 1, 0],\n",
    "    'BedroomAbvGr': [4, 5, 3],\n",
    "    'KitchenAbvGr': [1, 1, 1],\n",
    "    'Fireplaces': [1, 2, 0],\n",
    "    'GarageCars': [2, 3, 1],\n",
    "    'PavedDrive_N': [0, 0, 1],\n",
    "    'PavedDrive_P': [0, 1, 0],\n",
    "    'PavedDrive_Y': [1, 0, 0],\n",
    "    'SaleCondition_Abnorml': [0, 0, 1],\n",
    "    'SaleCondition_AdjLand': [0, 1, 0],\n",
    "    'SaleCondition_Alloca': [0, 0, 0],\n",
    "    'SaleCondition_Family': [0, 0, 0],\n",
    "    'SaleCondition_Normal': [1, 0, 0],\n",
    "    'SaleCondition_Partial': [0, 0, 0]\n",
    "}\n",
    "\n",
    "new_input = pd.DataFrame(new_input_data)\n",
    "new_input"
   ]
  },
  {
   "cell_type": "code",
   "execution_count": 731,
   "id": "003489f4-8b6c-4cca-8bcf-80543a7100e4",
   "metadata": {},
   "outputs": [],
   "source": [
    "new_input_filtered = new_input[significant_vars]"
   ]
  },
  {
   "cell_type": "code",
   "execution_count": 733,
   "id": "0067a17b-b538-42a2-829b-d647dae75885",
   "metadata": {},
   "outputs": [
    {
     "data": {
      "text/plain": [
       "0    236969.567892\n",
       "1    341470.057860\n",
       "2    163111.353248\n",
       "dtype: float64"
      ]
     },
     "execution_count": 733,
     "metadata": {},
     "output_type": "execute_result"
    }
   ],
   "source": [
    "model_2.predict(new_input_filtered)"
   ]
  },
  {
   "cell_type": "markdown",
   "id": "e1c9e996-e1f6-4a0e-aaf7-869c5c5712fe",
   "metadata": {},
   "source": [
    "###### The predicted `SalePrice` for the three records are approximately 236,699.57, 341,470.06, and 163,111.35, respectively, reflecting the differences in property features."
   ]
  },
  {
   "cell_type": "code",
   "execution_count": null,
   "id": "88cf04e4-d593-413c-a9c7-7debdecd7ca1",
   "metadata": {},
   "outputs": [],
   "source": []
  }
 ],
 "metadata": {
  "kernelspec": {
   "display_name": "Python 3 (ipykernel)",
   "language": "python",
   "name": "python3"
  },
  "language_info": {
   "codemirror_mode": {
    "name": "ipython",
    "version": 3
   },
   "file_extension": ".py",
   "mimetype": "text/x-python",
   "name": "python",
   "nbconvert_exporter": "python",
   "pygments_lexer": "ipython3",
   "version": "3.12.4"
  }
 },
 "nbformat": 4,
 "nbformat_minor": 5
}
