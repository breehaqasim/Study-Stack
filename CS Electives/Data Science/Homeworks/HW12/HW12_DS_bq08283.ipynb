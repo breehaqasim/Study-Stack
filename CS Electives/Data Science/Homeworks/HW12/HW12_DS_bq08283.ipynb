{
  "cells": [
    {
      "cell_type": "markdown",
      "metadata": {
        "application/vnd.databricks.v1+cell": {
          "cellMetadata": {},
          "inputWidgets": {},
          "nuid": "998874f6-f184-424a-82bc-95c959ac5de0",
          "showTitle": false,
          "tableResultSettingsMap": {},
          "title": ""
        },
        "id": "AL1arN8rwTu6"
      },
      "source": [
        "### Breeha Qasim 08283"
      ]
    },
    {
      "cell_type": "markdown",
      "metadata": {
        "id": "q5cq8OqSwTu7"
      },
      "source": [
        "###### bq08283@st.habib.edu.pk"
      ]
    },
    {
      "cell_type": "code",
      "execution_count": 23,
      "metadata": {
        "application/vnd.databricks.v1+cell": {
          "cellMetadata": {
            "byteLimit": 2048000,
            "rowLimit": 10000
          },
          "inputWidgets": {},
          "nuid": "995767c2-8fbe-4a7d-80ac-3109c45de204",
          "showTitle": false,
          "tableResultSettingsMap": {},
          "title": ""
        },
        "id": "_I-0j5MCwTu7"
      },
      "outputs": [],
      "source": [
        "from pyspark import SparkConf, SparkContext\n",
        "from pyspark.sql import SQLContext, SparkSession\n",
        "\n",
        "#sc is the Spark Context already available at databricks, so we do not need to create it again.\n",
        "# sc = SparkContext()\n",
        "# sqlContext = SQLContext(sc)\n",
        "\n",
        "# from pyspark.sql import SparkSession\n",
        "sqlContext = SparkSession.builder.appName('abc').getOrCreate()"
      ]
    },
    {
      "cell_type": "markdown",
      "metadata": {
        "application/vnd.databricks.v1+cell": {
          "cellMetadata": {},
          "inputWidgets": {},
          "nuid": "dad83ce3-0a95-468b-be6b-eeb20a725806",
          "showTitle": false,
          "tableResultSettingsMap": {},
          "title": ""
        },
        "id": "b8P5zWtdwTu8"
      },
      "source": [
        "# Creating RDD (Resilient Distributed Dataset) - fundamental data structure of Spark"
      ]
    },
    {
      "cell_type": "code",
      "execution_count": 29,
      "metadata": {
        "application/vnd.databricks.v1+cell": {
          "cellMetadata": {
            "byteLimit": 2048000,
            "rowLimit": 10000
          },
          "inputWidgets": {},
          "nuid": "85a92d7d-862a-43da-a8e8-c1505a52225f",
          "showTitle": false,
          "tableResultSettingsMap": {},
          "title": ""
        },
        "id": "7HkzH2JzwTu8"
      },
      "outputs": [],
      "source": [
        "products = sc.textFile(\"SalesData.txt\")"
      ]
    },
    {
      "cell_type": "code",
      "execution_count": 30,
      "metadata": {
        "colab": {
          "base_uri": "https://localhost:8080/",
          "height": 54
        },
        "id": "-pXW5deLwTu9",
        "outputId": "a062b1b4-5e22-40eb-801d-e21b964cc63c"
      },
      "outputs": [
        {
          "output_type": "execute_result",
          "data": {
            "text/plain": [
              "'ProductID\\tName\\tProductNumber\\tColor\\tStandardCost\\tListPrice\\tSize\\tWeight\\tProductCategoryID\\tProductModelID\\tSellStartDate\\tSellEndDate\\tDiscontinuedDate\\tThumbNailPhoto\\tThumbnailPhotoFileName\\trowguid\\tModifiedDate'"
            ],
            "application/vnd.google.colaboratory.intrinsic+json": {
              "type": "string"
            }
          },
          "metadata": {},
          "execution_count": 30
        }
      ],
      "source": [
        "products.first()"
      ]
    },
    {
      "cell_type": "code",
      "execution_count": 31,
      "metadata": {
        "application/vnd.databricks.v1+cell": {
          "cellMetadata": {
            "byteLimit": 2048000,
            "rowLimit": 10000
          },
          "inputWidgets": {},
          "nuid": "1d226610-9a0e-4915-9861-82c2b2163b0c",
          "showTitle": false,
          "tableResultSettingsMap": {},
          "title": ""
        },
        "id": "shEw-OrSwTu9",
        "outputId": "78dfbd13-281f-4aa4-c8ef-d2327dcdb9e5",
        "colab": {
          "base_uri": "https://localhost:8080/"
        }
      },
      "outputs": [
        {
          "output_type": "stream",
          "name": "stdout",
          "text": [
            "The data has 17 columns\n"
          ]
        },
        {
          "output_type": "execute_result",
          "data": {
            "text/plain": [
              "['ProductID',\n",
              " 'Name',\n",
              " 'ProductNumber',\n",
              " 'Color',\n",
              " 'StandardCost',\n",
              " 'ListPrice',\n",
              " 'Size',\n",
              " 'Weight',\n",
              " 'ProductCategoryID',\n",
              " 'ProductModelID',\n",
              " 'SellStartDate',\n",
              " 'SellEndDate',\n",
              " 'DiscontinuedDate',\n",
              " 'ThumbNailPhoto',\n",
              " 'ThumbnailPhotoFileName',\n",
              " 'rowguid',\n",
              " 'ModifiedDate']"
            ]
          },
          "metadata": {},
          "execution_count": 31
        }
      ],
      "source": [
        "print(\"The data has {} columns\".format(len(products.first().split(\"\\t\"))))\n",
        "header = products.first().split(\"\\t\")\n",
        "header"
      ]
    },
    {
      "cell_type": "code",
      "execution_count": 32,
      "metadata": {
        "application/vnd.databricks.v1+cell": {
          "cellMetadata": {
            "byteLimit": 2048000,
            "rowLimit": 10000
          },
          "inputWidgets": {},
          "nuid": "ae301838-99e7-4a98-9531-f399521e6e46",
          "showTitle": false,
          "tableResultSettingsMap": {},
          "title": ""
        },
        "id": "gGtZ1otRwTu-"
      },
      "outputs": [],
      "source": [
        "head = products.first()\n",
        "content = products.filter(lambda line: line != head)"
      ]
    },
    {
      "cell_type": "code",
      "execution_count": 33,
      "metadata": {
        "application/vnd.databricks.v1+cell": {
          "cellMetadata": {
            "byteLimit": 2048000,
            "rowLimit": 10000
          },
          "inputWidgets": {},
          "nuid": "b25629db-cfa9-4fd9-93fb-a1dc0fe5a044",
          "showTitle": false,
          "tableResultSettingsMap": {},
          "title": ""
        },
        "id": "Z_acRxxWwTu-",
        "outputId": "03ed3e9e-40a2-4f04-e14c-7814429266ab",
        "colab": {
          "base_uri": "https://localhost:8080/",
          "height": 72
        }
      },
      "outputs": [
        {
          "output_type": "execute_result",
          "data": {
            "text/plain": [
              "'680\\tHL Road Frame - Black, 58\\tFR-R92B-58\\tBlack\\t1059.31\\t1431.50\\t58\\t1016.04\\t18\\t6\\t1998-06-01 00:00:00.000\\tNULL\\tNULL\\t0x47494638396150003100F70000000000800000008000808000000080800080008080808080C0C0C0FF000000FF00FFFF000000FFFF00FF00FFFFFFFFFF000000000000000000000000000000000000000000000000000000000000000000000000000000000000000000000000000000000000000000000000000000000000\\tno_image_available_small.gif\\t43DD68D6-14A4-461F-9069-55309D90EA7E\\t2004-03-11 10:01:36.827'"
            ],
            "application/vnd.google.colaboratory.intrinsic+json": {
              "type": "string"
            }
          },
          "metadata": {},
          "execution_count": 33
        }
      ],
      "source": [
        "content.first()"
      ]
    },
    {
      "cell_type": "code",
      "execution_count": 34,
      "metadata": {
        "application/vnd.databricks.v1+cell": {
          "cellMetadata": {
            "byteLimit": 2048000,
            "rowLimit": 10000
          },
          "inputWidgets": {},
          "nuid": "7c6477b3-ae17-40c9-ad94-e226c1d96a67",
          "showTitle": false,
          "tableResultSettingsMap": {},
          "title": ""
        },
        "id": "sVfa4E5mwTu-",
        "outputId": "b96ff7c2-3674-4e9b-c646-cbbcd5eee043",
        "colab": {
          "base_uri": "https://localhost:8080/"
        }
      },
      "outputs": [
        {
          "output_type": "execute_result",
          "data": {
            "text/plain": [
              "17"
            ]
          },
          "metadata": {},
          "execution_count": 34
        }
      ],
      "source": [
        "content.map(lambda line: len(line.split(\"\\t\"))).distinct().collect()[0]"
      ]
    },
    {
      "cell_type": "markdown",
      "metadata": {
        "application/vnd.databricks.v1+cell": {
          "cellMetadata": {},
          "inputWidgets": {},
          "nuid": "a3097865-16c7-4069-bf6b-b61d2a71ced9",
          "showTitle": false,
          "tableResultSettingsMap": {},
          "title": ""
        },
        "id": "vbLxM7zmwTu_"
      },
      "source": [
        "# Example of RDD using Scala"
      ]
    },
    {
      "cell_type": "code",
      "execution_count": 35,
      "metadata": {
        "application/vnd.databricks.v1+cell": {
          "cellMetadata": {
            "byteLimit": 2048000,
            "rowLimit": 10000
          },
          "inputWidgets": {},
          "nuid": "fd3e1c26-ea05-4ffb-b91d-6ef5936864db",
          "showTitle": false,
          "tableResultSettingsMap": {},
          "title": ""
        },
        "id": "ADz06B12wTu_",
        "outputId": "468d5173-296f-4aca-ce3b-1082e3ad4473",
        "colab": {
          "base_uri": "https://localhost:8080/"
        }
      },
      "outputs": [
        {
          "output_type": "execute_result",
          "data": {
            "text/plain": [
              "[['680',\n",
              "  'HL Road Frame - Black, 58',\n",
              "  'FR-R92B-58',\n",
              "  'Black',\n",
              "  '1059.31',\n",
              "  '1431.50',\n",
              "  '58',\n",
              "  '1016.04',\n",
              "  '18',\n",
              "  '6',\n",
              "  '1998-06-01 00:00:00.000',\n",
              "  'NULL',\n",
              "  'NULL',\n",
              "  '0x47494638396150003100F70000000000800000008000808000000080800080008080808080C0C0C0FF000000FF00FFFF000000FFFF00FF00FFFFFFFFFF000000000000000000000000000000000000000000000000000000000000000000000000000000000000000000000000000000000000000000000000000000000000',\n",
              "  'no_image_available_small.gif',\n",
              "  '43DD68D6-14A4-461F-9069-55309D90EA7E',\n",
              "  '2004-03-11 10:01:36.827']]"
            ]
          },
          "metadata": {},
          "execution_count": 35
        }
      ],
      "source": [
        "rdd1 = (content.filter(lambda line: line.split(\"\\t\"))\n",
        " .map(lambda line: (line.split(\"\\t\")))\n",
        ")\n",
        "rdd1.take(1)"
      ]
    },
    {
      "cell_type": "markdown",
      "metadata": {
        "application/vnd.databricks.v1+cell": {
          "cellMetadata": {},
          "inputWidgets": {},
          "nuid": "a105419c-a4d8-4fee-a173-8a25b774998c",
          "showTitle": false,
          "tableResultSettingsMap": {},
          "title": ""
        },
        "id": "_Xdb6mUdwTu_"
      },
      "source": [
        "# Converting RDD into Spark Dataframe"
      ]
    },
    {
      "cell_type": "code",
      "execution_count": 36,
      "metadata": {
        "application/vnd.databricks.v1+cell": {
          "cellMetadata": {
            "byteLimit": 2048000,
            "rowLimit": 10000
          },
          "inputWidgets": {},
          "nuid": "9a3f50ec-faaf-4aae-975c-5eeb4b1f66d6",
          "showTitle": false,
          "tableResultSettingsMap": {},
          "title": ""
        },
        "id": "gjnnbMtNwTu_",
        "outputId": "33b1d079-5340-4a33-c952-084b19ae28ea",
        "colab": {
          "base_uri": "https://localhost:8080/"
        }
      },
      "outputs": [
        {
          "output_type": "stream",
          "name": "stdout",
          "text": [
            "+---------+--------------------+-------------+-----+------------+---------+----+-------+-----------------+--------------+--------------------+--------------------+----------------+--------------------+----------------------+--------------------+--------------------+\n",
            "|ProductID|                Name|ProductNumber|Color|StandardCost|ListPrice|Size| Weight|ProductCategoryID|ProductModelID|       SellStartDate|         SellEndDate|DiscontinuedDate|      ThumbNailPhoto|ThumbnailPhotoFileName|             rowguid|        ModifiedDate|\n",
            "+---------+--------------------+-------------+-----+------------+---------+----+-------+-----------------+--------------+--------------------+--------------------+----------------+--------------------+----------------------+--------------------+--------------------+\n",
            "|      680|HL Road Frame - B...|   FR-R92B-58|Black|     1059.31|  1431.50|  58|1016.04|               18|             6|1998-06-01 00:00:...|                NULL|            NULL|0x474946383961500...|  no_image_availabl...|43DD68D6-14A4-461...|2004-03-11 10:01:...|\n",
            "|      706|HL Road Frame - R...|   FR-R92R-58|  Red|     1059.31|  1431.50|  58|1016.04|               18|             6|1998-06-01 00:00:...|                NULL|            NULL|0x474946383961500...|  no_image_availabl...|9540FF17-2712-4C9...|2004-03-11 10:01:...|\n",
            "|      707|Sport-100 Helmet,...|    HL-U509-R|  Red|     13.0863|    34.99|NULL|   NULL|               35|            33|2001-07-01 00:00:...|                NULL|            NULL|0x474946383961500...|  no_image_availabl...|2E1EF41A-C08A-4FF...|2004-03-11 10:01:...|\n",
            "|      708|Sport-100 Helmet,...|      HL-U509|Black|     13.0863|    34.99|NULL|   NULL|               35|            33|2001-07-01 00:00:...|                NULL|            NULL|0x474946383961500...|  no_image_availabl...|A25A44FB-C2DE-426...|2004-03-11 10:01:...|\n",
            "|      709|Mountain Bike Soc...|    SO-B909-M|White|      3.3963|     9.50|   M|   NULL|               27|            18|2001-07-01 00:00:...|2002-06-30 00:00:...|            NULL|0x474946383961500...|  no_image_availabl...|18F95F47-1540-4E0...|2004-03-11 10:01:...|\n",
            "|      710|Mountain Bike Soc...|    SO-B909-L|White|      3.3963|     9.50|   L|   NULL|               27|            18|2001-07-01 00:00:...|2002-06-30 00:00:...|            NULL|0x474946383961500...|  no_image_availabl...|161C035E-21B3-4E1...|2004-03-11 10:01:...|\n",
            "|      711|Sport-100 Helmet,...|    HL-U509-B| Blue|     13.0863|    34.99|NULL|   NULL|               35|            33|2001-07-01 00:00:...|                NULL|            NULL|0x474946383961500...|  no_image_availabl...|FD7C0858-4179-48C...|2004-03-11 10:01:...|\n",
            "|      712|        AWC Logo Cap|      CA-1098|Multi|      6.9223|     8.99|NULL|   NULL|               23|             2|2001-07-01 00:00:...|                NULL|            NULL|0x474946383961500...|  no_image_availabl...|B9EDE243-A6F4-462...|2004-03-11 10:01:...|\n",
            "|      713|Long-Sleeve Logo ...|    LJ-0192-S|Multi|     38.4923|    49.99|   S|   NULL|               25|            11|2001-07-01 00:00:...|                NULL|            NULL|0x474946383961500...|  awc_jersey_male_s...|FD449C82-A259-4FA...|2004-03-11 10:01:...|\n",
            "|      714|Long-Sleeve Logo ...|    LJ-0192-M|Multi|     38.4923|    49.99|   M|   NULL|               25|            11|2001-07-01 00:00:...|                NULL|            NULL|0x474946383961500...|  awc_jersey_male_s...|6A290063-A0CF-432...|2004-03-11 10:01:...|\n",
            "|      715|Long-Sleeve Logo ...|    LJ-0192-L|Multi|     38.4923|    49.99|   L|   NULL|               25|            11|2001-07-01 00:00:...|                NULL|            NULL|0x474946383961500...|  awc_jersey_male_s...|34CF5EF5-C077-4EA...|2004-03-11 10:01:...|\n",
            "|      716|Long-Sleeve Logo ...|    LJ-0192-X|Multi|     38.4923|    49.99|  XL|   NULL|               25|            11|2001-07-01 00:00:...|                NULL|            NULL|0x474946383961500...|  awc_jersey_male_s...|6EC47EC9-C041-4DD...|2004-03-11 10:01:...|\n",
            "|      717|HL Road Frame - R...|   FR-R92R-62|  Red|    868.6342|  1431.50|  62|1043.26|               18|             6|2001-07-01 00:00:...|                NULL|            NULL|0x474946383961500...|  no_image_availabl...|052E4F8B-0A2A-46B...|2004-03-11 10:01:...|\n",
            "|      718|HL Road Frame - R...|   FR-R92R-44|  Red|    868.6342|  1431.50|  44| 961.61|               18|             6|2001-07-01 00:00:...|                NULL|            NULL|0x474946383961500...|  no_image_availabl...|A88D3B54-2CAE-43F...|2004-03-11 10:01:...|\n",
            "|      719|HL Road Frame - R...|   FR-R92R-48|  Red|    868.6342|  1431.50|  48| 979.75|               18|             6|2001-07-01 00:00:...|                NULL|            NULL|0x474946383961500...|  no_image_availabl...|07BEFC9A-7634-402...|2004-03-11 10:01:...|\n",
            "|      720|HL Road Frame - R...|   FR-R92R-52|  Red|    868.6342|  1431.50|  52| 997.90|               18|             6|2001-07-01 00:00:...|                NULL|            NULL|0x474946383961500...|  no_image_availabl...|FCFEA68F-310E-4E6...|2004-03-11 10:01:...|\n",
            "|      721|HL Road Frame - R...|   FR-R92R-56|  Red|    868.6342|  1431.50|  56|1016.04|               18|             6|2001-07-01 00:00:...|                NULL|            NULL|0x474946383961500...|  no_image_availabl...|56C85873-4993-41B...|2004-03-11 10:01:...|\n",
            "|      722|LL Road Frame - B...|   FR-R38B-58|Black|    204.6251|   337.22|  58|1115.83|               18|             9|2001-07-01 00:00:...|                NULL|            NULL|0x474946383961500...|  no_image_availabl...|2140F256-F705-4D6...|2004-03-11 10:01:...|\n",
            "|      723|LL Road Frame - B...|   FR-R38B-60|Black|    204.6251|   337.22|  60|1124.90|               18|             9|2001-07-01 00:00:...|                NULL|            NULL|0x474946383961500...|  no_image_availabl...|AA95E2A5-E7C4-4B7...|2004-03-11 10:01:...|\n",
            "|      724|LL Road Frame - B...|   FR-R38B-62|Black|    204.6251|   337.22|  62|1133.98|               18|             9|2001-07-01 00:00:...|                NULL|            NULL|0x474946383961500...|  no_image_availabl...|5247BE33-50BF-452...|2004-03-11 10:01:...|\n",
            "+---------+--------------------+-------------+-----+------------+---------+----+-------+-----------------+--------------+--------------------+--------------------+----------------+--------------------+----------------------+--------------------+--------------------+\n",
            "only showing top 20 rows\n",
            "\n"
          ]
        }
      ],
      "source": [
        "df = rdd1.toDF(header)\n",
        "df.show()"
      ]
    },
    {
      "cell_type": "markdown",
      "metadata": {
        "application/vnd.databricks.v1+cell": {
          "cellMetadata": {},
          "inputWidgets": {},
          "nuid": "fb282bbf-f4b2-4299-9c07-9b978bce0169",
          "showTitle": false,
          "tableResultSettingsMap": {},
          "title": ""
        },
        "id": "uzS2d58awTu_"
      },
      "source": [
        "# Using Two Different Code/Syntax\n",
        "## Spark Dataframe syntax and SQL Table syntax"
      ]
    },
    {
      "cell_type": "markdown",
      "metadata": {
        "application/vnd.databricks.v1+cell": {
          "cellMetadata": {},
          "inputWidgets": {},
          "nuid": "634a7e65-f23f-4043-963f-feeaa28bfa85",
          "showTitle": false,
          "tableResultSettingsMap": {},
          "title": ""
        },
        "id": "npMKUMqiwTu_"
      },
      "source": [
        "### Spark Dataframe syntax"
      ]
    },
    {
      "cell_type": "code",
      "execution_count": 37,
      "metadata": {
        "application/vnd.databricks.v1+cell": {
          "cellMetadata": {
            "byteLimit": 2048000,
            "rowLimit": 10000
          },
          "inputWidgets": {},
          "nuid": "fae7aa88-69b3-42fe-b863-c890bb7975eb",
          "showTitle": false,
          "tableResultSettingsMap": {},
          "title": ""
        },
        "id": "HO9B4AJjwTu_",
        "outputId": "d99dd186-939b-47e1-9af3-d72b3c5a34fe",
        "colab": {
          "base_uri": "https://localhost:8080/"
        }
      },
      "outputs": [
        {
          "output_type": "stream",
          "name": "stdout",
          "text": [
            "+-------------------------+-------+\n",
            "|Name                     |Weight |\n",
            "+-------------------------+-------+\n",
            "|HL Road Frame - Black, 58|1016.04|\n",
            "|HL Road Frame - Red, 58  |1016.04|\n",
            "|Sport-100 Helmet, Red    |NULL   |\n",
            "|Sport-100 Helmet, Black  |NULL   |\n",
            "|Mountain Bike Socks, M   |NULL   |\n",
            "+-------------------------+-------+\n",
            "only showing top 5 rows\n",
            "\n"
          ]
        }
      ],
      "source": [
        "# selecting two columns Name and Weight from original dataframe and convert into their proper datatype. Default is string\n",
        "spark_df = df.select(df.Name, df.Weight.cast(\"float\"))\n",
        "spark_df.show(5, truncate=False)"
      ]
    },
    {
      "cell_type": "markdown",
      "metadata": {
        "application/vnd.databricks.v1+cell": {
          "cellMetadata": {},
          "inputWidgets": {},
          "nuid": "76e9f5d3-2ce4-42a6-8a97-151f62966559",
          "showTitle": false,
          "tableResultSettingsMap": {},
          "title": ""
        },
        "id": "B0yFmhJzwTu_"
      },
      "source": [
        "### SQL Table syntax\n",
        "First convert the original Spark Dataframe df into SQL Table and then write SQL syntax"
      ]
    },
    {
      "cell_type": "code",
      "execution_count": 38,
      "metadata": {
        "application/vnd.databricks.v1+cell": {
          "cellMetadata": {
            "byteLimit": 2048000,
            "rowLimit": 10000
          },
          "inputWidgets": {},
          "nuid": "ba37d163-0abd-47ac-a2dd-609382697ca7",
          "showTitle": false,
          "tableResultSettingsMap": {},
          "title": ""
        },
        "id": "PPbuzc8jwTu_",
        "outputId": "3ff54af4-e2de-4b8d-80f6-9635db3c12f7",
        "colab": {
          "base_uri": "https://localhost:8080/"
        }
      },
      "outputs": [
        {
          "output_type": "stream",
          "name": "stdout",
          "text": [
            "+-------------------------+-------+\n",
            "|Name                     |Weight |\n",
            "+-------------------------+-------+\n",
            "|HL Road Frame - Black, 58|1016.04|\n",
            "|HL Road Frame - Red, 58  |1016.04|\n",
            "|Sport-100 Helmet, Red    |NULL   |\n",
            "|Sport-100 Helmet, Black  |NULL   |\n",
            "|Mountain Bike Socks, M   |NULL   |\n",
            "+-------------------------+-------+\n",
            "\n"
          ]
        }
      ],
      "source": [
        "# convert the original Spark Dataframe df into SQL Table\n",
        "df.createOrReplaceTempView(\"df_table\")\n",
        "# write SQL query syntax\n",
        "sqlContext.sql(\" SELECT Name, cast(Weight as float) FROM df_table limit 5\").show(truncate=False)"
      ]
    },
    {
      "cell_type": "markdown",
      "metadata": {
        "application/vnd.databricks.v1+cell": {
          "cellMetadata": {},
          "inputWidgets": {},
          "nuid": "69d4323b-c498-4abe-b321-1a62cd627ed8",
          "showTitle": false,
          "tableResultSettingsMap": {},
          "title": ""
        },
        "id": "h4ONRCGywTvA"
      },
      "source": [
        "## Write your solutions using Spark Dataframe syntax and Spark SQL syntax. Your output should match with the RDD output"
      ]
    },
    {
      "cell_type": "markdown",
      "metadata": {
        "application/vnd.databricks.v1+cell": {
          "cellMetadata": {},
          "inputWidgets": {},
          "nuid": "6019e613-c169-4946-923d-2d87ba1ce274",
          "showTitle": false,
          "tableResultSettingsMap": {},
          "title": ""
        },
        "id": "XYCQkBZ1wTvA"
      },
      "source": [
        "#### 1. Find the names and weight of the top 15 products by weight. Sort weight by descending order."
      ]
    },
    {
      "cell_type": "markdown",
      "metadata": {
        "application/vnd.databricks.v1+cell": {
          "cellMetadata": {},
          "inputWidgets": {},
          "nuid": "cf59b76e-c51a-4445-9d49-eb6dc0c6ad00",
          "showTitle": false,
          "tableResultSettingsMap": {},
          "title": ""
        },
        "id": "yiIqGbWFwTvA"
      },
      "source": [
        "##### Using RDD"
      ]
    },
    {
      "cell_type": "code",
      "execution_count": 39,
      "metadata": {
        "application/vnd.databricks.v1+cell": {
          "cellMetadata": {
            "byteLimit": 2048000,
            "rowLimit": 10000
          },
          "inputWidgets": {},
          "nuid": "728d67e4-bc29-4991-a999-154e1450fbf6",
          "showTitle": false,
          "tableResultSettingsMap": {},
          "title": ""
        },
        "id": "Jnv3H4sbwTvA",
        "outputId": "309870e1-607e-4647-e093-b82acab2c179",
        "colab": {
          "base_uri": "https://localhost:8080/"
        }
      },
      "outputs": [
        {
          "output_type": "execute_result",
          "data": {
            "text/plain": [
              "[('Touring-3000 Blue, 62', 13607.7),\n",
              " ('Touring-3000 Yellow, 62', 13607.7),\n",
              " ('Touring-3000 Blue, 58', 13562.34),\n",
              " ('Touring-3000 Yellow, 58', 13512.45),\n",
              " ('Touring-3000 Blue, 54', 13462.55),\n",
              " ('Touring-3000 Yellow, 54', 13344.62),\n",
              " ('Touring-3000 Yellow, 50', 13213.08),\n",
              " ('Touring-3000 Blue, 50', 13213.08),\n",
              " ('Touring-3000 Yellow, 44', 13049.78),\n",
              " ('Touring-3000 Blue, 44', 13049.78),\n",
              " ('Mountain-500 Silver, 52', 13008.96),\n",
              " ('Mountain-500 Black, 52', 13008.96),\n",
              " ('Mountain-500 Silver, 48', 12891.03),\n",
              " ('Mountain-500 Black, 48', 12891.03),\n",
              " ('Mountain-500 Silver, 44', 12759.49)]"
            ]
          },
          "metadata": {},
          "execution_count": 39
        }
      ],
      "source": [
        "(content.filter(lambda line: line.split(\"\\t\")[7] != \"NULL\")\n",
        " .map(lambda line: (line.split(\"\\t\")[1], float(line.split(\"\\t\")[7])))\n",
        "                     .takeOrdered(15, lambda x : -x[1])\n",
        "                    )"
      ]
    },
    {
      "cell_type": "markdown",
      "metadata": {
        "application/vnd.databricks.v1+cell": {
          "cellMetadata": {},
          "inputWidgets": {},
          "nuid": "9908f57f-848d-49c8-a3c9-5040d1e35a32",
          "showTitle": false,
          "tableResultSettingsMap": {},
          "title": ""
        },
        "id": "X0jPtn2twTvA"
      },
      "source": [
        "##### Using Spark DataFrame"
      ]
    },
    {
      "cell_type": "code",
      "execution_count": 40,
      "metadata": {
        "application/vnd.databricks.v1+cell": {
          "cellMetadata": {},
          "inputWidgets": {},
          "nuid": "16c097bd-6deb-4dd6-967c-98b4a32c89dd",
          "showTitle": false,
          "tableResultSettingsMap": {},
          "title": ""
        },
        "id": "hahstXCEwTvA",
        "colab": {
          "base_uri": "https://localhost:8080/"
        },
        "outputId": "4879f7b3-12bd-4c73-8548-cbf6bc33d513"
      },
      "outputs": [
        {
          "output_type": "stream",
          "name": "stdout",
          "text": [
            "+--------------------+--------+\n",
            "|                Name|  Weight|\n",
            "+--------------------+--------+\n",
            "|Touring-3000 Blue...| 13607.7|\n",
            "|Touring-3000 Yell...| 13607.7|\n",
            "|Touring-3000 Blue...|13562.34|\n",
            "|Touring-3000 Yell...|13512.45|\n",
            "|Touring-3000 Blue...|13462.55|\n",
            "|Touring-3000 Yell...|13344.62|\n",
            "|Touring-3000 Yell...|13213.08|\n",
            "|Touring-3000 Blue...|13213.08|\n",
            "|Touring-3000 Yell...|13049.78|\n",
            "|Touring-3000 Blue...|13049.78|\n",
            "|Mountain-500 Silv...|13008.96|\n",
            "|Mountain-500 Blac...|13008.96|\n",
            "|Mountain-500 Silv...|12891.03|\n",
            "|Mountain-500 Blac...|12891.03|\n",
            "|Mountain-500 Silv...|12759.49|\n",
            "+--------------------+--------+\n",
            "only showing top 15 rows\n",
            "\n"
          ]
        }
      ],
      "source": [
        "df1 = df.select(df.Name,df.Weight.cast('float'))\n",
        "df1_ = df1.sort(df1.Weight, ascending = False)\n",
        "df1_.show(15)"
      ]
    },
    {
      "cell_type": "markdown",
      "metadata": {
        "application/vnd.databricks.v1+cell": {
          "cellMetadata": {},
          "inputWidgets": {},
          "nuid": "d1aee5df-1ab5-4a8d-a36c-1ae78c3d1195",
          "showTitle": false,
          "tableResultSettingsMap": {},
          "title": ""
        },
        "id": "cm3zPM3bwTvA"
      },
      "source": [
        "##### Using Spark SQL"
      ]
    },
    {
      "cell_type": "code",
      "execution_count": 41,
      "metadata": {
        "application/vnd.databricks.v1+cell": {
          "cellMetadata": {},
          "inputWidgets": {},
          "nuid": "dc945e57-6428-4d09-b227-b875758c36f9",
          "showTitle": false,
          "tableResultSettingsMap": {},
          "title": ""
        },
        "id": "3el39ZNMwTvA",
        "colab": {
          "base_uri": "https://localhost:8080/"
        },
        "outputId": "6a18e718-c309-4d65-b30d-69b35218b60f"
      },
      "outputs": [
        {
          "output_type": "stream",
          "name": "stdout",
          "text": [
            "+--------------------+--------+\n",
            "|                Name|  Weight|\n",
            "+--------------------+--------+\n",
            "|Touring-3000 Yell...| 13607.7|\n",
            "|Touring-3000 Blue...| 13607.7|\n",
            "|Touring-3000 Blue...|13562.34|\n",
            "|Touring-3000 Yell...|13512.45|\n",
            "|Touring-3000 Blue...|13462.55|\n",
            "|Touring-3000 Yell...|13344.62|\n",
            "|Touring-3000 Yell...|13213.08|\n",
            "|Touring-3000 Blue...|13213.08|\n",
            "|Touring-3000 Yell...|13049.78|\n",
            "|Touring-3000 Blue...|13049.78|\n",
            "|Mountain-500 Silv...|13008.96|\n",
            "|Mountain-500 Blac...|13008.96|\n",
            "|Mountain-500 Silv...|12891.03|\n",
            "|Mountain-500 Blac...|12891.03|\n",
            "|Mountain-500 Silv...|12759.49|\n",
            "+--------------------+--------+\n",
            "\n"
          ]
        }
      ],
      "source": [
        "df1.createOrReplaceTempView(\"df_table\")\n",
        "sqlContext.sql(\"SELECT Name, Weight FROM df_table ORDER BY df_table.Weight Desc LIMIT 15\").show()"
      ]
    },
    {
      "cell_type": "markdown",
      "metadata": {
        "application/vnd.databricks.v1+cell": {
          "cellMetadata": {},
          "inputWidgets": {},
          "nuid": "6a364981-2a82-4a66-940d-b62a3c2eabad",
          "showTitle": false,
          "tableResultSettingsMap": {},
          "title": ""
        },
        "id": "WlDVF73lwTvA"
      },
      "source": [
        "#### 2. Retrieve product details (name, color, size, product model ID) for products where the product model ID is 5"
      ]
    },
    {
      "cell_type": "markdown",
      "metadata": {
        "application/vnd.databricks.v1+cell": {
          "cellMetadata": {},
          "inputWidgets": {},
          "nuid": "30dffc8a-4473-4429-83ba-4ce42cb63432",
          "showTitle": false,
          "tableResultSettingsMap": {},
          "title": ""
        },
        "id": "RzLnSb-qwTvA"
      },
      "source": [
        "##### Using RDD"
      ]
    },
    {
      "cell_type": "code",
      "execution_count": 42,
      "metadata": {
        "application/vnd.databricks.v1+cell": {
          "cellMetadata": {
            "byteLimit": 2048000,
            "rowLimit": 10000
          },
          "inputWidgets": {},
          "nuid": "b7f96168-273f-4786-8231-ee60b60aae89",
          "showTitle": false,
          "tableResultSettingsMap": {},
          "title": ""
        },
        "id": "N9MVhSJQwTvA",
        "outputId": "6536b01d-6fde-4ee6-f5ca-030b17128798",
        "colab": {
          "base_uri": "https://localhost:8080/"
        }
      },
      "outputs": [
        {
          "output_type": "execute_result",
          "data": {
            "text/plain": [
              "[('HL Mountain Frame - Silver, 42', 'Silver', '42', '5'),\n",
              " ('HL Mountain Frame - Silver, 44', 'Silver', '44', '5'),\n",
              " ('HL Mountain Frame - Silver, 48', 'Silver', '48', '5'),\n",
              " ('HL Mountain Frame - Silver, 46', 'Silver', '46', '5'),\n",
              " ('HL Mountain Frame - Black, 42', 'Black', '42', '5'),\n",
              " ('HL Mountain Frame - Black, 44', 'Black', '44', '5'),\n",
              " ('HL Mountain Frame - Black, 48', 'Black', '48', '5'),\n",
              " ('HL Mountain Frame - Black, 46', 'Black', '46', '5'),\n",
              " ('HL Mountain Frame - Black, 38', 'Black', '38', '5'),\n",
              " ('HL Mountain Frame - Silver, 38', 'Silver', '38', '5')]"
            ]
          },
          "metadata": {},
          "execution_count": 42
        }
      ],
      "source": [
        "(content.filter(lambda line:line.split(\"\\t\")[9]==\"5\")\n",
        " .map(lambda line: (line.split(\"\\t\")[1],line.split(\"\\t\")[3], line.split(\"\\t\")[6], line.split(\"\\t\")[9])).collect()\n",
        ")"
      ]
    },
    {
      "cell_type": "markdown",
      "metadata": {
        "application/vnd.databricks.v1+cell": {
          "cellMetadata": {},
          "inputWidgets": {},
          "nuid": "4d8dabcd-bf51-4d10-96e6-71df3695d272",
          "showTitle": false,
          "tableResultSettingsMap": {},
          "title": ""
        },
        "id": "zG8bPs7swTvA"
      },
      "source": [
        "##### Using Spark Dataframe"
      ]
    },
    {
      "cell_type": "code",
      "execution_count": 43,
      "metadata": {
        "application/vnd.databricks.v1+cell": {
          "cellMetadata": {},
          "inputWidgets": {},
          "nuid": "cdf6ee7e-f5b8-410f-b26f-eaeaff7d1c30",
          "showTitle": false,
          "tableResultSettingsMap": {},
          "title": ""
        },
        "id": "UQpcyt_owTvA",
        "colab": {
          "base_uri": "https://localhost:8080/"
        },
        "outputId": "843fc6bd-bffc-406b-b13d-0b37344919da"
      },
      "outputs": [
        {
          "output_type": "stream",
          "name": "stdout",
          "text": [
            "+--------------------+------+----+--------------+\n",
            "|                Name| Color|Size|ProductModelID|\n",
            "+--------------------+------+----+--------------+\n",
            "|HL Mountain Frame...|Silver|  42|             5|\n",
            "|HL Mountain Frame...|Silver|  44|             5|\n",
            "|HL Mountain Frame...|Silver|  48|             5|\n",
            "|HL Mountain Frame...|Silver|  46|             5|\n",
            "|HL Mountain Frame...| Black|  42|             5|\n",
            "|HL Mountain Frame...| Black|  44|             5|\n",
            "|HL Mountain Frame...| Black|  48|             5|\n",
            "|HL Mountain Frame...| Black|  46|             5|\n",
            "|HL Mountain Frame...| Black|  38|             5|\n",
            "|HL Mountain Frame...|Silver|  38|             5|\n",
            "+--------------------+------+----+--------------+\n",
            "\n"
          ]
        }
      ],
      "source": [
        "df1 = df.select(df.Name, df.Color, df.Size, df.ProductModelID)\n",
        "df2 = df1.filter(df.ProductModelID ==5)\n",
        "df2.show()"
      ]
    },
    {
      "cell_type": "markdown",
      "metadata": {
        "application/vnd.databricks.v1+cell": {
          "cellMetadata": {},
          "inputWidgets": {},
          "nuid": "c961a430-7293-4f8d-b3f9-c4070c1e235e",
          "showTitle": false,
          "tableResultSettingsMap": {},
          "title": ""
        },
        "id": "v-25VYsfwTvA"
      },
      "source": [
        "##### Using Spark SQL"
      ]
    },
    {
      "cell_type": "code",
      "execution_count": 45,
      "metadata": {
        "application/vnd.databricks.v1+cell": {
          "cellMetadata": {},
          "inputWidgets": {},
          "nuid": "4332a9af-30c6-4395-b25e-c6147aad93dd",
          "showTitle": false,
          "tableResultSettingsMap": {},
          "title": ""
        },
        "id": "cAyBxIftwTvB",
        "colab": {
          "base_uri": "https://localhost:8080/"
        },
        "outputId": "df7fb330-c27b-4145-bd67-404a733925c5"
      },
      "outputs": [
        {
          "output_type": "stream",
          "name": "stdout",
          "text": [
            "+--------------------+------+----+--------------+\n",
            "|                Name| color|size|ProductModelID|\n",
            "+--------------------+------+----+--------------+\n",
            "|HL Mountain Frame...|Silver|  42|             5|\n",
            "|HL Mountain Frame...|Silver|  44|             5|\n",
            "|HL Mountain Frame...|Silver|  48|             5|\n",
            "|HL Mountain Frame...|Silver|  46|             5|\n",
            "|HL Mountain Frame...| Black|  42|             5|\n",
            "|HL Mountain Frame...| Black|  44|             5|\n",
            "|HL Mountain Frame...| Black|  48|             5|\n",
            "|HL Mountain Frame...| Black|  46|             5|\n",
            "|HL Mountain Frame...| Black|  38|             5|\n",
            "|HL Mountain Frame...|Silver|  38|             5|\n",
            "+--------------------+------+----+--------------+\n",
            "\n"
          ]
        }
      ],
      "source": [
        "df.createOrReplaceTempView(\"df_table\")\n",
        "sqlContext.sql(\"SELECT Name, color,  size, ProductModelID FROM df_table where ProductModelID = 5\").show()"
      ]
    },
    {
      "cell_type": "markdown",
      "metadata": {
        "application/vnd.databricks.v1+cell": {
          "cellMetadata": {},
          "inputWidgets": {},
          "nuid": "e3c9fc97-d853-479d-bbe2-134342535de9",
          "showTitle": false,
          "tableResultSettingsMap": {},
          "title": ""
        },
        "id": "pU6U0a6QwTvB"
      },
      "source": [
        "#### 3. Retrieve the name and product number of the products that have a color of 'black', 'red', or 'white' and a size of 'S' or 'M'"
      ]
    },
    {
      "cell_type": "markdown",
      "metadata": {
        "application/vnd.databricks.v1+cell": {
          "cellMetadata": {},
          "inputWidgets": {},
          "nuid": "31174ab6-690a-42de-becb-5452c1e902bf",
          "showTitle": false,
          "tableResultSettingsMap": {},
          "title": ""
        },
        "id": "ymRIPFTlwTvB"
      },
      "source": [
        "##### Using RDD"
      ]
    },
    {
      "cell_type": "code",
      "execution_count": 46,
      "metadata": {
        "application/vnd.databricks.v1+cell": {
          "cellMetadata": {
            "byteLimit": 2048000,
            "rowLimit": 10000
          },
          "inputWidgets": {},
          "nuid": "1b99ae62-4b55-4e7f-b27e-80f79909aeca",
          "showTitle": false,
          "tableResultSettingsMap": {},
          "title": ""
        },
        "id": "bu2CXNgRwTvB",
        "outputId": "29d09ba2-0c5b-47c9-9e26-3ba1694a9a83",
        "colab": {
          "base_uri": "https://localhost:8080/"
        }
      },
      "outputs": [
        {
          "output_type": "execute_result",
          "data": {
            "text/plain": [
              "[('Mountain Bike Socks, M', 'SO-B909-M', 'White', 'M'),\n",
              " (\"Men's Sports Shorts, S\", 'SH-M897-S', 'Black', 'S'),\n",
              " (\"Men's Sports Shorts, M\", 'SH-M897-M', 'Black', 'M'),\n",
              " (\"Women's Tights, S\", 'TG-W091-S', 'Black', 'S'),\n",
              " (\"Women's Tights, M\", 'TG-W091-M', 'Black', 'M'),\n",
              " ('Half-Finger Gloves, S', 'GL-H102-S', 'Black', 'S'),\n",
              " ('Half-Finger Gloves, M', 'GL-H102-M', 'Black', 'M'),\n",
              " ('Full-Finger Gloves, S', 'GL-F110-S', 'Black', 'S'),\n",
              " ('Full-Finger Gloves, M', 'GL-F110-M', 'Black', 'M'),\n",
              " (\"Women's Mountain Shorts, S\", 'SH-W890-S', 'Black', 'S'),\n",
              " (\"Women's Mountain Shorts, M\", 'SH-W890-M', 'Black', 'M'),\n",
              " ('Racing Socks, M', 'SO-R809-M', 'White', 'M')]"
            ]
          },
          "metadata": {},
          "execution_count": 46
        }
      ],
      "source": [
        "colors = [\"White\",\"Black\",\"Red\"]\n",
        "sizes = [\"S\",\"M\"]\n",
        "\n",
        "(content.filter(lambda line: line.split(\"\\t\")[6] in sizes)\n",
        ".filter(lambda line: line.split(\"\\t\")[3] in colors)\n",
        ".map(lambda line: (line.split(\"\\t\")[1],line.split(\"\\t\")[2], line.split(\"\\t\")[3],line.split(\"\\t\")[6]))\n",
        " .collect()\n",
        ")"
      ]
    },
    {
      "cell_type": "markdown",
      "metadata": {
        "application/vnd.databricks.v1+cell": {
          "cellMetadata": {},
          "inputWidgets": {},
          "nuid": "895cbde1-b7ef-49fd-9c0f-696369f27128",
          "showTitle": false,
          "tableResultSettingsMap": {},
          "title": ""
        },
        "id": "HfEr5nFJwTvB"
      },
      "source": [
        "##### Using Spark Dataframe"
      ]
    },
    {
      "cell_type": "code",
      "execution_count": 47,
      "metadata": {
        "application/vnd.databricks.v1+cell": {
          "cellMetadata": {},
          "inputWidgets": {},
          "nuid": "17a831f7-0cb4-43f2-8bbb-77b1e035ade8",
          "showTitle": false,
          "tableResultSettingsMap": {},
          "title": ""
        },
        "id": "h-p1A0eTwTvB",
        "colab": {
          "base_uri": "https://localhost:8080/"
        },
        "outputId": "c340c400-b21a-4679-9860-66ff5d425da2"
      },
      "outputs": [
        {
          "output_type": "stream",
          "name": "stdout",
          "text": [
            "+--------------------+-------------+\n",
            "|                Name|ProductNumber|\n",
            "+--------------------+-------------+\n",
            "|Mountain Bike Soc...|    SO-B909-M|\n",
            "|Men's Sports Shor...|    SH-M897-S|\n",
            "|Men's Sports Shor...|    SH-M897-M|\n",
            "|   Women's Tights, S|    TG-W091-S|\n",
            "|   Women's Tights, M|    TG-W091-M|\n",
            "|Half-Finger Glove...|    GL-H102-S|\n",
            "|Half-Finger Glove...|    GL-H102-M|\n",
            "|Full-Finger Glove...|    GL-F110-S|\n",
            "|Full-Finger Glove...|    GL-F110-M|\n",
            "|Women's Mountain ...|    SH-W890-S|\n",
            "|Women's Mountain ...|    SH-W890-M|\n",
            "|     Racing Socks, M|    SO-R809-M|\n",
            "+--------------------+-------------+\n",
            "\n"
          ]
        }
      ],
      "source": [
        "df1 = df.select(df.Name,df.ProductNumber, df.Color, df.Size,df.ProductModelID)\n",
        "df2 = df1.filter( ((df.Color==\"Black\") | (df.Color ==\"Red\") | (df.Color ==\"White\"))& ((df.Size==\"S\")| (df.Size==\"M\")) )\n",
        "df3 = df2.select(df.Name,df.ProductNumber)\n",
        "df3.show()"
      ]
    },
    {
      "cell_type": "markdown",
      "metadata": {
        "application/vnd.databricks.v1+cell": {
          "cellMetadata": {},
          "inputWidgets": {},
          "nuid": "15ba2bdf-70ae-4dcf-b00a-fdd80f352e96",
          "showTitle": false,
          "tableResultSettingsMap": {},
          "title": ""
        },
        "id": "nLccm0UYwTvB"
      },
      "source": [
        "##### Using Spark SQL"
      ]
    },
    {
      "cell_type": "code",
      "execution_count": 48,
      "metadata": {
        "application/vnd.databricks.v1+cell": {
          "cellMetadata": {},
          "inputWidgets": {},
          "nuid": "da3463c2-f9b1-480a-ab44-c69af4275b91",
          "showTitle": false,
          "tableResultSettingsMap": {},
          "title": ""
        },
        "id": "PurRXTdbwTvB",
        "colab": {
          "base_uri": "https://localhost:8080/"
        },
        "outputId": "cb94ac38-47ca-497d-e500-27cefa1e5cc1"
      },
      "outputs": [
        {
          "output_type": "stream",
          "name": "stdout",
          "text": [
            "+--------------------+-------------+\n",
            "|                Name|ProductNumber|\n",
            "+--------------------+-------------+\n",
            "|Mountain Bike Soc...|    SO-B909-M|\n",
            "|Men's Sports Shor...|    SH-M897-S|\n",
            "|Men's Sports Shor...|    SH-M897-M|\n",
            "|   Women's Tights, S|    TG-W091-S|\n",
            "|   Women's Tights, M|    TG-W091-M|\n",
            "|Half-Finger Glove...|    GL-H102-S|\n",
            "|Half-Finger Glove...|    GL-H102-M|\n",
            "|Full-Finger Glove...|    GL-F110-S|\n",
            "|Full-Finger Glove...|    GL-F110-M|\n",
            "|Women's Mountain ...|    SH-W890-S|\n",
            "|Women's Mountain ...|    SH-W890-M|\n",
            "|     Racing Socks, M|    SO-R809-M|\n",
            "+--------------------+-------------+\n",
            "\n"
          ]
        }
      ],
      "source": [
        "df.createOrReplaceTempView(\"df_table\")\n",
        "sqlContext.sql(\"SELECT Name, ProductNumber FROM df_table where (df_table.Color in ('White', 'Red', 'Black')) AND (df_table.Size in ('M', 'S'))\").show()"
      ]
    },
    {
      "cell_type": "markdown",
      "metadata": {
        "application/vnd.databricks.v1+cell": {
          "cellMetadata": {},
          "inputWidgets": {},
          "nuid": "3280d1e9-90e3-4a1b-9ceb-6283c93680a2",
          "showTitle": false,
          "tableResultSettingsMap": {},
          "title": ""
        },
        "id": "oz7LubnQwTvB"
      },
      "source": [
        "#### 4. Retrieve the product name, product number, color and list price of products whose product number begins with 'BK-'. Retrieve only 15 records and Sort the price in descending order"
      ]
    },
    {
      "cell_type": "markdown",
      "metadata": {
        "application/vnd.databricks.v1+cell": {
          "cellMetadata": {},
          "inputWidgets": {},
          "nuid": "9f7884c4-f177-4bc9-ab8a-8512fdbc8c4f",
          "showTitle": false,
          "tableResultSettingsMap": {},
          "title": ""
        },
        "id": "oxsEjDILwTvB"
      },
      "source": [
        "##### Using RDD"
      ]
    },
    {
      "cell_type": "code",
      "execution_count": 49,
      "metadata": {
        "application/vnd.databricks.v1+cell": {
          "cellMetadata": {
            "byteLimit": 2048000,
            "rowLimit": 10000
          },
          "inputWidgets": {},
          "nuid": "2f57b2b8-877f-4cd1-9a22-d0f6e450a175",
          "showTitle": false,
          "tableResultSettingsMap": {},
          "title": ""
        },
        "id": "NpqzJzmQwTvB",
        "outputId": "4cd9f727-35b9-4443-da4e-4b472e19e513",
        "colab": {
          "base_uri": "https://localhost:8080/"
        }
      },
      "outputs": [
        {
          "output_type": "execute_result",
          "data": {
            "text/plain": [
              "[('Road-150 Red, 62', 'BK-R93R-62', 'Red', 3578.27),\n",
              " ('Road-150 Red, 44', 'BK-R93R-44', 'Red', 3578.27),\n",
              " ('Road-150 Red, 48', 'BK-R93R-48', 'Red', 3578.27),\n",
              " ('Road-150 Red, 52', 'BK-R93R-52', 'Red', 3578.27),\n",
              " ('Road-150 Red, 56', 'BK-R93R-56', 'Red', 3578.27),\n",
              " ('Mountain-100 Silver, 38', 'BK-M82S-38', 'Silver', 3399.99),\n",
              " ('Mountain-100 Silver, 42', 'BK-M82S-42', 'Silver', 3399.99),\n",
              " ('Mountain-100 Silver, 44', 'BK-M82S-44', 'Silver', 3399.99),\n",
              " ('Mountain-100 Silver, 48', 'BK-M82S-48', 'Silver', 3399.99),\n",
              " ('Mountain-100 Black, 38', 'BK-M82B-38', 'Black', 3374.99),\n",
              " ('Mountain-100 Black, 42', 'BK-M82B-42', 'Black', 3374.99),\n",
              " ('Mountain-100 Black, 44', 'BK-M82B-44', 'Black', 3374.99),\n",
              " ('Mountain-100 Black, 48', 'BK-M82B-48', 'Black', 3374.99),\n",
              " ('Road-250 Red, 44', 'BK-R89R-44', 'Red', 2443.35),\n",
              " ('Road-250 Red, 48', 'BK-R89R-48', 'Red', 2443.35)]"
            ]
          },
          "metadata": {},
          "execution_count": 49
        }
      ],
      "source": [
        "(content.filter(lambda line: \"BK\" in line.split(\"\\t\")[2])\n",
        " .map(lambda line: (line.split(\"\\t\")[1], line.split(\"\\t\")[2], line.split(\"\\t\")[3], float(line.split(\"\\t\")[5])))\n",
        ".takeOrdered(15, lambda x: -x[3]))"
      ]
    },
    {
      "cell_type": "markdown",
      "metadata": {
        "application/vnd.databricks.v1+cell": {
          "cellMetadata": {},
          "inputWidgets": {},
          "nuid": "7215148c-38cc-4abf-a1a7-2cdaf49bd379",
          "showTitle": false,
          "tableResultSettingsMap": {},
          "title": ""
        },
        "id": "ZgsZ81RNwTvB"
      },
      "source": [
        "##### Using Spark Dataframe"
      ]
    },
    {
      "cell_type": "code",
      "execution_count": 50,
      "metadata": {
        "application/vnd.databricks.v1+cell": {
          "cellMetadata": {},
          "inputWidgets": {},
          "nuid": "0c33ad13-fd2c-4b55-85cc-091d3a453573",
          "showTitle": false,
          "tableResultSettingsMap": {},
          "title": ""
        },
        "id": "rUz0c6drwTvC",
        "colab": {
          "base_uri": "https://localhost:8080/"
        },
        "outputId": "15f4a5d6-8f69-4c51-840e-9b4a8fd95741"
      },
      "outputs": [
        {
          "output_type": "stream",
          "name": "stdout",
          "text": [
            "+--------------------+-------------+------+---------+\n",
            "|                Name|ProductNumber| Color|ListPrice|\n",
            "+--------------------+-------------+------+---------+\n",
            "|    Road-150 Red, 62|   BK-R93R-62|   Red|  3578.27|\n",
            "|    Road-150 Red, 44|   BK-R93R-44|   Red|  3578.27|\n",
            "|    Road-150 Red, 48|   BK-R93R-48|   Red|  3578.27|\n",
            "|    Road-150 Red, 52|   BK-R93R-52|   Red|  3578.27|\n",
            "|    Road-150 Red, 56|   BK-R93R-56|   Red|  3578.27|\n",
            "|Mountain-100 Silv...|   BK-M82S-44|Silver|  3399.99|\n",
            "|Mountain-100 Silv...|   BK-M82S-48|Silver|  3399.99|\n",
            "|Mountain-100 Silv...|   BK-M82S-38|Silver|  3399.99|\n",
            "|Mountain-100 Silv...|   BK-M82S-42|Silver|  3399.99|\n",
            "|Mountain-100 Blac...|   BK-M82B-38| Black|  3374.99|\n",
            "|Mountain-100 Blac...|   BK-M82B-42| Black|  3374.99|\n",
            "|Mountain-100 Blac...|   BK-M82B-44| Black|  3374.99|\n",
            "|Mountain-100 Blac...|   BK-M82B-48| Black|  3374.99|\n",
            "|    Road-250 Red, 44|   BK-R89R-44|   Red|  2443.35|\n",
            "|    Road-250 Red, 48|   BK-R89R-48|   Red|  2443.35|\n",
            "+--------------------+-------------+------+---------+\n",
            "only showing top 15 rows\n",
            "\n"
          ]
        }
      ],
      "source": [
        "df1 = df.select(df.Name,df.ProductNumber, df.Color, df.ListPrice.cast('float'))\n",
        "df2 = df1.sort(df1.ListPrice, ascending = False)\n",
        "df3 = df2.filter(df2['ProductNumber'].startswith('BK-'))\n",
        "df3.show(15)"
      ]
    },
    {
      "cell_type": "markdown",
      "metadata": {
        "application/vnd.databricks.v1+cell": {
          "cellMetadata": {},
          "inputWidgets": {},
          "nuid": "6193a402-fe07-4770-92fa-51e26816d3b7",
          "showTitle": false,
          "tableResultSettingsMap": {},
          "title": ""
        },
        "id": "qNPXP06swTvC"
      },
      "source": [
        "##### Using Spark SQL"
      ]
    },
    {
      "cell_type": "code",
      "execution_count": 51,
      "metadata": {
        "application/vnd.databricks.v1+cell": {
          "cellMetadata": {},
          "inputWidgets": {},
          "nuid": "820deb27-888e-45b3-8ec2-e61a3dc1a14b",
          "showTitle": false,
          "tableResultSettingsMap": {},
          "title": ""
        },
        "id": "UBv9uv3NwTvC",
        "colab": {
          "base_uri": "https://localhost:8080/"
        },
        "outputId": "24f5ad64-dafe-4d85-c837-4bba20aa54a6"
      },
      "outputs": [
        {
          "output_type": "stream",
          "name": "stdout",
          "text": [
            "+--------------------+-------------+------+---------+\n",
            "|                Name|ProductNumber| Color|ListPrice|\n",
            "+--------------------+-------------+------+---------+\n",
            "|    Road-150 Red, 62|   BK-R93R-62|   Red|  3578.27|\n",
            "|    Road-150 Red, 44|   BK-R93R-44|   Red|  3578.27|\n",
            "|    Road-150 Red, 48|   BK-R93R-48|   Red|  3578.27|\n",
            "|    Road-150 Red, 52|   BK-R93R-52|   Red|  3578.27|\n",
            "|    Road-150 Red, 56|   BK-R93R-56|   Red|  3578.27|\n",
            "|Mountain-100 Silv...|   BK-M82S-44|Silver|  3399.99|\n",
            "|Mountain-100 Silv...|   BK-M82S-48|Silver|  3399.99|\n",
            "|Mountain-100 Silv...|   BK-M82S-38|Silver|  3399.99|\n",
            "|Mountain-100 Silv...|   BK-M82S-42|Silver|  3399.99|\n",
            "|Mountain-100 Blac...|   BK-M82B-38| Black|  3374.99|\n",
            "|Mountain-100 Blac...|   BK-M82B-42| Black|  3374.99|\n",
            "|Mountain-100 Blac...|   BK-M82B-44| Black|  3374.99|\n",
            "|Mountain-100 Blac...|   BK-M82B-48| Black|  3374.99|\n",
            "|    Road-250 Red, 44|   BK-R89R-44|   Red|  2443.35|\n",
            "|    Road-250 Red, 48|   BK-R89R-48|   Red|  2443.35|\n",
            "+--------------------+-------------+------+---------+\n",
            "only showing top 15 rows\n",
            "\n"
          ]
        }
      ],
      "source": [
        "sdf1.createOrReplaceTempView(\"df_table\")\n",
        "sqlContext.sql(\"Select Name, ProductNumber, Color, ListPrice from df_table WHERE ProductNumber LIKE 'BK-%' ORDER BY ListPrice DESC\").show(15)"
      ]
    },
    {
      "cell_type": "markdown",
      "metadata": {
        "application/vnd.databricks.v1+cell": {
          "cellMetadata": {},
          "inputWidgets": {},
          "nuid": "cec197c9-eb1f-4b42-976d-45c12a0c2cc3",
          "showTitle": false,
          "tableResultSettingsMap": {},
          "title": ""
        },
        "id": "IfePDum_wTvC"
      },
      "source": [
        "#### 5. Visualize Average List Price per Color and Average List Price per Size. Discuss/Explain your results."
      ]
    },
    {
      "cell_type": "code",
      "execution_count": 52,
      "metadata": {
        "application/vnd.databricks.v1+cell": {
          "cellMetadata": {
            "byteLimit": 2048000,
            "rowLimit": 10000
          },
          "inputWidgets": {},
          "nuid": "7214bde0-02aa-4fc6-b124-06f5a22bc5e5",
          "showTitle": false,
          "tableResultSettingsMap": {},
          "title": ""
        },
        "id": "_oaa0qmewTvC"
      },
      "outputs": [],
      "source": [
        "import pandas as pd\n",
        "import matplotlib\n",
        "import matplotlib.pyplot as plt\n",
        "from pyspark.sql import functions as F\n",
        "%matplotlib inline"
      ]
    },
    {
      "cell_type": "markdown",
      "source": [
        "**Average List Price by Color**"
      ],
      "metadata": {
        "id": "WcxZuR_Z1WnL"
      }
    },
    {
      "cell_type": "code",
      "execution_count": 68,
      "metadata": {
        "application/vnd.databricks.v1+cell": {
          "cellMetadata": {},
          "inputWidgets": {},
          "nuid": "ad7e9cf5-f424-4b09-af34-df53c021f43a",
          "showTitle": false,
          "tableResultSettingsMap": {},
          "title": ""
        },
        "id": "7MCDPPZWwTvC",
        "colab": {
          "base_uri": "https://localhost:8080/",
          "height": 472
        },
        "outputId": "cc1da182-3ea5-47e2-9ae5-dc074962222c"
      },
      "outputs": [
        {
          "output_type": "display_data",
          "data": {
            "text/plain": [
              "<Figure size 640x480 with 1 Axes>"
            ],
            "image/png": "[encoded data removed]"
          },
          "metadata": {}
        }
      ],
      "source": [
        "df1 = df.select(df.Name,df.ProductNumber, df.Color,df.Size,df.ListPrice.cast(\"float\"))\n",
        "df2= df1.groupBy(df.Color).agg({\"ListPrice\":\"average\"}).collect()\n",
        "x=[]\n",
        "y =[]\n",
        "for i in df2:\n",
        "  if i[\"Color\"]!= \"NULL\":\n",
        "    x.append(i[\"Color\"])\n",
        "    y.append(i[\"avg(ListPrice)\"])\n",
        "\n",
        "plt.bar(x, y)\n",
        "plt.title('Average List Price per Color')\n",
        "plt.xlabel('Color')\n",
        "plt.ylabel('Average List Price')\n",
        "plt.show()"
      ]
    },
    {
      "cell_type": "markdown",
      "source": [
        "Analysis: The findings show that while colours like silver, blue, black, yellow, and red have higher list prices and are comparable, colours like multi, white, silver/black, and grey appear to have lower and comparable prices. This leads us to the conclusion that vibrant colours, such as red, are more expensive. Universal and dull colours are less expensive.\n",
        "\n",
        "**Average List Price by Size**"
      ],
      "metadata": {
        "id": "Witr54w81fiF"
      }
    },
    {
      "cell_type": "code",
      "execution_count": 69,
      "metadata": {
        "id": "YZw5b0umwTvC",
        "colab": {
          "base_uri": "https://localhost:8080/",
          "height": 472
        },
        "outputId": "0de2de43-ed27-4201-c0d1-195ed792ac21"
      },
      "outputs": [
        {
          "output_type": "display_data",
          "data": {
            "text/plain": [
              "<Figure size 640x480 with 1 Axes>"
            ],
            "image/png": "[encoded data removed]"
          },
          "metadata": {}
        }
      ],
      "source": [
        "df2= df1.groupBy(df.Size).agg({\"ListPrice\":\"average\"}).collect()\n",
        "x=[]\n",
        "y =[]\n",
        "for i in df2:\n",
        "  if i[\"Size\"]!= \"NULL\":\n",
        "    x.append(i[\"Size\"])\n",
        "    y.append(i[\"avg(ListPrice)\"])\n",
        "\n",
        "plt.bar(x, y)\n",
        "plt.title('Average List Price per Size')\n",
        "plt.xlabel('Size')\n",
        "plt.ylabel('Average List Price')\n",
        "plt.show()"
      ]
    },
    {
      "cell_type": "markdown",
      "source": [
        "Analysis: Based on the statistics, it appears that size has no bearing on the average list price. Given that they are produced in large quantities, several of the fixed sizes, such as XL, M, L, S, and 70, appeared to have cheaper costs. The average prices for other sizes appeared to be comparable. 56 appears to be the most expensive. We can sum up the explanation by saying that when we have to adjust the sizes, the prices go up. Choosing set sizes lowers the cost."
      ],
      "metadata": {
        "id": "lV71HC9m6znr"
      }
    },
    {
      "cell_type": "markdown",
      "metadata": {
        "application/vnd.databricks.v1+cell": {
          "cellMetadata": {},
          "inputWidgets": {},
          "nuid": "3c3731a0-f63d-46fe-87de-416efca7b8ae",
          "showTitle": false,
          "tableResultSettingsMap": {},
          "title": ""
        },
        "id": "kInxYA4lwTvC"
      },
      "source": [
        "#### 6. Visualize Total Count per Size. Discuss/Explain your results."
      ]
    },
    {
      "cell_type": "code",
      "execution_count": 67,
      "metadata": {
        "application/vnd.databricks.v1+cell": {
          "cellMetadata": {},
          "inputWidgets": {},
          "nuid": "7d9e8ea0-b441-41c5-be1e-7b93801de3f5",
          "showTitle": false,
          "tableResultSettingsMap": {},
          "title": ""
        },
        "id": "59uZcwxCwTvC",
        "colab": {
          "base_uri": "https://localhost:8080/",
          "height": 472
        },
        "outputId": "e6f2fdd1-b756-4e3d-8541-305725083a98"
      },
      "outputs": [
        {
          "output_type": "display_data",
          "data": {
            "text/plain": [
              "<Figure size 640x480 with 1 Axes>"
            ],
            "image/png": "[encoded data removed]"
          },
          "metadata": {}
        }
      ],
      "source": [
        "df2= df1.groupBy(df.Size).agg({\"ListPrice\":\"count\"}).collect()\n",
        "x=[]\n",
        "y =[]\n",
        "for i in df2:\n",
        "  if i[\"Size\"]!= \"NULL\":\n",
        "    x.append(i[\"Size\"])\n",
        "    y.append(i[\"count(ListPrice)\"])\n",
        "\n",
        "plt.bar(x, y)\n",
        "plt.title('Total Count per Size')\n",
        "plt.xlabel('Size')\n",
        "plt.ylabel('Count')\n",
        "plt.show()"
      ]
    },
    {
      "cell_type": "markdown",
      "source": [
        "Analysis: For the majority of sizes, the count is consistent. However, because they are popular, sizes 44 and 48 have the highest count, while less popular sizes 56, 70, and XL have the lowest count."
      ],
      "metadata": {
        "id": "Q0fQnsh-69ex"
      }
    },
    {
      "cell_type": "markdown",
      "metadata": {
        "application/vnd.databricks.v1+cell": {
          "cellMetadata": {},
          "inputWidgets": {},
          "nuid": "65b7c02f-106d-4dc6-a681-2708a2b3de5a",
          "showTitle": false,
          "tableResultSettingsMap": {},
          "title": ""
        },
        "id": "LgCarp4jwTvC"
      },
      "source": [
        "# Using Machine Learning Library (For Practice)"
      ]
    },
    {
      "cell_type": "code",
      "execution_count": 56,
      "metadata": {
        "application/vnd.databricks.v1+cell": {
          "cellMetadata": {
            "byteLimit": 2048000,
            "rowLimit": 10000
          },
          "inputWidgets": {},
          "nuid": "d7350414-127d-4e37-8aa0-cdc43f8f0bd4",
          "showTitle": false,
          "tableResultSettingsMap": {},
          "title": ""
        },
        "id": "H0NlrLmxwTvC",
        "outputId": "b412f070-b298-4ed2-abea-2cf22fc00966",
        "colab": {
          "base_uri": "https://localhost:8080/"
        }
      },
      "outputs": [
        {
          "output_type": "stream",
          "name": "stdout",
          "text": [
            "+-------+----+---------+\n",
            "|Weight |Size|ListPrice|\n",
            "+-------+----+---------+\n",
            "|1016.04|58.0|1431.5   |\n",
            "|1016.04|58.0|1431.5   |\n",
            "|NULL   |NULL|34.99    |\n",
            "|NULL   |NULL|34.99    |\n",
            "|NULL   |NULL|9.5      |\n",
            "+-------+----+---------+\n",
            "only showing top 5 rows\n",
            "\n"
          ]
        }
      ],
      "source": [
        "dfall = df.select(df.Weight.cast(\"float\"), df.Size.cast(\"float\"), df.ListPrice.cast(\"float\"))\n",
        "dfall.show(5, truncate=False)"
      ]
    },
    {
      "cell_type": "code",
      "execution_count": 57,
      "metadata": {
        "application/vnd.databricks.v1+cell": {
          "cellMetadata": {
            "byteLimit": 2048000,
            "rowLimit": 10000
          },
          "inputWidgets": {},
          "nuid": "c11425a9-aacd-43d0-882c-eb0a0002c6cf",
          "showTitle": false,
          "tableResultSettingsMap": {},
          "title": ""
        },
        "id": "D62JRCw4wTvC"
      },
      "outputs": [],
      "source": [
        "dfall = dfall.na.drop(\"any\")"
      ]
    },
    {
      "cell_type": "code",
      "execution_count": 58,
      "metadata": {
        "application/vnd.databricks.v1+cell": {
          "cellMetadata": {
            "byteLimit": 2048000,
            "rowLimit": 10000
          },
          "inputWidgets": {},
          "nuid": "653da381-78ec-470d-8994-825d252cea19",
          "showTitle": false,
          "tableResultSettingsMap": {},
          "title": ""
        },
        "id": "NYJPfD2xwTvC"
      },
      "outputs": [],
      "source": [
        "feature_columns = dfall.columns[:-1] # here we omit the final column for prediction\n",
        "from pyspark.ml.feature import VectorAssembler\n",
        "assembler = VectorAssembler(inputCols=feature_columns,outputCol=\"features\")"
      ]
    },
    {
      "cell_type": "code",
      "execution_count": 59,
      "metadata": {
        "application/vnd.databricks.v1+cell": {
          "cellMetadata": {
            "byteLimit": 2048000,
            "rowLimit": 10000
          },
          "inputWidgets": {},
          "nuid": "e2c5c2ab-8358-49e4-bd21-dc252e5848a5",
          "showTitle": false,
          "tableResultSettingsMap": {},
          "title": ""
        },
        "id": "U9BOsEVTwTvD"
      },
      "outputs": [],
      "source": [
        "data_2 = assembler.transform(dfall)"
      ]
    },
    {
      "cell_type": "code",
      "execution_count": 60,
      "metadata": {
        "application/vnd.databricks.v1+cell": {
          "cellMetadata": {
            "byteLimit": 2048000,
            "rowLimit": 10000
          },
          "inputWidgets": {},
          "nuid": "05b1b005-27ba-4f4d-bfac-473869a3aee2",
          "showTitle": false,
          "tableResultSettingsMap": {},
          "title": ""
        },
        "id": "FkOTkYmowTvD",
        "outputId": "8db4f9a7-7ef2-422c-9f9b-e0dd034b9730",
        "colab": {
          "base_uri": "https://localhost:8080/"
        }
      },
      "outputs": [
        {
          "output_type": "stream",
          "name": "stdout",
          "text": [
            "+-------+----+---------+--------------------+\n",
            "| Weight|Size|ListPrice|            features|\n",
            "+-------+----+---------+--------------------+\n",
            "|1016.04|58.0|   1431.5|[1016.03997802734...|\n",
            "|1016.04|58.0|   1431.5|[1016.03997802734...|\n",
            "|1043.26|62.0|   1431.5|[1043.26000976562...|\n",
            "| 961.61|44.0|   1431.5|[961.609985351562...|\n",
            "| 979.75|48.0|   1431.5|       [979.75,48.0]|\n",
            "|  997.9|52.0|   1431.5|[997.900024414062...|\n",
            "|1016.04|56.0|   1431.5|[1016.03997802734...|\n",
            "|1115.83|58.0|   337.22|[1115.82995605468...|\n",
            "| 1124.9|60.0|   337.22|[1124.90002441406...|\n",
            "|1133.98|62.0|   337.22|[1133.97998046875...|\n",
            "|1052.33|44.0|   337.22|[1052.32995605468...|\n",
            "|1070.47|48.0|   337.22|[1070.46997070312...|\n",
            "|1088.62|52.0|   337.22|[1088.61999511718...|\n",
            "|1115.83|58.0|   337.22|[1115.82995605468...|\n",
            "| 1124.9|60.0|   337.22|[1124.90002441406...|\n",
            "|1133.98|62.0|   337.22|[1133.97998046875...|\n",
            "|1006.97|44.0|   594.83|[1006.96997070312...|\n",
            "|1025.11|48.0|   594.83|[1025.10998535156...|\n",
            "|1043.26|52.0|   594.83|[1043.26000976562...|\n",
            "|1070.47|58.0|   594.83|[1070.46997070312...|\n",
            "+-------+----+---------+--------------------+\n",
            "only showing top 20 rows\n",
            "\n"
          ]
        }
      ],
      "source": [
        "data_2.show()"
      ]
    },
    {
      "cell_type": "code",
      "execution_count": 61,
      "metadata": {
        "application/vnd.databricks.v1+cell": {
          "cellMetadata": {
            "byteLimit": 2048000,
            "rowLimit": 10000
          },
          "inputWidgets": {},
          "nuid": "ceb6abc9-573b-4ae2-8e03-21a79639805a",
          "showTitle": false,
          "tableResultSettingsMap": {},
          "title": ""
        },
        "id": "5EQX6otawTvD"
      },
      "outputs": [],
      "source": [
        "from pyspark.ml.regression import LinearRegression"
      ]
    },
    {
      "cell_type": "code",
      "execution_count": 62,
      "metadata": {
        "application/vnd.databricks.v1+cell": {
          "cellMetadata": {
            "byteLimit": 2048000,
            "rowLimit": 10000
          },
          "inputWidgets": {},
          "nuid": "950d1b20-4331-4510-b9cd-db2819cb3474",
          "showTitle": false,
          "tableResultSettingsMap": {},
          "title": ""
        },
        "id": "NBhFt6nswTvD"
      },
      "outputs": [],
      "source": [
        "algo = LinearRegression(featuresCol=\"features\", labelCol=\"ListPrice\")"
      ]
    },
    {
      "cell_type": "code",
      "execution_count": 63,
      "metadata": {
        "application/vnd.databricks.v1+cell": {
          "cellMetadata": {
            "byteLimit": 2048000,
            "rowLimit": 10000
          },
          "inputWidgets": {},
          "nuid": "bb9182a8-78da-4250-8303-26a222676e1d",
          "showTitle": false,
          "tableResultSettingsMap": {},
          "title": ""
        },
        "id": "BR6isTEywTvD"
      },
      "outputs": [],
      "source": [
        "model = algo.fit(data_2)"
      ]
    },
    {
      "cell_type": "code",
      "execution_count": 64,
      "metadata": {
        "application/vnd.databricks.v1+cell": {
          "cellMetadata": {
            "byteLimit": 2048000,
            "rowLimit": 10000
          },
          "inputWidgets": {},
          "nuid": "373a7a87-ed11-4d0f-b98d-98ce2889907c",
          "showTitle": false,
          "tableResultSettingsMap": {},
          "title": ""
        },
        "id": "0NT8U2FYwTvD"
      },
      "outputs": [],
      "source": [
        "evaluation_summary = model.evaluate(data_2)"
      ]
    },
    {
      "cell_type": "code",
      "execution_count": 65,
      "metadata": {
        "application/vnd.databricks.v1+cell": {
          "cellMetadata": {
            "byteLimit": 2048000,
            "rowLimit": 10000
          },
          "inputWidgets": {},
          "nuid": "1548b3b3-f7f4-48f6-ad73-2b070f7595da",
          "showTitle": false,
          "tableResultSettingsMap": {},
          "title": ""
        },
        "id": "mffeXtdGwTvD",
        "outputId": "79355d75-ab1e-4148-d332-d1ddf7ca51e9",
        "colab": {
          "base_uri": "https://localhost:8080/"
        }
      },
      "outputs": [
        {
          "output_type": "execute_result",
          "data": {
            "text/plain": [
              "862.8415344138203"
            ]
          },
          "metadata": {},
          "execution_count": 65
        }
      ],
      "source": [
        "evaluation_summary.rootMeanSquaredError"
      ]
    },
    {
      "cell_type": "code",
      "execution_count": 66,
      "metadata": {
        "application/vnd.databricks.v1+cell": {
          "cellMetadata": {
            "byteLimit": 2048000,
            "rowLimit": 10000
          },
          "inputWidgets": {},
          "nuid": "5bb20dc4-259c-4de1-bb3c-ea477a692d17",
          "showTitle": false,
          "tableResultSettingsMap": {},
          "title": ""
        },
        "id": "K5gcW0QrwTvD",
        "outputId": "408d34d4-accd-473b-9c79-83470d3502d4",
        "colab": {
          "base_uri": "https://localhost:8080/"
        }
      },
      "outputs": [
        {
          "output_type": "execute_result",
          "data": {
            "text/plain": [
              "0.10019389704278814"
            ]
          },
          "metadata": {},
          "execution_count": 66
        }
      ],
      "source": [
        "evaluation_summary.r2"
      ]
    }
  ],
  "metadata": {
    "application/vnd.databricks.v1+notebook": {
      "dashboards": [],
      "environmentMetadata": null,
      "language": "python",
      "notebookMetadata": {
        "pythonIndentUnit": 2
      },
      "notebookName": "HW14-Spark",
      "widgets": {}
    },
    "kernelspec": {
      "display_name": "Python 3 (ipykernel)",
      "language": "python",
      "name": "python3"
    },
    "language_info": {
      "codemirror_mode": {
        "name": "ipython",
        "version": 3
      },
      "file_extension": ".py",
      "mimetype": "text/x-python",
      "name": "python",
      "nbconvert_exporter": "python",
      "pygments_lexer": "ipython3",
      "version": "3.12.3"
    },
    "colab": {
      "provenance": []
    }
  },
  "nbformat": 4,
  "nbformat_minor": 0
}