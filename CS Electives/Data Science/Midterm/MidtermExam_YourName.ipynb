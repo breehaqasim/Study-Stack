{
 "cells": [
  {
   "cell_type": "markdown",
   "id": "871bffa4",
   "metadata": {},
   "source": [
    "### Name:\n",
    "### ID"
   ]
  },
  {
   "cell_type": "markdown",
   "id": "412a33f0",
   "metadata": {
    "tags": []
   },
   "source": [
    "# movies-1.csv and movies-2.csv"
   ]
  },
  {
   "cell_type": "markdown",
   "id": "0a156bc2",
   "metadata": {},
   "source": [
    "Import libraries here"
   ]
  },
  {
   "cell_type": "code",
   "execution_count": null,
   "id": "b9c72501",
   "metadata": {},
   "outputs": [],
   "source": []
  },
  {
   "cell_type": "code",
   "execution_count": null,
   "id": "0831e314",
   "metadata": {},
   "outputs": [],
   "source": []
  },
  {
   "cell_type": "code",
   "execution_count": null,
   "id": "97426a06",
   "metadata": {},
   "outputs": [],
   "source": []
  },
  {
   "cell_type": "markdown",
   "id": "176efe30",
   "metadata": {},
   "source": [
    "Read datasets here"
   ]
  },
  {
   "cell_type": "code",
   "execution_count": null,
   "id": "7633f30f",
   "metadata": {},
   "outputs": [],
   "source": []
  },
  {
   "cell_type": "code",
   "execution_count": null,
   "id": "9c8ec676",
   "metadata": {},
   "outputs": [],
   "source": []
  },
  {
   "cell_type": "code",
   "execution_count": null,
   "id": "9e6ead80",
   "metadata": {},
   "outputs": [],
   "source": []
  },
  {
   "cell_type": "markdown",
   "id": "7faa000b",
   "metadata": {},
   "source": [
    "Q1. Join datasets to include all the columns in both datasets (Hint: Find the common column to merge these datasets) <br>\n",
    "Display few records after joining. **(no explanation needed)**"
   ]
  },
  {
   "cell_type": "code",
   "execution_count": null,
   "id": "891ae221",
   "metadata": {},
   "outputs": [],
   "source": []
  },
  {
   "cell_type": "code",
   "execution_count": null,
   "id": "c432c59c",
   "metadata": {},
   "outputs": [],
   "source": []
  },
  {
   "cell_type": "code",
   "execution_count": null,
   "id": "119b2ed9",
   "metadata": {},
   "outputs": [],
   "source": []
  },
  {
   "cell_type": "markdown",
   "id": "6fdf0e9f",
   "metadata": {},
   "source": [
    "Q2. Display the number of rows/columns and data types of each column **(no explanation needed)**"
   ]
  },
  {
   "cell_type": "code",
   "execution_count": null,
   "id": "1ca1d081",
   "metadata": {},
   "outputs": [],
   "source": []
  },
  {
   "cell_type": "code",
   "execution_count": null,
   "id": "24a5f299",
   "metadata": {},
   "outputs": [],
   "source": []
  },
  {
   "cell_type": "code",
   "execution_count": null,
   "id": "b5c67bd5",
   "metadata": {},
   "outputs": [],
   "source": []
  },
  {
   "cell_type": "markdown",
   "id": "06c8eaaa",
   "metadata": {},
   "source": [
    "Q3. Find and display if there are duplicates in the dataset. If yes, then in the next step, remove the duplicates and display the number of rows/columns again. **(no explanation needed)**"
   ]
  },
  {
   "cell_type": "code",
   "execution_count": null,
   "id": "a750f9fe",
   "metadata": {},
   "outputs": [],
   "source": []
  },
  {
   "cell_type": "code",
   "execution_count": null,
   "id": "14430982",
   "metadata": {},
   "outputs": [],
   "source": []
  },
  {
   "cell_type": "code",
   "execution_count": null,
   "id": "02624e37",
   "metadata": {},
   "outputs": [],
   "source": []
  },
  {
   "cell_type": "markdown",
   "id": "e61bb12a",
   "metadata": {},
   "source": [
    "Q4. Find all the columns with missing values by displaying the total number of missing records for each column.**(no explanation needed)**"
   ]
  },
  {
   "cell_type": "code",
   "execution_count": null,
   "id": "6dc7b68e",
   "metadata": {},
   "outputs": [],
   "source": []
  },
  {
   "cell_type": "code",
   "execution_count": null,
   "id": "ef5c9742",
   "metadata": {},
   "outputs": [],
   "source": []
  },
  {
   "cell_type": "code",
   "execution_count": null,
   "id": "89cdc9d4",
   "metadata": {},
   "outputs": [],
   "source": []
  },
  {
   "cell_type": "markdown",
   "id": "83b1e685",
   "metadata": {},
   "source": [
    "Q5. If there are missing values in any column, replace it with value \"Unknown\" (except duration column). <br>\n",
    "Replace \"duration\" column missing values with \"0 mins\". <br>\n",
    "Display the total number of missing values again to show that there are no missing values exist. **(no explanation needed)**"
   ]
  },
  {
   "cell_type": "code",
   "execution_count": null,
   "id": "912ce656",
   "metadata": {},
   "outputs": [],
   "source": []
  },
  {
   "cell_type": "code",
   "execution_count": null,
   "id": "06ed050b",
   "metadata": {},
   "outputs": [],
   "source": []
  },
  {
   "cell_type": "code",
   "execution_count": null,
   "id": "c03d545c",
   "metadata": {},
   "outputs": [],
   "source": []
  },
  {
   "cell_type": "markdown",
   "id": "a532f704",
   "metadata": {},
   "source": [
    "Q6. Count the number of records for each rating. Do you see any issues in rating values? **Please discuss/explain your findings**"
   ]
  },
  {
   "cell_type": "code",
   "execution_count": null,
   "id": "19cde022",
   "metadata": {},
   "outputs": [],
   "source": []
  },
  {
   "cell_type": "code",
   "execution_count": null,
   "id": "4420a01c",
   "metadata": {},
   "outputs": [],
   "source": []
  },
  {
   "cell_type": "code",
   "execution_count": null,
   "id": "e65a6d04",
   "metadata": {},
   "outputs": [],
   "source": []
  },
  {
   "cell_type": "markdown",
   "id": "735112b5",
   "metadata": {},
   "source": [
    "Q7. Find the percentage of records released in 2018. (Hint: use column **release_year**) **(no explanation needed)**"
   ]
  },
  {
   "cell_type": "code",
   "execution_count": null,
   "id": "b624fa55",
   "metadata": {},
   "outputs": [],
   "source": []
  },
  {
   "cell_type": "code",
   "execution_count": null,
   "id": "c8856821",
   "metadata": {},
   "outputs": [],
   "source": []
  },
  {
   "cell_type": "code",
   "execution_count": null,
   "id": "24304bad",
   "metadata": {},
   "outputs": [],
   "source": []
  },
  {
   "cell_type": "markdown",
   "id": "ee6cf83c",
   "metadata": {},
   "source": [
    "Q8. Split the **\"duration\"** column and create two new columns **\"minutes\"** and **\"unit\"** based on the duration value. Display few results. **(no explanation needed)**"
   ]
  },
  {
   "cell_type": "code",
   "execution_count": null,
   "id": "d6917529",
   "metadata": {},
   "outputs": [],
   "source": []
  },
  {
   "cell_type": "code",
   "execution_count": null,
   "id": "e680150c",
   "metadata": {},
   "outputs": [],
   "source": []
  },
  {
   "cell_type": "code",
   "execution_count": null,
   "id": "61b8bfa7",
   "metadata": {},
   "outputs": [],
   "source": []
  },
  {
   "cell_type": "markdown",
   "id": "bf6d5573",
   "metadata": {},
   "source": [
    "Q9. Find the maximum duration in column **\"minutes\"** (Hint: check for the data type for column \"minute\" column and convert accordingly). **(no explanation needed)**"
   ]
  },
  {
   "cell_type": "code",
   "execution_count": null,
   "id": "c8dc0b9b",
   "metadata": {},
   "outputs": [],
   "source": []
  },
  {
   "cell_type": "code",
   "execution_count": null,
   "id": "3b663fa8",
   "metadata": {},
   "outputs": [],
   "source": []
  },
  {
   "cell_type": "code",
   "execution_count": null,
   "id": "efcf94b2",
   "metadata": {},
   "outputs": [],
   "source": []
  },
  {
   "cell_type": "markdown",
   "id": "ec3f2548",
   "metadata": {},
   "source": [
    "Q10. Find all the records which have minutes greater than 200. Display the records and report the total number of records. **(no explanation needed)**"
   ]
  },
  {
   "cell_type": "code",
   "execution_count": null,
   "id": "87585466",
   "metadata": {},
   "outputs": [],
   "source": []
  },
  {
   "cell_type": "code",
   "execution_count": null,
   "id": "35cbb10e",
   "metadata": {},
   "outputs": [],
   "source": []
  },
  {
   "cell_type": "code",
   "execution_count": null,
   "id": "28a563c6",
   "metadata": {},
   "outputs": [],
   "source": []
  },
  {
   "cell_type": "markdown",
   "id": "e7f1005a",
   "metadata": {},
   "source": [
    "Q11. What is the Average (mean) minutes of records whose **type** is **Movie**? Display the average **(no explanation needed)**"
   ]
  },
  {
   "cell_type": "code",
   "execution_count": null,
   "id": "4069d8a8",
   "metadata": {},
   "outputs": [],
   "source": []
  },
  {
   "cell_type": "code",
   "execution_count": null,
   "id": "1d0a8d25",
   "metadata": {},
   "outputs": [],
   "source": []
  },
  {
   "cell_type": "code",
   "execution_count": null,
   "id": "ab808a5a",
   "metadata": {},
   "outputs": [],
   "source": []
  },
  {
   "cell_type": "markdown",
   "id": "c22e4fb6",
   "metadata": {},
   "source": [
    "Q12. Which individual country has the Highest number of type TV Shows? Display the output **(no explanation needed)**"
   ]
  },
  {
   "cell_type": "code",
   "execution_count": null,
   "id": "f7dc552c",
   "metadata": {},
   "outputs": [],
   "source": []
  },
  {
   "cell_type": "code",
   "execution_count": null,
   "id": "0402133a",
   "metadata": {},
   "outputs": [],
   "source": []
  },
  {
   "cell_type": "code",
   "execution_count": null,
   "id": "3d020bf7",
   "metadata": {},
   "outputs": [],
   "source": []
  },
  {
   "cell_type": "markdown",
   "id": "f65f3b6f",
   "metadata": {},
   "source": [
    "Q13. For movie **title** '3 Idiots', what is the Show Id and Who is the Director of this show ? Display the output **(no explanation needed)**"
   ]
  },
  {
   "cell_type": "code",
   "execution_count": null,
   "id": "8197fccf",
   "metadata": {},
   "outputs": [],
   "source": []
  },
  {
   "cell_type": "code",
   "execution_count": null,
   "id": "5dc18bd6",
   "metadata": {},
   "outputs": [],
   "source": []
  },
  {
   "cell_type": "code",
   "execution_count": null,
   "id": "0685606f",
   "metadata": {},
   "outputs": [],
   "source": []
  },
  {
   "cell_type": "markdown",
   "id": "9468bea1",
   "metadata": {},
   "source": [
    "Q14. Using Bar Graph, display the total number of movies released each year. Display only top 10 in descending order. (both types in column  **type**)<br>\n",
    "In your bar graph, which year the highest number of the movies were released?"
   ]
  },
  {
   "cell_type": "code",
   "execution_count": null,
   "id": "1c861134",
   "metadata": {},
   "outputs": [],
   "source": []
  },
  {
   "cell_type": "code",
   "execution_count": null,
   "id": "c2f86e8d",
   "metadata": {},
   "outputs": [],
   "source": []
  },
  {
   "cell_type": "code",
   "execution_count": null,
   "id": "8ecc7b8a",
   "metadata": {},
   "outputs": [],
   "source": []
  },
  {
   "cell_type": "markdown",
   "id": "22bc8a0b",
   "metadata": {},
   "source": [
    "Q15. Display Top 5 Directors, who directed the highest number of TV Shows & Movies ? **(no explanation needed)**"
   ]
  },
  {
   "cell_type": "code",
   "execution_count": null,
   "id": "4d6dbb0b",
   "metadata": {},
   "outputs": [],
   "source": []
  },
  {
   "cell_type": "code",
   "execution_count": null,
   "id": "c74d392f",
   "metadata": {},
   "outputs": [],
   "source": []
  },
  {
   "cell_type": "code",
   "execution_count": null,
   "id": "2cc7b8f8",
   "metadata": {},
   "outputs": [],
   "source": []
  },
  {
   "cell_type": "markdown",
   "id": "3a167b2a",
   "metadata": {},
   "source": [
    "Q16. In how many movies/shows, Tom Cruise was casted? Display the records **(no explanation needed)**"
   ]
  },
  {
   "cell_type": "code",
   "execution_count": null,
   "id": "be11ce0b",
   "metadata": {},
   "outputs": [],
   "source": []
  },
  {
   "cell_type": "code",
   "execution_count": null,
   "id": "bee87713",
   "metadata": {},
   "outputs": [],
   "source": []
  },
  {
   "cell_type": "code",
   "execution_count": null,
   "id": "e91922c0",
   "metadata": {},
   "outputs": [],
   "source": []
  },
  {
   "cell_type": "markdown",
   "id": "8dd46777",
   "metadata": {},
   "source": [
    "Q17. Create a distribution plot (histogram) for **ratings** TV-14 and TV-MA and **type** (Hint: use **x** for rating and **hue** for type) <br>\n",
    "**(no explanation needed)**"
   ]
  },
  {
   "cell_type": "code",
   "execution_count": null,
   "id": "8382f6e0",
   "metadata": {},
   "outputs": [],
   "source": []
  },
  {
   "cell_type": "code",
   "execution_count": null,
   "id": "3282d1b1",
   "metadata": {},
   "outputs": [],
   "source": []
  },
  {
   "cell_type": "code",
   "execution_count": null,
   "id": "de6bc760",
   "metadata": {},
   "outputs": [],
   "source": []
  },
  {
   "cell_type": "markdown",
   "id": "d9a965eb",
   "metadata": {},
   "source": [
    "Q18. Use a boxplot visualisation technique to see the highest, lowest and average **score** with the **type**? **Briefly explain your boxplot**"
   ]
  },
  {
   "cell_type": "code",
   "execution_count": null,
   "id": "cc87866d",
   "metadata": {},
   "outputs": [],
   "source": []
  },
  {
   "cell_type": "code",
   "execution_count": null,
   "id": "55dc1911",
   "metadata": {},
   "outputs": [],
   "source": []
  },
  {
   "cell_type": "code",
   "execution_count": null,
   "id": "402b73aa",
   "metadata": {},
   "outputs": [],
   "source": []
  },
  {
   "cell_type": "markdown",
   "id": "7b760a5a",
   "metadata": {},
   "source": [
    "Q19. Use any visualization technique (think of any suitable plot) which can justify/show that \"As the **score** increases, the **popularity** also increases proportionally\". **Explain your findings in your plot**"
   ]
  },
  {
   "cell_type": "code",
   "execution_count": null,
   "id": "53039832",
   "metadata": {},
   "outputs": [],
   "source": []
  },
  {
   "cell_type": "code",
   "execution_count": null,
   "id": "bff7cb90",
   "metadata": {},
   "outputs": [],
   "source": []
  },
  {
   "cell_type": "code",
   "execution_count": null,
   "id": "0389c225",
   "metadata": {},
   "outputs": [],
   "source": []
  },
  {
   "cell_type": "markdown",
   "id": "040552a3",
   "metadata": {},
   "source": [
    "Q20. Generate a correlation plot between **score** and **popularity**. **Briefly explain your findings?**"
   ]
  },
  {
   "cell_type": "code",
   "execution_count": null,
   "id": "70dd9d11",
   "metadata": {},
   "outputs": [],
   "source": []
  },
  {
   "cell_type": "code",
   "execution_count": null,
   "id": "15687e3c",
   "metadata": {},
   "outputs": [],
   "source": []
  },
  {
   "cell_type": "code",
   "execution_count": null,
   "id": "6f21dea5",
   "metadata": {},
   "outputs": [],
   "source": []
  },
  {
   "cell_type": "markdown",
   "id": "cdc9d3a9",
   "metadata": {},
   "source": [
    "Q21. Test the Hypothesis and explain your findings: <br> H0: the score of **type** = TV Show and **type** = Movie is same (equal or similar). <br>\n",
    "Ha: the score of **type** = TV Show is greater than **type** = Movie <br>\n",
    "**Briefly explain your conclusion**"
   ]
  },
  {
   "cell_type": "code",
   "execution_count": null,
   "id": "4921fc66",
   "metadata": {},
   "outputs": [],
   "source": []
  },
  {
   "cell_type": "code",
   "execution_count": null,
   "id": "4944bb5c",
   "metadata": {},
   "outputs": [],
   "source": []
  },
  {
   "cell_type": "code",
   "execution_count": null,
   "id": "50363935",
   "metadata": {},
   "outputs": [],
   "source": []
  },
  {
   "cell_type": "markdown",
   "id": "b130cce8",
   "metadata": {},
   "source": [
    "Q22. Test the Hypothesis and explain your findings: <br> H0: **type** and **country** are independent and are not related to each other <br>\n",
    "Ha: **type** and **country** are dependent and related to each other <br>\n",
    "**Briefly explain your conclusion**"
   ]
  },
  {
   "cell_type": "code",
   "execution_count": null,
   "id": "ec2a249c",
   "metadata": {},
   "outputs": [],
   "source": []
  },
  {
   "cell_type": "code",
   "execution_count": null,
   "id": "4a1dda57",
   "metadata": {},
   "outputs": [],
   "source": []
  },
  {
   "cell_type": "code",
   "execution_count": null,
   "id": "ad84c959",
   "metadata": {},
   "outputs": [],
   "source": []
  }
 ],
 "metadata": {
  "kernelspec": {
   "display_name": "Python 3 (ipykernel)",
   "language": "python",
   "name": "python3"
  },
  "language_info": {
   "codemirror_mode": {
    "name": "ipython",
    "version": 3
   },
   "file_extension": ".py",
   "mimetype": "text/x-python",
   "name": "python",
   "nbconvert_exporter": "python",
   "pygments_lexer": "ipython3",
   "version": "3.8.8"
  }
 },
 "nbformat": 4,
 "nbformat_minor": 5
}
