{
 "cells": [
  {
   "cell_type": "markdown",
   "id": "d4ac0d72-ba08-47a3-934b-c587e3a98765",
   "metadata": {},
   "source": [
    "# **CS/CE 457/464 - Homework Assignment 3: Statistical Inference**"
   ]
  },
  {
   "cell_type": "markdown",
   "id": "ae01ddb0-62ee-4ff3-853a-a04b94d614bb",
   "metadata": {},
   "source": [
    "### Breeha Qasim 08283"
   ]
  },
  {
   "cell_type": "markdown",
   "id": "b7c6c17e-6907-45cf-8911-e95c27f0efcb",
   "metadata": {},
   "source": [
    "###### bq08283@st.habib.edu.pk"
   ]
  },
  {
   "cell_type": "code",
   "execution_count": 109,
   "id": "906e559f-f082-44b7-b6a8-8e66962dac9b",
   "metadata": {},
   "outputs": [],
   "source": [
    "import pandas as pd \n",
    "import matplotlib.pyplot as plt\n",
    "import seaborn as sns\n",
    "from scipy import stats\n",
    "from scipy.stats import chi2_contingency"
   ]
  },
  {
   "cell_type": "code",
   "execution_count": 18,
   "id": "c2c1ead1-7569-4f85-a16c-099c6f09ae49",
   "metadata": {},
   "outputs": [],
   "source": [
    "dataset = pd.read_csv(\"C:/Users/breeh/Downloads/student-scores.csv\")\n",
    "# dataset"
   ]
  },
  {
   "cell_type": "markdown",
   "id": "790c4ed8-ce13-43d3-b4ed-f0ccf87ab95c",
   "metadata": {},
   "source": [
    "## Q1"
   ]
  },
  {
   "cell_type": "markdown",
   "id": "fbc79e35-69eb-44cd-a2fe-b5100fef881e",
   "metadata": {},
   "source": [
    "#####  H0 = math_score of Males is less than or equal to math_score of Females\n",
    "#####  H1 = math_score of Males is greater than math_score of Females\n"
   ]
  },
  {
   "cell_type": "code",
   "execution_count": 24,
   "id": "9b7c6bff-2c13-4884-8861-11341e146b2d",
   "metadata": {},
   "outputs": [
    {
     "data": {
      "text/plain": [
       "TtestResult(statistic=2.2371559026936256, pvalue=0.012693020299630226, df=1998.0)"
      ]
     },
     "execution_count": 24,
     "metadata": {},
     "output_type": "execute_result"
    }
   ],
   "source": [
    "males = dataset[dataset['gender'] == 'male']['math_score']\n",
    "females = dataset[dataset['gender'] == 'female']['math_score']\n",
    "stats.ttest_ind(males, females, alternative='greater')"
   ]
  },
  {
   "cell_type": "markdown",
   "id": "52247035-48d2-4e17-93c0-56f5c3e4e6ae",
   "metadata": {},
   "source": [
    "##### **^Explanation/Reasoning:** Since the p-value is less than 0.05, we reject the null hypothesis and conclude that male students have greater math scores than female students."
   ]
  },
  {
   "cell_type": "markdown",
   "id": "1165c9f1-95b5-48fd-b6e5-c2b465b46616",
   "metadata": {},
   "source": [
    "## Q2"
   ]
  },
  {
   "cell_type": "markdown",
   "id": "cc1cb60c-0bc4-4118-a275-85087b182c61",
   "metadata": {},
   "source": [
    "#####  H0 = math_score of Non Doctors is less than or equal to math_score of Doctors\n",
    "#####  H1 = math_score of Non Doctors is greater than math_score of Doctors"
   ]
  },
  {
   "cell_type": "code",
   "execution_count": 33,
   "id": "92e6e9e2-d99b-4e89-9197-4cbeb1f9914f",
   "metadata": {},
   "outputs": [
    {
     "data": {
      "text/plain": [
       "TtestResult(statistic=-7.389083205876682, pvalue=0.999999999999892, df=1998.0)"
      ]
     },
     "execution_count": 33,
     "metadata": {},
     "output_type": "execute_result"
    }
   ],
   "source": [
    "doctors = dataset[dataset['career_aspiration'] == 'Doctor']['math_score']\n",
    "non_doctors = dataset[dataset['career_aspiration'] != 'Doctor']['math_score']\n",
    "stats.ttest_ind(non_doctors, doctors, alternative='greater')"
   ]
  },
  {
   "cell_type": "markdown",
   "id": "31049724-0133-4858-a3e4-830bf60a2cfd",
   "metadata": {},
   "source": [
    "##### **^Explanation/Reasoning:** Since the pvalue is greater than 0.05, we'll reject alternative hypothesis and accept null hypothesis to conclude that math score of Non Doctors is less than or equal to that of Doctors\n"
   ]
  },
  {
   "cell_type": "markdown",
   "id": "f8eca8ff-28dd-4fd4-86f2-705f67249b71",
   "metadata": {},
   "source": [
    "## Q3"
   ]
  },
  {
   "cell_type": "markdown",
   "id": "a27d2671-4dc3-424b-b3bc-88c985588acc",
   "metadata": {},
   "source": [
    "#####  H0 = weekly_self_study_hours of males are less than or equal to weekly_self_study_hours of females\n",
    "#####  H1 = weekly_self_study_hours of males are greater than weekly_self_study_hours of females\n"
   ]
  },
  {
   "cell_type": "code",
   "execution_count": 47,
   "id": "fc3ea181-759d-4898-b814-fb03906cf7d9",
   "metadata": {},
   "outputs": [
    {
     "data": {
      "text/plain": [
       "TtestResult(statistic=3.4567831650474443, pvalue=0.00027905018418441824, df=1998.0)"
      ]
     },
     "execution_count": 47,
     "metadata": {},
     "output_type": "execute_result"
    }
   ],
   "source": [
    "males = dataset[dataset['gender'] == 'male']['weekly_self_study_hours']\n",
    "females = dataset[dataset['gender'] == 'female']['weekly_self_study_hours']\n",
    "stats.ttest_ind(males, females, alternative='greater')"
   ]
  },
  {
   "cell_type": "markdown",
   "id": "98ac3c88-db4f-4095-8aa4-d8b8a6ca8c36",
   "metadata": {},
   "source": [
    "##### **^Explanation/Reasoning:** Since the p-value is less than 0.05, we reject the null hypothesis and conclude that males spend greater weekly study hours compared to females, suggesting potential differences in academic priorities."
   ]
  },
  {
   "cell_type": "markdown",
   "id": "d4ee5a77-2292-404c-baf0-69f724f219a3",
   "metadata": {},
   "source": [
    "## Q4"
   ]
  },
  {
   "cell_type": "markdown",
   "id": "1cb04535-dc1b-4353-9a1c-14173ab2d099",
   "metadata": {},
   "source": [
    "#####  H0 =  math_score of no part_time_job male students are less than or equal to math_score of part_time_job male studentsts\n",
    "#####  H1 =  math_score of no part_time_job male students are greater than math_score of part_time_job male students\n"
   ]
  },
  {
   "cell_type": "code",
   "execution_count": 170,
   "id": "b5f43376-16c6-4eae-9e04-36b8aa5d4b90",
   "metadata": {},
   "outputs": [
    {
     "data": {
      "text/plain": [
       "TtestResult(statistic=5.8026672393780085, pvalue=4.3820239750124745e-09, df=996.0)"
      ]
     },
     "execution_count": 170,
     "metadata": {},
     "output_type": "execute_result"
    }
   ],
   "source": [
    "no_part_time = dataset[(dataset['gender'] == 'male') & (dataset['part_time_job'] == False)]['math_score']\n",
    "with_part_time = dataset[(dataset['gender'] == 'male') & (dataset['part_time_job'] == True)]['math_score']\n",
    "stats.ttest_ind(no_part_time, with_part_time, alternative='greater') "
   ]
  },
  {
   "cell_type": "markdown",
   "id": "cf1617e5-f239-48de-9784-518879603741",
   "metadata": {},
   "source": [
    "##### **^Explanation/Reasoning:** Since the p-value is less than 0.05, we reject the null hypothesis, concluding that male students without part-time jobs have greater math scores compared to those with part-time jobs."
   ]
  },
  {
   "cell_type": "markdown",
   "id": "2bbd58af-24e2-42f6-af00-e9efba637148",
   "metadata": {},
   "source": [
    "## Q5"
   ]
  },
  {
   "cell_type": "markdown",
   "id": "4fbef9fa-b30d-4582-87a9-29d600f3ed9b",
   "metadata": {},
   "source": [
    "#####  H0 =  average of history_score is greater than or equal to average of geography_score\n",
    "#####  H1 =  average of history_score is less than average of geography_score\n"
   ]
  },
  {
   "cell_type": "code",
   "execution_count": 67,
   "id": "852d353b-b63c-4aa3-a2d3-07abb9148975",
   "metadata": {},
   "outputs": [
    {
     "data": {
      "text/plain": [
       "TtestResult(statistic=-1.4412586066465385, pvalue=0.07479497633658547, df=3998.0)"
      ]
     },
     "execution_count": 67,
     "metadata": {},
     "output_type": "execute_result"
    }
   ],
   "source": [
    "history_score = dataset['history_score']\n",
    "geography_score = dataset['geography_score']\n",
    "stats.ttest_ind(history_score, geography_score, alternative='less')"
   ]
  },
  {
   "cell_type": "markdown",
   "id": "e6d1134a-7bde-44ed-a7f3-306cf05c3d3f",
   "metadata": {},
   "source": [
    "##### **^Explanation/Reasoning:** Since the p-value is greater than 0.05, we accept the null hypothesis, concluding that students perform good in history compared to geography."
   ]
  },
  {
   "cell_type": "markdown",
   "id": "96d682ce-7f8d-4b71-89ef-12fd61ba94c1",
   "metadata": {},
   "source": [
    "## Q6"
   ]
  },
  {
   "cell_type": "markdown",
   "id": "91e66d57-1d25-4837-8a96-ba39d5e3f584",
   "metadata": {},
   "source": [
    "#####  H0 =  average of math_score is less than or equal to average of biology_score\n",
    "#####  H1 =  average of math_score is greater than average of biology_score\n"
   ]
  },
  {
   "cell_type": "code",
   "execution_count": 75,
   "id": "1d6bed99-2437-452f-a163-abd2d332ba42",
   "metadata": {},
   "outputs": [
    {
     "data": {
      "text/plain": [
       "TtestResult(statistic=9.082620143235266, pvalue=8.146293509285797e-20, df=3998.0)"
      ]
     },
     "execution_count": 75,
     "metadata": {},
     "output_type": "execute_result"
    }
   ],
   "source": [
    "math_score = dataset['math_score']\n",
    "biology_score = dataset['biology_score']\n",
    "stats.ttest_ind(math_score, biology_score, alternative='greater')"
   ]
  },
  {
   "cell_type": "markdown",
   "id": "62a1ed30-0567-44d7-ab1b-e867dbf78739",
   "metadata": {},
   "source": [
    "##### **^Explanation/Reasoning:** Since the p-value is less than 0.05, we reject the null hypothesis and conclude that students perform better in biology than in math, indicating that math may be more challenging for them."
   ]
  },
  {
   "cell_type": "markdown",
   "id": "143212e6-d4f8-41a0-af95-7f0c2d7ed1d0",
   "metadata": {},
   "source": [
    "## Q7"
   ]
  },
  {
   "cell_type": "markdown",
   "id": "10bf88bc-dd97-4449-b8dc-c266b80b1c24",
   "metadata": {},
   "source": [
    "#####  H0 =  weekly_self_study_hours of extracurricular_activities is less than weekly_self_study_hours of no extracurricular_activities\n",
    "#####  H1 =  weekly_self_study_hours of extracurricular_activities is greater than or equal to weekly_self_study_hours of no extracurricular_activitiess"
   ]
  },
  {
   "cell_type": "code",
   "execution_count": 181,
   "id": "c1255c64-b906-4dad-a478-e1b7456a7fd0",
   "metadata": {},
   "outputs": [
    {
     "data": {
      "text/plain": [
       "TtestResult(statistic=-2.3506159912870577, pvalue=0.009419553161020007, df=1998.0)"
      ]
     },
     "execution_count": 181,
     "metadata": {},
     "output_type": "execute_result"
    }
   ],
   "source": [
    "with_extracurricular = dataset[dataset['extracurricular_activities'] == True]['weekly_self_study_hours']\n",
    "without_extracurricular = dataset[dataset['extracurricular_activities'] == False]['weekly_self_study_hours']\n",
    "stats.ttest_ind(with_extracurricular, without_extracurricular, alternative='less')"
   ]
  },
  {
   "cell_type": "markdown",
   "id": "92512ca8-dcb6-4b5e-ad3e-a774053e20cd",
   "metadata": {},
   "source": [
    "##### **^Explanation/Reasoning:** Since the p-value is less than 0.05, we reject the null hypothesis and conclude that students involved in extracurricular activities have greater or equal weekly study hours compared to those not involved in extracurricular activities."
   ]
  },
  {
   "cell_type": "markdown",
   "id": "2630f62f-9689-4195-9075-f51c6d0f162b",
   "metadata": {},
   "source": [
    "## Q8"
   ]
  },
  {
   "cell_type": "markdown",
   "id": "737d9ab4-c11c-4598-b12b-8d6a657c0bcb",
   "metadata": {},
   "source": [
    "#####  H0 =  absence_days of females are less than absence_days of males\n",
    "#####  H1 =  absence_days of females are greater than or equal to absence_days of males"
   ]
  },
  {
   "cell_type": "code",
   "execution_count": 113,
   "id": "4ba1ee01-6d5a-41fc-a67c-9b1b8db504e7",
   "metadata": {},
   "outputs": [
    {
     "data": {
      "text/plain": [
       "TtestResult(statistic=1.3128102331149203, pvalue=0.9053011661354035, df=1998.0)"
      ]
     },
     "execution_count": 113,
     "metadata": {},
     "output_type": "execute_result"
    }
   ],
   "source": [
    "male_absence_days = dataset[dataset['gender'] == 'male']['absence_days']\n",
    "female_absence_days = dataset[dataset['gender'] == 'female']['absence_days']\n",
    "stats.ttest_ind(female_absence_days, male_absence_days, alternative='less')"
   ]
  },
  {
   "cell_type": "markdown",
   "id": "72b33710-6815-4165-82c0-dc928cda39e8",
   "metadata": {},
   "source": [
    "##### **^Explanation/Reasoning:** Since the p-value is greater than 0.05, we reject the alternative hypothesis and accept the null hypothesis, concluding that females have less absence days than males."
   ]
  },
  {
   "cell_type": "markdown",
   "id": "5ae5c8f1-3e22-4d49-b3b0-aae4ecaa987a",
   "metadata": {},
   "source": [
    "## Q9"
   ]
  },
  {
   "cell_type": "markdown",
   "id": "8018f40d-3b23-48da-bab4-d0d8dd62a632",
   "metadata": {},
   "source": [
    "#####  H0 =  no association between gender and career_aspiration\n",
    "#####  H1 =  association between gender and career_aspiration"
   ]
  },
  {
   "cell_type": "code",
   "execution_count": 202,
   "id": "30e76199-5f04-47a7-9084-956286380e05",
   "metadata": {},
   "outputs": [
    {
     "data": {
      "text/plain": [
       "1.9087221746002932e-17"
      ]
     },
     "execution_count": 202,
     "metadata": {},
     "output_type": "execute_result"
    }
   ],
   "source": [
    "chisqt = pd.crosstab(dataset['gender'], dataset['career_aspiration'],margins=True)\n",
    "stats.chi2_contingency(chisqt)\n",
    "chi2, p, dof, ex = stats.chi2_contingency(chisqt)\n",
    "p"
   ]
  },
  {
   "cell_type": "markdown",
   "id": "be62f377-5a2d-465d-a6e5-b3f156f6ad60",
   "metadata": {},
   "source": [
    "##### **^Explanation/Reasoning:** Since the p-value is less than 0.05, we reject the null hypothesis, concluding that gender and career aspiration are dependent of each other having strong association."
   ]
  },
  {
   "cell_type": "markdown",
   "id": "b3c91e30-4448-4370-897b-8a5781544b1c",
   "metadata": {},
   "source": [
    "## Q10"
   ]
  },
  {
   "cell_type": "markdown",
   "id": "9503133b-d6bd-449d-a416-49a3dbdfeeeb",
   "metadata": {},
   "source": [
    "#####  H0 =  no association between gender and part_time_job\n",
    "#####  H1 =  association between gender and part_time_job"
   ]
  },
  {
   "cell_type": "code",
   "execution_count": 204,
   "id": "35d447a2-b015-4bf9-ac47-2e19caa61258",
   "metadata": {},
   "outputs": [
    {
     "data": {
      "text/plain": [
       "0.8888874344046543"
      ]
     },
     "execution_count": 204,
     "metadata": {},
     "output_type": "execute_result"
    }
   ],
   "source": [
    "chisqt = pd.crosstab(dataset['gender'], dataset['part_time_job'],margins=True)\n",
    "stats.chi2_contingency(chisqt)\n",
    "chi2, p, dof, ex = stats.chi2_contingency(chisqt)\n",
    "p"
   ]
  },
  {
   "cell_type": "markdown",
   "id": "d728c4a8-845f-4af6-b05f-6700d0d1f599",
   "metadata": {},
   "source": [
    "##### **^Explanation/Reasoning:** Since the pvalue is greater than 0.05, we'll reject alternative hypothesis and accept null hypothesis to conclude that there is no association between gender and part time job and that they are independent of each other."
   ]
  }
 ],
 "metadata": {
  "kernelspec": {
   "display_name": "Python 3 (ipykernel)",
   "language": "python",
   "name": "python3"
  },
  "language_info": {
   "codemirror_mode": {
    "name": "ipython",
    "version": 3
   },
   "file_extension": ".py",
   "mimetype": "text/x-python",
   "name": "python",
   "nbconvert_exporter": "python",
   "pygments_lexer": "ipython3",
   "version": "3.12.4"
  }
 },
 "nbformat": 4,
 "nbformat_minor": 5
}
