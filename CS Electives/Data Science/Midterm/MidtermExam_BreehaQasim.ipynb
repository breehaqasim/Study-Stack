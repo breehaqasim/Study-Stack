{
 "cells": [
  {
   "cell_type": "markdown",
   "id": "871bffa4",
   "metadata": {},
   "source": [
    "### Name: Breeha Qasim\n",
    "### ID: 08283"
   ]
  },
  {
   "cell_type": "markdown",
   "id": "412a33f0",
   "metadata": {
    "tags": []
   },
   "source": [
    "# movies-1.csv and movies-2.csv"
   ]
  },
  {
   "cell_type": "markdown",
   "id": "0a156bc2",
   "metadata": {},
   "source": [
    "Import libraries here"
   ]
  },
  {
   "cell_type": "code",
   "execution_count": 286,
   "id": "b9c72501",
   "metadata": {},
   "outputs": [],
   "source": [
    "import pandas as pd\n",
    "import numpy as np"
   ]
  },
  {
   "cell_type": "code",
   "execution_count": 288,
   "id": "0831e314",
   "metadata": {},
   "outputs": [],
   "source": [
    "import matplotlib.pyplot as plt"
   ]
  },
  {
   "cell_type": "code",
   "execution_count": 290,
   "id": "97426a06",
   "metadata": {},
   "outputs": [],
   "source": [
    "import seaborn as sns\n",
    "from scipy.stats import ttest_ind\n",
    "from scipy.stats import chi2_contingency"
   ]
  },
  {
   "cell_type": "markdown",
   "id": "176efe30",
   "metadata": {},
   "source": [
    "Read datasets here"
   ]
  },
  {
   "cell_type": "code",
   "execution_count": 293,
   "id": "7633f30f",
   "metadata": {},
   "outputs": [],
   "source": [
    "data = pd.read_csv('movies-1.csv')"
   ]
  },
  {
   "cell_type": "code",
   "execution_count": 295,
   "id": "9c8ec676",
   "metadata": {},
   "outputs": [],
   "source": [
    "data2 = pd.read_csv('movies-2.csv')"
   ]
  },
  {
   "cell_type": "code",
   "execution_count": 297,
   "id": "9e6ead80",
   "metadata": {},
   "outputs": [],
   "source": [
    "# data\n",
    "# data2"
   ]
  },
  {
   "cell_type": "markdown",
   "id": "7faa000b",
   "metadata": {},
   "source": [
    "Q1. Join datasets to include all the columns in both datasets (Hint: Find the common column to merge these datasets) <br>\n",
    "Display few records after joining. **(no explanation needed)**"
   ]
  },
  {
   "cell_type": "code",
   "execution_count": 300,
   "id": "891ae221",
   "metadata": {},
   "outputs": [],
   "source": [
    "merged_movies = pd.merge(data, data2, on='show_id')"
   ]
  },
  {
   "cell_type": "code",
   "execution_count": 302,
   "id": "c432c59c",
   "metadata": {},
   "outputs": [
    {
     "data": {
      "text/html": [
       "<div>\n",
       "<style scoped>\n",
       "    .dataframe tbody tr th:only-of-type {\n",
       "        vertical-align: middle;\n",
       "    }\n",
       "\n",
       "    .dataframe tbody tr th {\n",
       "        vertical-align: top;\n",
       "    }\n",
       "\n",
       "    .dataframe thead th {\n",
       "        text-align: right;\n",
       "    }\n",
       "</style>\n",
       "<table border=\"1\" class=\"dataframe\">\n",
       "  <thead>\n",
       "    <tr style=\"text-align: right;\">\n",
       "      <th></th>\n",
       "      <th>show_id</th>\n",
       "      <th>type</th>\n",
       "      <th>title</th>\n",
       "      <th>director</th>\n",
       "      <th>cast</th>\n",
       "      <th>country</th>\n",
       "      <th>date_added</th>\n",
       "      <th>release_year</th>\n",
       "      <th>description</th>\n",
       "      <th>rating</th>\n",
       "      <th>duration</th>\n",
       "      <th>listed_in</th>\n",
       "      <th>score</th>\n",
       "      <th>votes</th>\n",
       "      <th>popularity</th>\n",
       "    </tr>\n",
       "  </thead>\n",
       "  <tbody>\n",
       "    <tr>\n",
       "      <th>0</th>\n",
       "      <td>s1</td>\n",
       "      <td>Movie</td>\n",
       "      <td>Dick Johnson Is Dead</td>\n",
       "      <td>Kirsten Johnson</td>\n",
       "      <td>NaN</td>\n",
       "      <td>United States</td>\n",
       "      <td>25-Sep-21</td>\n",
       "      <td>2020</td>\n",
       "      <td>As her father nears the end of his life, filmm...</td>\n",
       "      <td>PG-13</td>\n",
       "      <td>90 min</td>\n",
       "      <td>Documentaries</td>\n",
       "      <td>7.4</td>\n",
       "      <td>6636</td>\n",
       "      <td>7.2</td>\n",
       "    </tr>\n",
       "    <tr>\n",
       "      <th>1</th>\n",
       "      <td>s2</td>\n",
       "      <td>TV Show</td>\n",
       "      <td>Blood &amp; Water</td>\n",
       "      <td>NaN</td>\n",
       "      <td>Ama Qamata, Khosi Ngema, Gail Mabalane, Thaban...</td>\n",
       "      <td>South Africa</td>\n",
       "      <td>24-Sep-21</td>\n",
       "      <td>2021</td>\n",
       "      <td>After crossing paths at a party, a Cape Town t...</td>\n",
       "      <td>TV-MA</td>\n",
       "      <td>2 Seasons</td>\n",
       "      <td>International TV Shows, TV Dramas, TV Mysteries</td>\n",
       "      <td>6.6</td>\n",
       "      <td>3180</td>\n",
       "      <td>6.3</td>\n",
       "    </tr>\n",
       "    <tr>\n",
       "      <th>2</th>\n",
       "      <td>s3</td>\n",
       "      <td>TV Show</td>\n",
       "      <td>Ganglands</td>\n",
       "      <td>Julien Leclercq</td>\n",
       "      <td>Sami Bouajila, Tracy Gotoas, Samuel Jouy, Nabi...</td>\n",
       "      <td>NaN</td>\n",
       "      <td>24-Sep-21</td>\n",
       "      <td>2021</td>\n",
       "      <td>To protect his family from a powerful drug lor...</td>\n",
       "      <td>TV-MA</td>\n",
       "      <td>1 Season</td>\n",
       "      <td>Crime TV Shows, International TV Shows, TV Act...</td>\n",
       "      <td>7.0</td>\n",
       "      <td>2640</td>\n",
       "      <td>6.9</td>\n",
       "    </tr>\n",
       "    <tr>\n",
       "      <th>3</th>\n",
       "      <td>s4</td>\n",
       "      <td>TV Show</td>\n",
       "      <td>Jailbirds New Orleans</td>\n",
       "      <td>NaN</td>\n",
       "      <td>NaN</td>\n",
       "      <td>NaN</td>\n",
       "      <td>24-Sep-21</td>\n",
       "      <td>2021</td>\n",
       "      <td>Feuds, flirtations and toilet talk go down amo...</td>\n",
       "      <td>TV-MA</td>\n",
       "      <td>1 Season</td>\n",
       "      <td>Docuseries, Reality TV</td>\n",
       "      <td>6.7</td>\n",
       "      <td>229</td>\n",
       "      <td>7.0</td>\n",
       "    </tr>\n",
       "    <tr>\n",
       "      <th>4</th>\n",
       "      <td>s5</td>\n",
       "      <td>TV Show</td>\n",
       "      <td>Kota Factory</td>\n",
       "      <td>NaN</td>\n",
       "      <td>Mayur More, Jitendra Kumar, Ranjan Raj, Alam K...</td>\n",
       "      <td>India</td>\n",
       "      <td>24-Sep-21</td>\n",
       "      <td>2021</td>\n",
       "      <td>In a city of coaching centers known to train I...</td>\n",
       "      <td>TV-MA</td>\n",
       "      <td>2 Seasons</td>\n",
       "      <td>International TV Shows, Romantic TV Shows, TV ...</td>\n",
       "      <td>9.1</td>\n",
       "      <td>71138</td>\n",
       "      <td>9.4</td>\n",
       "    </tr>\n",
       "  </tbody>\n",
       "</table>\n",
       "</div>"
      ],
      "text/plain": [
       "  show_id     type                  title         director  \\\n",
       "0      s1    Movie   Dick Johnson Is Dead  Kirsten Johnson   \n",
       "1      s2  TV Show          Blood & Water              NaN   \n",
       "2      s3  TV Show              Ganglands  Julien Leclercq   \n",
       "3      s4  TV Show  Jailbirds New Orleans              NaN   \n",
       "4      s5  TV Show           Kota Factory              NaN   \n",
       "\n",
       "                                                cast        country  \\\n",
       "0                                                NaN  United States   \n",
       "1  Ama Qamata, Khosi Ngema, Gail Mabalane, Thaban...   South Africa   \n",
       "2  Sami Bouajila, Tracy Gotoas, Samuel Jouy, Nabi...            NaN   \n",
       "3                                                NaN            NaN   \n",
       "4  Mayur More, Jitendra Kumar, Ranjan Raj, Alam K...          India   \n",
       "\n",
       "  date_added  release_year                                        description  \\\n",
       "0  25-Sep-21          2020  As her father nears the end of his life, filmm...   \n",
       "1  24-Sep-21          2021  After crossing paths at a party, a Cape Town t...   \n",
       "2  24-Sep-21          2021  To protect his family from a powerful drug lor...   \n",
       "3  24-Sep-21          2021  Feuds, flirtations and toilet talk go down amo...   \n",
       "4  24-Sep-21          2021  In a city of coaching centers known to train I...   \n",
       "\n",
       "  rating   duration                                          listed_in  score  \\\n",
       "0  PG-13     90 min                                      Documentaries    7.4   \n",
       "1  TV-MA  2 Seasons    International TV Shows, TV Dramas, TV Mysteries    6.6   \n",
       "2  TV-MA   1 Season  Crime TV Shows, International TV Shows, TV Act...    7.0   \n",
       "3  TV-MA   1 Season                             Docuseries, Reality TV    6.7   \n",
       "4  TV-MA  2 Seasons  International TV Shows, Romantic TV Shows, TV ...    9.1   \n",
       "\n",
       "   votes  popularity  \n",
       "0   6636         7.2  \n",
       "1   3180         6.3  \n",
       "2   2640         6.9  \n",
       "3    229         7.0  \n",
       "4  71138         9.4  "
      ]
     },
     "execution_count": 302,
     "metadata": {},
     "output_type": "execute_result"
    }
   ],
   "source": [
    "merged_movies.head()"
   ]
  },
  {
   "cell_type": "code",
   "execution_count": null,
   "id": "119b2ed9",
   "metadata": {},
   "outputs": [],
   "source": []
  },
  {
   "cell_type": "markdown",
   "id": "6fdf0e9f",
   "metadata": {},
   "source": [
    "Q2. Display the number of rows/columns and data types of each column **(no explanation needed)**"
   ]
  },
  {
   "cell_type": "code",
   "execution_count": 306,
   "id": "1ca1d081",
   "metadata": {},
   "outputs": [
    {
     "name": "stdout",
     "output_type": "stream",
     "text": [
      "Number of rows: 8810\n"
     ]
    }
   ],
   "source": [
    "print(\"Number of rows:\", merged_movies.shape[0])"
   ]
  },
  {
   "cell_type": "code",
   "execution_count": 308,
   "id": "24a5f299",
   "metadata": {},
   "outputs": [
    {
     "name": "stdout",
     "output_type": "stream",
     "text": [
      "Number of columns: 15\n"
     ]
    }
   ],
   "source": [
    "print(\"Number of columns:\", merged_movies.shape[1])"
   ]
  },
  {
   "cell_type": "code",
   "execution_count": 310,
   "id": "b5c67bd5",
   "metadata": {},
   "outputs": [
    {
     "name": "stdout",
     "output_type": "stream",
     "text": [
      "Data Types of Each Column\n",
      "\n",
      " show_id          object\n",
      "type             object\n",
      "title            object\n",
      "director         object\n",
      "cast             object\n",
      "country          object\n",
      "date_added       object\n",
      "release_year      int64\n",
      "description      object\n",
      "rating           object\n",
      "duration         object\n",
      "listed_in        object\n",
      "score           float64\n",
      "votes             int64\n",
      "popularity      float64\n",
      "dtype: object\n"
     ]
    }
   ],
   "source": [
    "print(\"Data Types of Each Column\\n\\n\", merged_movies.dtypes)"
   ]
  },
  {
   "cell_type": "markdown",
   "id": "06c8eaaa",
   "metadata": {},
   "source": [
    "Q3. Find and display if there are duplicates in the dataset. If yes, then in the next step, remove the duplicates and display the number of rows/columns again. **(no explanation needed)**"
   ]
  },
  {
   "cell_type": "code",
   "execution_count": 313,
   "id": "a750f9fe",
   "metadata": {},
   "outputs": [
    {
     "name": "stdout",
     "output_type": "stream",
     "text": [
      "Duplicates have been dropped.\n"
     ]
    }
   ],
   "source": [
    "duplicates = merged_movies.duplicated().any()\n",
    "\n",
    "if duplicates:\n",
    "    merged_movies = merged_movies.drop_duplicates()\n",
    "    print(\"Duplicates have been dropped.\")\n",
    "else:\n",
    "    print(\"There are no duplicates found\")"
   ]
  },
  {
   "cell_type": "code",
   "execution_count": 315,
   "id": "14430982",
   "metadata": {},
   "outputs": [
    {
     "name": "stdout",
     "output_type": "stream",
     "text": [
      "Number of rows: 8807\n"
     ]
    }
   ],
   "source": [
    "print(\"Number of rows:\", merged_movies.shape[0])"
   ]
  },
  {
   "cell_type": "code",
   "execution_count": 317,
   "id": "02624e37",
   "metadata": {},
   "outputs": [
    {
     "name": "stdout",
     "output_type": "stream",
     "text": [
      "Number of columns: 15\n"
     ]
    }
   ],
   "source": [
    "print(\"Number of columns:\", merged_movies.shape[1])"
   ]
  },
  {
   "cell_type": "markdown",
   "id": "e61bb12a",
   "metadata": {},
   "source": [
    "Q4. Find all the columns with missing values by displaying the total number of missing records for each column.**(no explanation needed)**"
   ]
  },
  {
   "cell_type": "code",
   "execution_count": 320,
   "id": "6dc7b68e",
   "metadata": {},
   "outputs": [
    {
     "data": {
      "text/plain": [
       "show_id            0\n",
       "type               0\n",
       "title              0\n",
       "director        2634\n",
       "cast             825\n",
       "country          831\n",
       "date_added        10\n",
       "release_year       0\n",
       "description        0\n",
       "rating             4\n",
       "duration           3\n",
       "listed_in          0\n",
       "score              0\n",
       "votes              0\n",
       "popularity         0\n",
       "dtype: int64"
      ]
     },
     "execution_count": 320,
     "metadata": {},
     "output_type": "execute_result"
    }
   ],
   "source": [
    "merged_movies.isnull().sum()"
   ]
  },
  {
   "cell_type": "markdown",
   "id": "83b1e685",
   "metadata": {},
   "source": [
    "Q5. If there are missing values in any column, replace it with value \"Unknown\" (except duration column). <br>\n",
    "Replace \"duration\" column missing values with \"0 mins\". <br>\n",
    "Display the total number of missing values again to show that there are no missing values exist. **(no explanation needed)**"
   ]
  },
  {
   "cell_type": "code",
   "execution_count": 323,
   "id": "912ce656",
   "metadata": {},
   "outputs": [],
   "source": [
    "merged_movies['director'] = merged_movies['director'].fillna('Unknown')\n",
    "merged_movies['cast'] = merged_movies['cast'].fillna('Unknown')\n",
    "merged_movies['country'] = merged_movies['country'].fillna('Unknown')\n",
    "merged_movies['date_added'] = merged_movies['date_added'].fillna('Unknown')\n",
    "merged_movies['rating'] = merged_movies['rating'].fillna('Unknown')"
   ]
  },
  {
   "cell_type": "code",
   "execution_count": 325,
   "id": "06ed050b",
   "metadata": {},
   "outputs": [],
   "source": [
    "merged_movies['duration'] = merged_movies['duration'].fillna('0 mins')"
   ]
  },
  {
   "cell_type": "code",
   "execution_count": 327,
   "id": "c03d545c",
   "metadata": {},
   "outputs": [
    {
     "data": {
      "text/plain": [
       "show_id         0\n",
       "type            0\n",
       "title           0\n",
       "director        0\n",
       "cast            0\n",
       "country         0\n",
       "date_added      0\n",
       "release_year    0\n",
       "description     0\n",
       "rating          0\n",
       "duration        0\n",
       "listed_in       0\n",
       "score           0\n",
       "votes           0\n",
       "popularity      0\n",
       "dtype: int64"
      ]
     },
     "execution_count": 327,
     "metadata": {},
     "output_type": "execute_result"
    }
   ],
   "source": [
    "merged_movies.isnull().sum()"
   ]
  },
  {
   "cell_type": "markdown",
   "id": "a532f704",
   "metadata": {},
   "source": [
    "Q6. Count the number of records for each rating. Do you see any issues in rating values? **Please discuss/explain your findings**"
   ]
  },
  {
   "cell_type": "code",
   "execution_count": 330,
   "id": "19cde022",
   "metadata": {},
   "outputs": [
    {
     "data": {
      "text/plain": [
       "rating\n",
       "TV-MA       3207\n",
       "TV-14       2160\n",
       "TV-PG        863\n",
       "R            799\n",
       "PG-13        490\n",
       "TV-Y7        334\n",
       "TV-Y         307\n",
       "PG           287\n",
       "TV-G         220\n",
       "NR            80\n",
       "G             41\n",
       "Unknown        7\n",
       "TV-Y7-FV       6\n",
       "NC-17          3\n",
       "UR             3\n",
       "Name: count, dtype: int64"
      ]
     },
     "execution_count": 330,
     "metadata": {},
     "output_type": "execute_result"
    }
   ],
   "source": [
    "#since there are some ratings where there is 'min' present we need to filter those out\n",
    "def is_duration_min(rating):\n",
    "    return 'min' in str(rating)\n",
    "    \n",
    "misclassified = merged_movies['rating'].apply(is_duration_min)\n",
    "merged_movies.loc[misclassified, 'duration'] = merged_movies.loc[misclassified, 'rating']\n",
    "merged_movies.loc[misclassified, 'rating'] = 'Unknown'\n",
    "rating_counts = merged_movies['rating'].value_counts()\n",
    "rating_counts"
   ]
  },
  {
   "cell_type": "markdown",
   "id": "bf5088d4-3ae9-4c8e-8192-d79b86f4ccf7",
   "metadata": {},
   "source": [
    "Explanation: With 3207 occurrences, TV-MA is the most common rating, suggesting that a significant amount of the content is meant for older viewers and may include strong language, graphic violence, or adult-only content. With 2160 occurences, TV-14 recommends television that might involve mature themes aimed at teenagers and young adults, making it inappropriate for children under the age of 14. The 863 TV-PG rated titles show that there is content that is appropriate for family viewing but still requires parental direction."
   ]
  },
  {
   "cell_type": "markdown",
   "id": "735112b5",
   "metadata": {},
   "source": [
    "Q7. Find the percentage of records released in 2018. (Hint: use column **release_year**) **(no explanation needed)**"
   ]
  },
  {
   "cell_type": "code",
   "execution_count": 334,
   "id": "b624fa55",
   "metadata": {},
   "outputs": [],
   "source": [
    "total_records = len(merged_movies)\n",
    "records_in_2018 = len(merged_movies[merged_movies['release_year'] == 2018])"
   ]
  },
  {
   "cell_type": "code",
   "execution_count": 336,
   "id": "c8856821",
   "metadata": {},
   "outputs": [],
   "source": [
    "percentage_2018 = (records_in_2018 / total_records) * 100"
   ]
  },
  {
   "cell_type": "code",
   "execution_count": 338,
   "id": "24304bad",
   "metadata": {},
   "outputs": [
    {
     "data": {
      "text/plain": [
       "13.023731122970364"
      ]
     },
     "execution_count": 338,
     "metadata": {},
     "output_type": "execute_result"
    }
   ],
   "source": [
    "percentage_2018"
   ]
  },
  {
   "cell_type": "markdown",
   "id": "ee6cf83c",
   "metadata": {},
   "source": [
    "Q8. Split the **\"duration\"** column and create two new columns **\"minutes\"** and **\"unit\"** based on the duration value. Display few results. **(no explanation needed)**"
   ]
  },
  {
   "cell_type": "code",
   "execution_count": 341,
   "id": "d6917529",
   "metadata": {},
   "outputs": [],
   "source": [
    "merged_movies[['minutes', 'unit']] = merged_movies['duration'].str.split(' ', expand=True)"
   ]
  },
  {
   "cell_type": "code",
   "execution_count": 343,
   "id": "e680150c",
   "metadata": {},
   "outputs": [
    {
     "data": {
      "text/html": [
       "<div>\n",
       "<style scoped>\n",
       "    .dataframe tbody tr th:only-of-type {\n",
       "        vertical-align: middle;\n",
       "    }\n",
       "\n",
       "    .dataframe tbody tr th {\n",
       "        vertical-align: top;\n",
       "    }\n",
       "\n",
       "    .dataframe thead th {\n",
       "        text-align: right;\n",
       "    }\n",
       "</style>\n",
       "<table border=\"1\" class=\"dataframe\">\n",
       "  <thead>\n",
       "    <tr style=\"text-align: right;\">\n",
       "      <th></th>\n",
       "      <th>minutes</th>\n",
       "      <th>unit</th>\n",
       "    </tr>\n",
       "  </thead>\n",
       "  <tbody>\n",
       "    <tr>\n",
       "      <th>0</th>\n",
       "      <td>90</td>\n",
       "      <td>min</td>\n",
       "    </tr>\n",
       "    <tr>\n",
       "      <th>1</th>\n",
       "      <td>2</td>\n",
       "      <td>Seasons</td>\n",
       "    </tr>\n",
       "    <tr>\n",
       "      <th>2</th>\n",
       "      <td>1</td>\n",
       "      <td>Season</td>\n",
       "    </tr>\n",
       "    <tr>\n",
       "      <th>3</th>\n",
       "      <td>1</td>\n",
       "      <td>Season</td>\n",
       "    </tr>\n",
       "    <tr>\n",
       "      <th>4</th>\n",
       "      <td>2</td>\n",
       "      <td>Seasons</td>\n",
       "    </tr>\n",
       "  </tbody>\n",
       "</table>\n",
       "</div>"
      ],
      "text/plain": [
       "  minutes     unit\n",
       "0      90      min\n",
       "1       2  Seasons\n",
       "2       1   Season\n",
       "3       1   Season\n",
       "4       2  Seasons"
      ]
     },
     "execution_count": 343,
     "metadata": {},
     "output_type": "execute_result"
    }
   ],
   "source": [
    "merged_movies[['minutes', 'unit']].head()"
   ]
  },
  {
   "cell_type": "markdown",
   "id": "bf6d5573",
   "metadata": {},
   "source": [
    "Q9. Find the maximum duration in column **\"minutes\"** (Hint: check for the data type for column \"minute\" column and convert accordingly). **(no explanation needed)**"
   ]
  },
  {
   "cell_type": "code",
   "execution_count": 346,
   "id": "c8dc0b9b",
   "metadata": {},
   "outputs": [],
   "source": [
    "merged_movies['minutes'] = pd.to_numeric(merged_movies['minutes'], errors='coerce')"
   ]
  },
  {
   "cell_type": "code",
   "execution_count": 348,
   "id": "3b663fa8",
   "metadata": {},
   "outputs": [],
   "source": [
    "max_duration = merged_movies['minutes'].max()"
   ]
  },
  {
   "cell_type": "code",
   "execution_count": 350,
   "id": "efcf94b2",
   "metadata": {},
   "outputs": [
    {
     "data": {
      "text/plain": [
       "312"
      ]
     },
     "execution_count": 350,
     "metadata": {},
     "output_type": "execute_result"
    }
   ],
   "source": [
    "max_duration"
   ]
  },
  {
   "cell_type": "markdown",
   "id": "ec3f2548",
   "metadata": {},
   "source": [
    "Q10. Find all the records which have minutes greater than 200. Display the records and report the total number of records. **(no explanation needed)**"
   ]
  },
  {
   "cell_type": "code",
   "execution_count": 353,
   "id": "87585466",
   "metadata": {},
   "outputs": [],
   "source": [
    "min_gt200 = merged_movies[merged_movies['minutes'] > 200]"
   ]
  },
  {
   "cell_type": "code",
   "execution_count": 355,
   "id": "35cbb10e",
   "metadata": {},
   "outputs": [
    {
     "data": {
      "text/html": [
       "<div>\n",
       "<style scoped>\n",
       "    .dataframe tbody tr th:only-of-type {\n",
       "        vertical-align: middle;\n",
       "    }\n",
       "\n",
       "    .dataframe tbody tr th {\n",
       "        vertical-align: top;\n",
       "    }\n",
       "\n",
       "    .dataframe thead th {\n",
       "        text-align: right;\n",
       "    }\n",
       "</style>\n",
       "<table border=\"1\" class=\"dataframe\">\n",
       "  <thead>\n",
       "    <tr style=\"text-align: right;\">\n",
       "      <th></th>\n",
       "      <th>show_id</th>\n",
       "      <th>type</th>\n",
       "      <th>title</th>\n",
       "      <th>director</th>\n",
       "      <th>cast</th>\n",
       "      <th>country</th>\n",
       "      <th>date_added</th>\n",
       "      <th>release_year</th>\n",
       "      <th>description</th>\n",
       "      <th>rating</th>\n",
       "      <th>duration</th>\n",
       "      <th>listed_in</th>\n",
       "      <th>score</th>\n",
       "      <th>votes</th>\n",
       "      <th>popularity</th>\n",
       "      <th>minutes</th>\n",
       "      <th>unit</th>\n",
       "    </tr>\n",
       "  </thead>\n",
       "  <tbody>\n",
       "    <tr>\n",
       "      <th>166</th>\n",
       "      <td>s167</td>\n",
       "      <td>Movie</td>\n",
       "      <td>Once Upon a Time in America</td>\n",
       "      <td>Sergio Leone</td>\n",
       "      <td>Robert De Niro, James Woods, Elizabeth McGover...</td>\n",
       "      <td>Italy, United States</td>\n",
       "      <td>1-Sep-21</td>\n",
       "      <td>1984</td>\n",
       "      <td>Director Sergio Leone's sprawling crime epic f...</td>\n",
       "      <td>R</td>\n",
       "      <td>229 min</td>\n",
       "      <td>Classic Movies, Dramas</td>\n",
       "      <td>4.2</td>\n",
       "      <td>22120</td>\n",
       "      <td>4.4</td>\n",
       "      <td>229</td>\n",
       "      <td>min</td>\n",
       "    </tr>\n",
       "    <tr>\n",
       "      <th>717</th>\n",
       "      <td>s718</td>\n",
       "      <td>Movie</td>\n",
       "      <td>Headspace: Unwind Your Mind</td>\n",
       "      <td>Unknown</td>\n",
       "      <td>Andy Puddicombe, Evelyn Lewis Prieto, Ginger D...</td>\n",
       "      <td>Unknown</td>\n",
       "      <td>15-Jun-21</td>\n",
       "      <td>2021</td>\n",
       "      <td>Do you want to relax, meditate or sleep deeply...</td>\n",
       "      <td>TV-G</td>\n",
       "      <td>273 min</td>\n",
       "      <td>Documentaries</td>\n",
       "      <td>7.1</td>\n",
       "      <td>155</td>\n",
       "      <td>7.3</td>\n",
       "      <td>273</td>\n",
       "      <td>min</td>\n",
       "    </tr>\n",
       "    <tr>\n",
       "      <th>806</th>\n",
       "      <td>s807</td>\n",
       "      <td>Movie</td>\n",
       "      <td>Seven Souls in the Skull Castle: Season Moon J...</td>\n",
       "      <td>Hidenori Inoue</td>\n",
       "      <td>Sota Fukushi, Taichi Saotome, Shohei Miura, Ke...</td>\n",
       "      <td>Unknown</td>\n",
       "      <td>2-Jun-21</td>\n",
       "      <td>2017</td>\n",
       "      <td>Japan, 1590. Wandering samurai band together t...</td>\n",
       "      <td>TV-14</td>\n",
       "      <td>204 min</td>\n",
       "      <td>Action &amp; Adventure, Dramas, International Movies</td>\n",
       "      <td>6.1</td>\n",
       "      <td>22579</td>\n",
       "      <td>5.9</td>\n",
       "      <td>204</td>\n",
       "      <td>min</td>\n",
       "    </tr>\n",
       "    <tr>\n",
       "      <th>807</th>\n",
       "      <td>s808</td>\n",
       "      <td>Movie</td>\n",
       "      <td>Seven Souls in the Skull Castle: Season Moon K...</td>\n",
       "      <td>Hidenori Inoue</td>\n",
       "      <td>Mamoru Miyano, Hiroki Suzuki, Tomoki Hirose, R...</td>\n",
       "      <td>Unknown</td>\n",
       "      <td>2-Jun-21</td>\n",
       "      <td>2017</td>\n",
       "      <td>Japan, 1590. Wandering samurai band together t...</td>\n",
       "      <td>TV-PG</td>\n",
       "      <td>212 min</td>\n",
       "      <td>Action &amp; Adventure, Dramas, International Movies</td>\n",
       "      <td>6.8</td>\n",
       "      <td>13945</td>\n",
       "      <td>6.9</td>\n",
       "      <td>212</td>\n",
       "      <td>min</td>\n",
       "    </tr>\n",
       "    <tr>\n",
       "      <th>1019</th>\n",
       "      <td>s1020</td>\n",
       "      <td>Movie</td>\n",
       "      <td>Lagaan</td>\n",
       "      <td>Ashutosh Gowariker</td>\n",
       "      <td>Aamir Khan, Gracy Singh, Rachel Shelley, Paul ...</td>\n",
       "      <td>India, United Kingdom</td>\n",
       "      <td>17-Apr-21</td>\n",
       "      <td>2001</td>\n",
       "      <td>In 1890s India, an arrogant British commander ...</td>\n",
       "      <td>PG</td>\n",
       "      <td>224 min</td>\n",
       "      <td>Dramas, International Movies, Music &amp; Musicals</td>\n",
       "      <td>6.7</td>\n",
       "      <td>14523</td>\n",
       "      <td>6.9</td>\n",
       "      <td>224</td>\n",
       "      <td>min</td>\n",
       "    </tr>\n",
       "  </tbody>\n",
       "</table>\n",
       "</div>"
      ],
      "text/plain": [
       "     show_id   type                                              title  \\\n",
       "166     s167  Movie                        Once Upon a Time in America   \n",
       "717     s718  Movie                        Headspace: Unwind Your Mind   \n",
       "806     s807  Movie  Seven Souls in the Skull Castle: Season Moon J...   \n",
       "807     s808  Movie  Seven Souls in the Skull Castle: Season Moon K...   \n",
       "1019   s1020  Movie                                             Lagaan   \n",
       "\n",
       "                director                                               cast  \\\n",
       "166         Sergio Leone  Robert De Niro, James Woods, Elizabeth McGover...   \n",
       "717              Unknown  Andy Puddicombe, Evelyn Lewis Prieto, Ginger D...   \n",
       "806       Hidenori Inoue  Sota Fukushi, Taichi Saotome, Shohei Miura, Ke...   \n",
       "807       Hidenori Inoue  Mamoru Miyano, Hiroki Suzuki, Tomoki Hirose, R...   \n",
       "1019  Ashutosh Gowariker  Aamir Khan, Gracy Singh, Rachel Shelley, Paul ...   \n",
       "\n",
       "                    country date_added  release_year  \\\n",
       "166    Italy, United States   1-Sep-21          1984   \n",
       "717                 Unknown  15-Jun-21          2021   \n",
       "806                 Unknown   2-Jun-21          2017   \n",
       "807                 Unknown   2-Jun-21          2017   \n",
       "1019  India, United Kingdom  17-Apr-21          2001   \n",
       "\n",
       "                                            description rating duration  \\\n",
       "166   Director Sergio Leone's sprawling crime epic f...      R  229 min   \n",
       "717   Do you want to relax, meditate or sleep deeply...   TV-G  273 min   \n",
       "806   Japan, 1590. Wandering samurai band together t...  TV-14  204 min   \n",
       "807   Japan, 1590. Wandering samurai band together t...  TV-PG  212 min   \n",
       "1019  In 1890s India, an arrogant British commander ...     PG  224 min   \n",
       "\n",
       "                                             listed_in  score  votes  \\\n",
       "166                             Classic Movies, Dramas    4.2  22120   \n",
       "717                                      Documentaries    7.1    155   \n",
       "806   Action & Adventure, Dramas, International Movies    6.1  22579   \n",
       "807   Action & Adventure, Dramas, International Movies    6.8  13945   \n",
       "1019    Dramas, International Movies, Music & Musicals    6.7  14523   \n",
       "\n",
       "      popularity  minutes unit  \n",
       "166          4.4      229  min  \n",
       "717          7.3      273  min  \n",
       "806          5.9      204  min  \n",
       "807          6.9      212  min  \n",
       "1019         6.9      224  min  "
      ]
     },
     "execution_count": 355,
     "metadata": {},
     "output_type": "execute_result"
    }
   ],
   "source": [
    "min_gt200.head()  "
   ]
  },
  {
   "cell_type": "code",
   "execution_count": 357,
   "id": "28a563c6",
   "metadata": {},
   "outputs": [
    {
     "data": {
      "text/plain": [
       "19"
      ]
     },
     "execution_count": 357,
     "metadata": {},
     "output_type": "execute_result"
    }
   ],
   "source": [
    "min_gt200.shape[0]"
   ]
  },
  {
   "cell_type": "markdown",
   "id": "e7f1005a",
   "metadata": {},
   "source": [
    "Q11. What is the Average (mean) minutes of records whose **type** is **Movie**? Display the average **(no explanation needed)**"
   ]
  },
  {
   "cell_type": "code",
   "execution_count": 360,
   "id": "4069d8a8",
   "metadata": {},
   "outputs": [],
   "source": [
    "average_mean_movies = merged_movies[merged_movies['type'] == 'Movie']['minutes'].mean()"
   ]
  },
  {
   "cell_type": "code",
   "execution_count": 362,
   "id": "1d0a8d25",
   "metadata": {},
   "outputs": [
    {
     "data": {
      "text/plain": [
       "99.56499755341706"
      ]
     },
     "execution_count": 362,
     "metadata": {},
     "output_type": "execute_result"
    }
   ],
   "source": [
    "average_mean_movies"
   ]
  },
  {
   "cell_type": "markdown",
   "id": "c22e4fb6",
   "metadata": {},
   "source": [
    "Q12. Which individual country has the Highest number of type TV Shows? Display the output **(no explanation needed)**"
   ]
  },
  {
   "cell_type": "code",
   "execution_count": 365,
   "id": "f7dc552c",
   "metadata": {},
   "outputs": [],
   "source": [
    "highest_tv_show = merged_movies[merged_movies['type'] == 'TV Show']['country'].value_counts().idxmax()"
   ]
  },
  {
   "cell_type": "code",
   "execution_count": 367,
   "id": "0402133a",
   "metadata": {},
   "outputs": [
    {
     "data": {
      "text/plain": [
       "'United States'"
      ]
     },
     "execution_count": 367,
     "metadata": {},
     "output_type": "execute_result"
    }
   ],
   "source": [
    "highest_tv_show"
   ]
  },
  {
   "cell_type": "markdown",
   "id": "f65f3b6f",
   "metadata": {},
   "source": [
    "Q13. For movie **title** '3 Idiots', what is the Show Id and Who is the Director of this show ? Display the output **(no explanation needed)**"
   ]
  },
  {
   "cell_type": "code",
   "execution_count": 370,
   "id": "8197fccf",
   "metadata": {},
   "outputs": [],
   "source": [
    "three_idiots_info = merged_movies[merged_movies['title'] == '3 Idiots'][['show_id', 'director']]"
   ]
  },
  {
   "cell_type": "code",
   "execution_count": 372,
   "id": "5dc18bd6",
   "metadata": {},
   "outputs": [
    {
     "data": {
      "text/html": [
       "<div>\n",
       "<style scoped>\n",
       "    .dataframe tbody tr th:only-of-type {\n",
       "        vertical-align: middle;\n",
       "    }\n",
       "\n",
       "    .dataframe tbody tr th {\n",
       "        vertical-align: top;\n",
       "    }\n",
       "\n",
       "    .dataframe thead th {\n",
       "        text-align: right;\n",
       "    }\n",
       "</style>\n",
       "<table border=\"1\" class=\"dataframe\">\n",
       "  <thead>\n",
       "    <tr style=\"text-align: right;\">\n",
       "      <th></th>\n",
       "      <th>show_id</th>\n",
       "      <th>director</th>\n",
       "    </tr>\n",
       "  </thead>\n",
       "  <tbody>\n",
       "    <tr>\n",
       "      <th>1114</th>\n",
       "      <td>s1115</td>\n",
       "      <td>Rajkumar Hirani</td>\n",
       "    </tr>\n",
       "  </tbody>\n",
       "</table>\n",
       "</div>"
      ],
      "text/plain": [
       "     show_id         director\n",
       "1114   s1115  Rajkumar Hirani"
      ]
     },
     "execution_count": 372,
     "metadata": {},
     "output_type": "execute_result"
    }
   ],
   "source": [
    "three_idiots_info"
   ]
  },
  {
   "cell_type": "markdown",
   "id": "9468bea1",
   "metadata": {},
   "source": [
    "Q14. Using Bar Graph, display the total number of movies released each year. Display only top 10 in descending order. (both types in column  **type**)<br>\n",
    "In your bar graph, which year the highest number of the movies were released?"
   ]
  },
  {
   "cell_type": "code",
   "execution_count": 375,
   "id": "1c861134",
   "metadata": {},
   "outputs": [],
   "source": [
    "movies_data = merged_movies[merged_movies['type'] == 'Movie']"
   ]
  },
  {
   "cell_type": "code",
   "execution_count": 377,
   "id": "c2f86e8d",
   "metadata": {},
   "outputs": [],
   "source": [
    "movies_per_year = movies_data['release_year'].value_counts().head(10).sort_index(ascending=False)"
   ]
  },
  {
   "cell_type": "code",
   "execution_count": 379,
   "id": "8ecc7b8a",
   "metadata": {},
   "outputs": [
    {
     "data": {
      "image/png": "[encoded data removed]",
      "text/plain": [
       "<Figure size 1000x600 with 1 Axes>"
      ]
     },
     "metadata": {},
     "output_type": "display_data"
    }
   ],
   "source": [
    "plt.figure(figsize=(10, 6))\n",
    "movies_per_year.sort_values().plot(kind='bar', color='pink')\n",
    "plt.title('Top 10 Years with the Most Movies Released')\n",
    "plt.xlabel('Year')\n",
    "plt.ylabel('Number of Movies Released')\n",
    "plt.xticks(rotation=90)\n",
    "plt.show()"
   ]
  },
  {
   "cell_type": "markdown",
   "id": "3726f68a-927d-493d-8829-ba618abcdf3b",
   "metadata": {},
   "source": [
    "In 2018 and 2017 highest movies were released"
   ]
  },
  {
   "cell_type": "markdown",
   "id": "22bc8a0b",
   "metadata": {},
   "source": [
    "Q15. Display Top 5 Directors, who directed the highest number of TV Shows & Movies ? **(no explanation needed)**"
   ]
  },
  {
   "cell_type": "code",
   "execution_count": 383,
   "id": "4d6dbb0b",
   "metadata": {},
   "outputs": [],
   "source": [
    "top_5_directors = merged_movies['director'].value_counts().head(5)"
   ]
  },
  {
   "cell_type": "code",
   "execution_count": 385,
   "id": "c74d392f",
   "metadata": {},
   "outputs": [
    {
     "data": {
      "text/plain": [
       "director\n",
       "Unknown                   2634\n",
       "Rajiv Chilaka               19\n",
       "Raúl Campos, Jan Suter      18\n",
       "Suhas Kadav                 16\n",
       "Marcus Raboy                16\n",
       "Name: count, dtype: int64"
      ]
     },
     "execution_count": 385,
     "metadata": {},
     "output_type": "execute_result"
    }
   ],
   "source": [
    "top_5_directors"
   ]
  },
  {
   "cell_type": "markdown",
   "id": "3a167b2a",
   "metadata": {},
   "source": [
    "Q16. In how many movies/shows, Tom Cruise was casted? Display the records **(no explanation needed)**"
   ]
  },
  {
   "cell_type": "code",
   "execution_count": 388,
   "id": "be11ce0b",
   "metadata": {},
   "outputs": [],
   "source": [
    "tom_cruise_movies = merged_movies[merged_movies['cast'].str.contains('Tom Cruise', na=False)]"
   ]
  },
  {
   "cell_type": "code",
   "execution_count": 390,
   "id": "bee87713",
   "metadata": {},
   "outputs": [
    {
     "data": {
      "text/plain": [
       "2"
      ]
     },
     "execution_count": 390,
     "metadata": {},
     "output_type": "execute_result"
    }
   ],
   "source": [
    "tom_cruise_movies.shape[0]"
   ]
  },
  {
   "cell_type": "markdown",
   "id": "8dd46777",
   "metadata": {},
   "source": [
    "Q17. Create a distribution plot (histogram) for **ratings** TV-14 and TV-MA and **type** (Hint: use **x** for rating and **hue** for type) <br>\n",
    "**(no explanation needed)**"
   ]
  },
  {
   "cell_type": "code",
   "execution_count": 393,
   "id": "8382f6e0",
   "metadata": {},
   "outputs": [],
   "source": [
    "filtered_data = merged_movies[merged_movies['rating'].isin(['TV-14', 'TV-MA'])]"
   ]
  },
  {
   "cell_type": "code",
   "execution_count": 395,
   "id": "3282d1b1",
   "metadata": {},
   "outputs": [
    {
     "data": {
      "image/png": "[encoded data removed]",
      "text/plain": [
       "<Figure size 1000x600 with 1 Axes>"
      ]
     },
     "metadata": {},
     "output_type": "display_data"
    }
   ],
   "source": [
    "plt.figure(figsize=(10, 6))\n",
    "sns.histplot(data=filtered_data, x='rating', hue='type', multiple='stack', binwidth=0.5)\n",
    "plt.title('Distribution of TV-14 and TV-MA Ratings by their Type')\n",
    "plt.xlabel('Rating')\n",
    "plt.ylabel('Count')\n",
    "plt.show()"
   ]
  },
  {
   "cell_type": "markdown",
   "id": "d9a965eb",
   "metadata": {},
   "source": [
    "Q18. Use a boxplot visualisation technique to see the highest, lowest and average **score** with the **type**? **Briefly explain your boxplot**"
   ]
  },
  {
   "cell_type": "code",
   "execution_count": 398,
   "id": "cc87866d",
   "metadata": {},
   "outputs": [
    {
     "data": {
      "image/png": "[encoded data removed]",
      "text/plain": [
       "<Figure size 1000x600 with 1 Axes>"
      ]
     },
     "metadata": {},
     "output_type": "display_data"
    }
   ],
   "source": [
    "plt.figure(figsize=(10, 6))\n",
    "sns.boxplot(data=merged_movies, x='type', y='score')\n",
    "plt.title('Distribution of Scores by Type')\n",
    "plt.xlabel('Type')\n",
    "plt.ylabel('Score')\n",
    "plt.show()"
   ]
  },
  {
   "cell_type": "markdown",
   "id": "bba2e560-17a2-427c-a892-802c1158d67f",
   "metadata": {},
   "source": [
    "The boxplot demonstrates that the median score for TV series and films is near 6. Both types interquartile ranges are comparable, meaning that half of the scores fall between about 5 and 7. Compared to TV shows, films have a significantly larger range, with a few low outliers below 2. "
   ]
  },
  {
   "cell_type": "markdown",
   "id": "7b760a5a",
   "metadata": {},
   "source": [
    "Q19. Use any visualization technique (think of any suitable plot) which can justify/show that \"As the **score** increases, the **popularity** also increases proportionally\". **Explain your findings in your plot**"
   ]
  },
  {
   "cell_type": "code",
   "execution_count": 402,
   "id": "53039832",
   "metadata": {},
   "outputs": [
    {
     "data": {
      "image/png": "[encoded data removed]",
      "text/plain": [
       "<Figure size 1000x600 with 1 Axes>"
      ]
     },
     "metadata": {},
     "output_type": "display_data"
    }
   ],
   "source": [
    "plt.figure(figsize=(10, 6))\n",
    "sns.scatterplot(data=merged_movies, x='score', y='popularity', hue='type', alpha=0.7)\n",
    "plt.title('Relationship b/w Score and Popularity')\n",
    "plt.xlabel('Score')\n",
    "plt.ylabel('Popularity')\n",
    "plt.show()"
   ]
  },
  {
   "cell_type": "markdown",
   "id": "f27d950f-1d8e-452f-8a21-ed65f0e4b426",
   "metadata": {},
   "source": [
    "As the score increases, the popularity also rises proportionally, forming a linear pattern. This suggests that films and TV series with higher ratings are typically more popular, validating the link between public interest (popularity) and quality (scoring)."
   ]
  },
  {
   "cell_type": "markdown",
   "id": "040552a3",
   "metadata": {},
   "source": [
    "Q20. Generate a correlation plot between **score** and **popularity**. **Briefly explain your findings?**"
   ]
  },
  {
   "cell_type": "code",
   "execution_count": 406,
   "id": "70dd9d11",
   "metadata": {},
   "outputs": [
    {
     "data": {
      "image/png": "[encoded data removed]",
      "text/plain": [
       "<Figure size 800x600 with 2 Axes>"
      ]
     },
     "metadata": {},
     "output_type": "display_data"
    }
   ],
   "source": [
    "plt.figure(figsize=(8, 6))\n",
    "sns.heatmap(merged_movies[['score', 'popularity']].corr(), annot=True, cmap='Blues')\n",
    "plt.title('Correlation b/w Score and Popularity')\n",
    "plt.show()"
   ]
  },
  {
   "cell_type": "markdown",
   "id": "6808b813-5113-4a57-8b8e-c071aaae92e8",
   "metadata": {},
   "source": [
    "A strong positive connection of 0.97 is seen in the heatmap between score and popularity. This number suggests a strong linear association, which means that as the popularity of films or TV shows rises it usually does so at a faster rate. Stated differently, content with higher ratings tends to be more popular, indicating that higher ratings are positively correlated with more audience interest and engagement\r\n"
   ]
  },
  {
   "cell_type": "markdown",
   "id": "cdc9d3a9",
   "metadata": {},
   "source": [
    "Q21. Test the Hypothesis and explain your findings: <br> H0: the score of **type** = TV Show and **type** = Movie is same (equal or similar). <br>\n",
    "Ha: the score of **type** = TV Show is greater than **type** = Movie <br>\n",
    "**Briefly explain your conclusion**"
   ]
  },
  {
   "cell_type": "code",
   "execution_count": 260,
   "id": "4921fc66",
   "metadata": {},
   "outputs": [],
   "source": [
    "tv_show_scores = merged_movies[merged_movies['type'] == 'TV Show']['score']"
   ]
  },
  {
   "cell_type": "code",
   "execution_count": 262,
   "id": "4944bb5c",
   "metadata": {},
   "outputs": [],
   "source": [
    "movie_scores = merged_movies[merged_movies['type'] == 'Movie']['score']"
   ]
  },
  {
   "cell_type": "code",
   "execution_count": 266,
   "id": "50363935",
   "metadata": {},
   "outputs": [
    {
     "data": {
      "text/plain": [
       "TtestResult(statistic=7.393432583833722, pvalue=7.808967875701054e-14, df=8805.0)"
      ]
     },
     "execution_count": 266,
     "metadata": {},
     "output_type": "execute_result"
    }
   ],
   "source": [
    "ttest_ind(tv_show_scores, movie_scores, alternative='greater')"
   ]
  },
  {
   "cell_type": "markdown",
   "id": "04b49505-93fe-47eb-adb7-a176210ea6bc",
   "metadata": {},
   "source": [
    "This pvalue is much smaller than 0.05, we reject the null hypothesis, concluding that TV Shows have a higher average score compared to Movies."
   ]
  },
  {
   "cell_type": "markdown",
   "id": "b130cce8",
   "metadata": {},
   "source": [
    "Q22. Test the Hypothesis and explain your findings: <br> H0: **type** and **country** are independent and are not related to each other <br>\n",
    "Ha: **type** and **country** are dependent and related to each other <br>\n",
    "**Briefly explain your conclusion**"
   ]
  },
  {
   "cell_type": "code",
   "execution_count": 270,
   "id": "ec2a249c",
   "metadata": {},
   "outputs": [],
   "source": [
    "contingency_table = pd.crosstab(merged_movies['type'], merged_movies['country'])"
   ]
  },
  {
   "cell_type": "code",
   "execution_count": 280,
   "id": "4a1dda57",
   "metadata": {},
   "outputs": [
    {
     "data": {
      "text/plain": [
       "6.511460628402202e-94"
      ]
     },
     "execution_count": 280,
     "metadata": {},
     "output_type": "execute_result"
    }
   ],
   "source": [
    "chi2, p, dof, ex = chi2_contingency(contingency_table)\n",
    "p"
   ]
  },
  {
   "cell_type": "markdown",
   "id": "c7f87f55-cccf-437d-a6b7-86a7b5c75a8c",
   "metadata": {},
   "source": [
    "Since the pvalue is much less than 0.05, we reject the null hypothesis and accept alternative hypothesis, concluding that type and country are not independent and are. This means the distribution of TV Shows and Movies varies significantly depending on the country"
   ]
  }
 ],
 "metadata": {
  "kernelspec": {
   "display_name": "Python 3 (ipykernel)",
   "language": "python",
   "name": "python3"
  },
  "language_info": {
   "codemirror_mode": {
    "name": "ipython",
    "version": 3
   },
   "file_extension": ".py",
   "mimetype": "text/x-python",
   "name": "python",
   "nbconvert_exporter": "python",
   "pygments_lexer": "ipython3",
   "version": "3.12.4"
  }
 },
 "nbformat": 4,
 "nbformat_minor": 5
}
